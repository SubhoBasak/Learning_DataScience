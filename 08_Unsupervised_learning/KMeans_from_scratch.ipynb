{
 "cells": [
  {
   "cell_type": "code",
   "execution_count": 1,
   "metadata": {},
   "outputs": [],
   "source": [
    "import math\n",
    "import time\n",
    "import random\n",
    "import numpy as np\n",
    "import matplotlib.pyplot as plt\n",
    "from sklearn.datasets import make_blobs"
   ]
  },
  {
   "cell_type": "code",
   "execution_count": 2,
   "metadata": {},
   "outputs": [],
   "source": [
    "# blob_centers = np.array([\n",
    "#     [2, 3], [3, 1], [1, 2]\n",
    "# ])\n",
    "\n",
    "# blob_std = np.array([0.3, 0.2, 0.3])\n",
    "\n",
    "# X, y = make_blobs(n_samples = 200, centers = blob_centers, cluster_std = blob_std, random_state = 11)\n",
    "\n",
    "X, y = make_blobs(centers = 3)"
   ]
  },
  {
   "cell_type": "code",
   "execution_count": 3,
   "metadata": {},
   "outputs": [
    {
     "name": "stdout",
     "output_type": "stream",
     "text": [
      "1\n"
     ]
    },
    {
     "data": {
      "text/plain": [
       "<matplotlib.collections.PathCollection at 0x1ea2a4ee400>"
      ]
     },
     "execution_count": 3,
     "metadata": {},
     "output_type": "execute_result"
    },
    {
     "data": {
      "image/png": "[encoded data removed]",
      "text/plain": [
       "<Figure size 432x288 with 1 Axes>"
      ]
     },
     "metadata": {
      "needs_background": "light"
     },
     "output_type": "display_data"
    }
   ],
   "source": [
    "n_centers = 3\n",
    "n_feat = 2\n",
    "center_list = []\n",
    "belongs_to = []\n",
    "\n",
    "def nearest_center(x):\n",
    "    dis = float('inf')\n",
    "    cen = None\n",
    "    for n, c in enumerate(center_list):\n",
    "        m = 0\n",
    "        for i in range(n_feat):\n",
    "            m += (x[i]-c[i])**2\n",
    "        m = math.sqrt(m)\n",
    "        if m < dis:\n",
    "            dis = m\n",
    "            cen = n\n",
    "    return cen\n",
    "\n",
    "def assign_center():\n",
    "    global belongs_to\n",
    "    for i, j in enumerate(X):\n",
    "        belongs_to[i] = nearest_center(j)\n",
    "\n",
    "def new_center():\n",
    "    for c in range(n_centers):\n",
    "        m = X[belongs_to == c]\n",
    "        if len(m) != 0:\n",
    "            center_list[c] = m.mean(axis = 0)\n",
    "\n",
    "def check_center():\n",
    "    flag = 0\n",
    "    for i in range(n_centers):\n",
    "        for j in range(n_feat):\n",
    "            if prv[i][j] != center_list[i][j]:\n",
    "                flag = 1\n",
    "                break\n",
    "    if flag:\n",
    "        return False\n",
    "    return True\n",
    "\n",
    "for k in range(n_centers):\n",
    "    center_list.append([])\n",
    "    for f in range(n_feat):\n",
    "        center_list[k].append(random.sample(list(X[:, f]), 1)[0])\n",
    "center_list = np.array(center_list)\n",
    "\n",
    "for i in X:\n",
    "    belongs_to.append(nearest_center(i))\n",
    "belongs_to = np.array(belongs_to)\n",
    "\n",
    "prv = center_list.copy()\n",
    "count = 0\n",
    "for i in range(5):\n",
    "    assign_center()\n",
    "    new_center()\n",
    "    if check_center():\n",
    "        break\n",
    "    else:\n",
    "        prv = center_list.copy()\n",
    "    count += 1\n",
    "print(count)\n",
    "    \n",
    "plt.scatter(X[:, 0], X[:, 1])\n",
    "plt.scatter(center_list[:, 0], center_list[:, 1])"
   ]
  },
  {
   "cell_type": "code",
   "execution_count": 7,
   "metadata": {},
   "outputs": [
    {
     "data": {
      "text/plain": [
       "array([[-5.14728702, -8.95137814],\n",
       "       [-0.92128543,  5.10393852],\n",
       "       [ 6.64225456, -8.36581308]])"
      ]
     },
     "execution_count": 7,
     "metadata": {},
     "output_type": "execute_result"
    }
   ],
   "source": [
    "from sklearn.cluster import KMeans"
   ]
  },
  {
   "cell_type": "code",
   "execution_count": 5,
   "metadata": {},
   "outputs": [
    {
     "data": {
      "text/plain": [
       "KMeans(algorithm='auto', copy_x=True, init='k-means++', max_iter=300,\n",
       "       n_clusters=3, n_init=10, n_jobs=None, precompute_distances='auto',\n",
       "       random_state=None, tol=0.0001, verbose=0)"
      ]
     },
     "execution_count": 5,
     "metadata": {},
     "output_type": "execute_result"
    }
   ],
   "source": [
    "kmeans2 = KMeans(n_clusters = 3)\n",
    "kmeans2.fit(X)"
   ]
  },
  {
   "cell_type": "code",
   "execution_count": 6,
   "metadata": {},
   "outputs": [
    {
     "data": {
      "text/plain": [
       "<matplotlib.collections.PathCollection at 0x1ea2a9ce828>"
      ]
     },
     "execution_count": 6,
     "metadata": {},
     "output_type": "execute_result"
    },
    {
     "data": {
      "image/png": "[encoded data removed]",
      "text/plain": [
       "<Figure size 432x288 with 1 Axes>"
      ]
     },
     "metadata": {
      "needs_background": "light"
     },
     "output_type": "display_data"
    }
   ],
   "source": [
    "plt.scatter(X[:, 0], X[:, 1])\n",
    "plt.scatter(kmeans2.cluster_centers_[:, 0], kmeans2.cluster_centers_[:, 1])"
   ]
  },
  {
   "cell_type": "code",
   "execution_count": null,
   "metadata": {},
   "outputs": [],
   "source": []
  }
 ],
 "metadata": {
  "kernelspec": {
   "display_name": "Python 3",
   "language": "python",
   "name": "python3"
  },
  "language_info": {
   "codemirror_mode": {
    "name": "ipython",
    "version": 3
   },
   "file_extension": ".py",
   "mimetype": "text/x-python",
   "name": "python",
   "nbconvert_exporter": "python",
   "pygments_lexer": "ipython3",
   "version": "3.7.3"
  }
 },
 "nbformat": 4,
 "nbformat_minor": 2
}
