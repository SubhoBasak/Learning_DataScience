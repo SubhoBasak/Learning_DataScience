{
 "cells": [
  {
   "cell_type": "code",
   "execution_count": 1,
   "metadata": {},
   "outputs": [],
   "source": [
    "import numpy as np\n",
    "import tensorflow as tf\n",
    "import tensorflow.keras as keras"
   ]
  },
  {
   "cell_type": "code",
   "execution_count": 2,
   "metadata": {},
   "outputs": [],
   "source": [
    "class CLoss(keras.losses.Loss):\n",
    "    def __init__(self, threshold = 0.1, **kwargs):\n",
    "        super().__init__(**kwargs)\n",
    "        self.threshold = tf.constant(threshold, dtype = tf.float32)\n",
    "    \n",
    "    def call(self, y_true, y_pred):\n",
    "        y_true = tf.constant(y_true, dtype = tf.float32)\n",
    "        y_pred = tf.constant(y_pred, dtype = tf.float32)\n",
    "        error = tf.abs(tf.subtract(y_true, y_pred))\n",
    "        error = error[tf.greater(error, self.threshold)]\n",
    "        return tf.divide(tf.reduce_sum(tf.subtract(error, self.threshold)), y_pred.shape[0])\n",
    "    \n",
    "    def get_config(self):\n",
    "        base_config = super().get_config()\n",
    "        return {**base_config, 'threshold': self.threshold.numpy()}"
   ]
  },
  {
   "cell_type": "code",
   "execution_count": 3,
   "metadata": {},
   "outputs": [
    {
     "data": {
      "text/plain": [
       "{'reduction': 'auto', 'name': None, 'threshold': 0.1}"
      ]
     },
     "execution_count": 3,
     "metadata": {},
     "output_type": "execute_result"
    }
   ],
   "source": [
    "closs = CLoss()\n",
    "closs.get_config()"
   ]
  },
  {
   "cell_type": "code",
   "execution_count": 4,
   "metadata": {},
   "outputs": [
    {
     "data": {
      "text/plain": [
       "<tf.Tensor: shape=(), dtype=float32, numpy=0.43999997>"
      ]
     },
     "execution_count": 4,
     "metadata": {},
     "output_type": "execute_result"
    }
   ],
   "source": [
    "closs.call([1, 2, 3, 4, 5], [1.5, 3, 2, 4, 5])"
   ]
  },
  {
   "cell_type": "code",
   "execution_count": 5,
   "metadata": {},
   "outputs": [],
   "source": [
    "class CMetric(keras.metrics.Metric):\n",
    "    def __init__(self, threshold = 0.1, **kwargs):\n",
    "        super().__init__(**kwargs)\n",
    "        self.threshold = tf.constant(threshold, dtype = tf.float32)\n",
    "        self.error = self.add_weight('error', initializer = 'zeros')\n",
    "        self.count = self.add_weight('count', initializer = 'zeros')\n",
    "    \n",
    "    def update_state(self, y_true, y_pred):\n",
    "        y_true = tf.constant(y_true, dtype = tf.float32)\n",
    "        y_pred = tf.constant(y_pred, dtype = tf.float32)\n",
    "        \n",
    "        error = tf.abs(tf.subtract(y_true, y_pred))\n",
    "        error = tf.subtract(error[tf.greater(error, self.threshold)], self.threshold)\n",
    "        \n",
    "        self.error.assign_add(tf.reduce_sum(error))\n",
    "        self.count.assign_add(y_pred.shape[0])\n",
    "    \n",
    "    def result(self):\n",
    "        return tf.divide(self.error, self.count)\n",
    "    \n",
    "    def get_config(self):\n",
    "        base_config = super().get_config()\n",
    "        return {**base_config, 'threshold': self.threshold.numpy()}"
   ]
  },
  {
   "cell_type": "code",
   "execution_count": 6,
   "metadata": {},
   "outputs": [],
   "source": [
    "cmetric = CMetric()"
   ]
  },
  {
   "cell_type": "code",
   "execution_count": 7,
   "metadata": {},
   "outputs": [
    {
     "data": {
      "text/plain": [
       "{'name': 'c_metric', 'dtype': 'float32', 'threshold': 0.1}"
      ]
     },
     "execution_count": 7,
     "metadata": {},
     "output_type": "execute_result"
    }
   ],
   "source": [
    "cmetric.get_config()"
   ]
  },
  {
   "cell_type": "code",
   "execution_count": 8,
   "metadata": {},
   "outputs": [
    {
     "data": {
      "text/plain": [
       "<tf.Tensor: shape=(), dtype=float32, numpy=0.4>"
      ]
     },
     "execution_count": 8,
     "metadata": {},
     "output_type": "execute_result"
    }
   ],
   "source": [
    "cmetric.update_state([1,], [1.5])\n",
    "cmetric.result()"
   ]
  },
  {
   "cell_type": "code",
   "execution_count": 9,
   "metadata": {},
   "outputs": [
    {
     "data": {
      "text/plain": [
       "<tf.Tensor: shape=(), dtype=float32, numpy=0.65>"
      ]
     },
     "execution_count": 9,
     "metadata": {},
     "output_type": "execute_result"
    }
   ],
   "source": [
    "cmetric.update_state([2,], [3,])\n",
    "cmetric.result()"
   ]
  },
  {
   "cell_type": "code",
   "execution_count": 10,
   "metadata": {},
   "outputs": [
    {
     "data": {
      "text/plain": [
       "<tf.Tensor: shape=(), dtype=float32, numpy=0.7333333>"
      ]
     },
     "execution_count": 10,
     "metadata": {},
     "output_type": "execute_result"
    }
   ],
   "source": [
    "cmetric.update_state([3,], [2,])\n",
    "cmetric.result()"
   ]
  },
  {
   "cell_type": "code",
   "execution_count": 11,
   "metadata": {},
   "outputs": [
    {
     "data": {
      "text/plain": [
       "<tf.Tensor: shape=(), dtype=float32, numpy=0.43999997>"
      ]
     },
     "execution_count": 11,
     "metadata": {},
     "output_type": "execute_result"
    }
   ],
   "source": [
    "cmetric.update_state([4, 5], [4, 5])\n",
    "cmetric.result()"
   ]
  },
  {
   "cell_type": "code",
   "execution_count": 12,
   "metadata": {},
   "outputs": [],
   "source": [
    "class MyDense(keras.layers.Layer):\n",
    "    def __init__(self, units, activation = None, **kwargs):\n",
    "        super().__init__(**kwargs)\n",
    "        self.units = units\n",
    "        kself.acttivation = keras.activations.get(activations)\n",
    "    \n",
    "    def build(self, batch_input_shape):\n",
    "        self.kernel = self.add_weight(\n",
    "            name = \"kernel\", shape = [batch_input_shape[-1], self.units],\n",
    "            initializer = 'glorot_normal')\n",
    "        self.bias = self.add_weight(\n",
    "            name = 'bian', shape = [self.units],\n",
    "            initializer = 'zeros')\n",
    "    \n",
    "    def call(self, X):\n",
    "        return self.activation(X@self.kernel+self.bias)\n",
    "    \n",
    "    def compute_output_shape(self, batch_input_shape):\n",
    "        return tf.TensorShape(batch_input_shape.as_list()[:-1]+\n",
    "                             [self.units])\n",
    "    \n",
    "    def get_config(self):\n",
    "        base_config = super().get_config()\n",
    "        return {**base_config, 'units': self.units,\n",
    "               'activation': keras.activations.serialize(self.activation)}"
   ]
  },
  {
   "cell_type": "code",
   "execution_count": null,
   "metadata": {},
   "outputs": [],
   "source": []
  },
  {
   "cell_type": "code",
   "execution_count": null,
   "metadata": {},
   "outputs": [],
   "source": []
  }
 ],
 "metadata": {
  "kernelspec": {
   "display_name": "Python 3",
   "language": "python",
   "name": "python3"
  },
  "language_info": {
   "codemirror_mode": {
    "name": "ipython",
    "version": 3
   },
   "file_extension": ".py",
   "mimetype": "text/x-python",
   "name": "python",
   "nbconvert_exporter": "python",
   "pygments_lexer": "ipython3",
   "version": "3.7.3"
  }
 },
 "nbformat": 4,
 "nbformat_minor": 2
}
