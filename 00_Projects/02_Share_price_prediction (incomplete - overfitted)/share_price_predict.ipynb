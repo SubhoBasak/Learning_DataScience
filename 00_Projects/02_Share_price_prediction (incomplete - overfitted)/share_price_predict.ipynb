{
 "cells": [
  {
   "cell_type": "code",
   "execution_count": 1,
   "metadata": {},
   "outputs": [],
   "source": [
    "import numpy as np\n",
    "import pandas as pd\n",
    "import matplotlib.pyplot as plt\n",
    "import matplotlib.dates as mdates"
   ]
  },
  {
   "cell_type": "code",
   "execution_count": 2,
   "metadata": {},
   "outputs": [
    {
     "data": {
      "text/html": [
       "<div>\n",
       "<style scoped>\n",
       "    .dataframe tbody tr th:only-of-type {\n",
       "        vertical-align: middle;\n",
       "    }\n",
       "\n",
       "    .dataframe tbody tr th {\n",
       "        vertical-align: top;\n",
       "    }\n",
       "\n",
       "    .dataframe thead th {\n",
       "        text-align: right;\n",
       "    }\n",
       "</style>\n",
       "<table border=\"1\" class=\"dataframe\">\n",
       "  <thead>\n",
       "    <tr style=\"text-align: right;\">\n",
       "      <th></th>\n",
       "      <th>Date</th>\n",
       "      <th>series</th>\n",
       "      <th>OPEN</th>\n",
       "      <th>HIGH</th>\n",
       "      <th>LOW</th>\n",
       "      <th>PREV. CLOSE</th>\n",
       "      <th>ltp</th>\n",
       "      <th>close</th>\n",
       "      <th>vwap</th>\n",
       "      <th>52W H</th>\n",
       "      <th>52W L</th>\n",
       "      <th>VOLUME</th>\n",
       "      <th>VALUE</th>\n",
       "      <th>No of trades</th>\n",
       "    </tr>\n",
       "  </thead>\n",
       "  <tbody>\n",
       "    <tr>\n",
       "      <th>0</th>\n",
       "      <td>28-Feb-2020</td>\n",
       "      <td>EQ</td>\n",
       "      <td>750.00</td>\n",
       "      <td>756.80</td>\n",
       "      <td>722.05</td>\n",
       "      <td>777.85</td>\n",
       "      <td>732.00</td>\n",
       "      <td>731.70</td>\n",
       "      <td>738.68</td>\n",
       "      <td>847.00</td>\n",
       "      <td>615.1</td>\n",
       "      <td>14123957</td>\n",
       "      <td>10,433,101,671.40</td>\n",
       "      <td>277778</td>\n",
       "    </tr>\n",
       "    <tr>\n",
       "      <th>1</th>\n",
       "      <td>27-Feb-2020</td>\n",
       "      <td>EQ</td>\n",
       "      <td>778.00</td>\n",
       "      <td>780.75</td>\n",
       "      <td>772.20</td>\n",
       "      <td>782.75</td>\n",
       "      <td>776.55</td>\n",
       "      <td>777.85</td>\n",
       "      <td>777.16</td>\n",
       "      <td>847.00</td>\n",
       "      <td>615.1</td>\n",
       "      <td>5223386</td>\n",
       "      <td>4,059,425,154.50</td>\n",
       "      <td>100716</td>\n",
       "    </tr>\n",
       "    <tr>\n",
       "      <th>2</th>\n",
       "      <td>26-Feb-2020</td>\n",
       "      <td>EQ</td>\n",
       "      <td>793.95</td>\n",
       "      <td>801.45</td>\n",
       "      <td>780.50</td>\n",
       "      <td>798.40</td>\n",
       "      <td>782.25</td>\n",
       "      <td>782.75</td>\n",
       "      <td>791.65</td>\n",
       "      <td>847.00</td>\n",
       "      <td>615.1</td>\n",
       "      <td>8760569</td>\n",
       "      <td>6,935,314,353.15</td>\n",
       "      <td>168481</td>\n",
       "    </tr>\n",
       "    <tr>\n",
       "      <th>3</th>\n",
       "      <td>25-Feb-2020</td>\n",
       "      <td>EQ</td>\n",
       "      <td>799.00</td>\n",
       "      <td>806.00</td>\n",
       "      <td>795.40</td>\n",
       "      <td>795.85</td>\n",
       "      <td>799.50</td>\n",
       "      <td>798.40</td>\n",
       "      <td>799.93</td>\n",
       "      <td>847.00</td>\n",
       "      <td>615.1</td>\n",
       "      <td>6996695</td>\n",
       "      <td>5,596,900,401.25</td>\n",
       "      <td>114637</td>\n",
       "    </tr>\n",
       "    <tr>\n",
       "      <th>4</th>\n",
       "      <td>24-Feb-2020</td>\n",
       "      <td>EQ</td>\n",
       "      <td>800.10</td>\n",
       "      <td>811.60</td>\n",
       "      <td>792.15</td>\n",
       "      <td>797.00</td>\n",
       "      <td>795.90</td>\n",
       "      <td>795.85</td>\n",
       "      <td>804.05</td>\n",
       "      <td>847.00</td>\n",
       "      <td>615.1</td>\n",
       "      <td>6627536</td>\n",
       "      <td>5,328,879,149.90</td>\n",
       "      <td>130286</td>\n",
       "    </tr>\n",
       "  </tbody>\n",
       "</table>\n",
       "</div>"
      ],
      "text/plain": [
       "         Date  series    OPEN    HIGH     LOW   PREV. CLOSE     ltp   close   \\\n",
       "0  28-Feb-2020      EQ  750.00  756.80  722.05        777.85  732.00  731.70   \n",
       "1  27-Feb-2020      EQ  778.00  780.75  772.20        782.75  776.55  777.85   \n",
       "2  26-Feb-2020      EQ  793.95  801.45  780.50        798.40  782.25  782.75   \n",
       "3  25-Feb-2020      EQ  799.00  806.00  795.40        795.85  799.50  798.40   \n",
       "4  24-Feb-2020      EQ  800.10  811.60  792.15        797.00  795.90  795.85   \n",
       "\n",
       "    vwap   52W H   52W L    VOLUME              VALUE   No of trades   \n",
       "0  738.68  847.00   615.1  14123957  10,433,101,671.40         277778  \n",
       "1  777.16  847.00   615.1   5223386   4,059,425,154.50         100716  \n",
       "2  791.65  847.00   615.1   8760569   6,935,314,353.15         168481  \n",
       "3  799.93  847.00   615.1   6996695   5,596,900,401.25         114637  \n",
       "4  804.05  847.00   615.1   6627536   5,328,879,149.90         130286  "
      ]
     },
     "execution_count": 2,
     "metadata": {},
     "output_type": "execute_result"
    }
   ],
   "source": [
    "df = pd.read_csv('share_price_data.csv')\n",
    "df.head(5)"
   ]
  },
  {
   "cell_type": "code",
   "execution_count": 3,
   "metadata": {},
   "outputs": [
    {
     "name": "stdout",
     "output_type": "stream",
     "text": [
      "<class 'pandas.core.frame.DataFrame'>\n",
      "RangeIndex: 245 entries, 0 to 244\n",
      "Data columns (total 14 columns):\n",
      "Date             245 non-null object\n",
      "series           245 non-null object\n",
      "OPEN             245 non-null float64\n",
      "HIGH             245 non-null float64\n",
      "LOW              245 non-null float64\n",
      "PREV. CLOSE      245 non-null float64\n",
      "ltp              245 non-null float64\n",
      "close            245 non-null float64\n",
      "vwap             245 non-null float64\n",
      "52W H            245 non-null object\n",
      "52W L            245 non-null float64\n",
      "VOLUME           245 non-null int64\n",
      "VALUE            245 non-null object\n",
      "No of trades     245 non-null int64\n",
      "dtypes: float64(8), int64(2), object(4)\n",
      "memory usage: 26.9+ KB\n"
     ]
    }
   ],
   "source": [
    "df.info()"
   ]
  },
  {
   "cell_type": "code",
   "execution_count": 4,
   "metadata": {},
   "outputs": [
    {
     "data": {
      "text/html": [
       "<div>\n",
       "<style scoped>\n",
       "    .dataframe tbody tr th:only-of-type {\n",
       "        vertical-align: middle;\n",
       "    }\n",
       "\n",
       "    .dataframe tbody tr th {\n",
       "        vertical-align: top;\n",
       "    }\n",
       "\n",
       "    .dataframe thead th {\n",
       "        text-align: right;\n",
       "    }\n",
       "</style>\n",
       "<table border=\"1\" class=\"dataframe\">\n",
       "  <thead>\n",
       "    <tr style=\"text-align: right;\">\n",
       "      <th></th>\n",
       "      <th>OPEN</th>\n",
       "      <th>HIGH</th>\n",
       "      <th>LOW</th>\n",
       "      <th>PREV. CLOSE</th>\n",
       "      <th>ltp</th>\n",
       "      <th>close</th>\n",
       "      <th>vwap</th>\n",
       "      <th>52W L</th>\n",
       "      <th>VOLUME</th>\n",
       "      <th>No of trades</th>\n",
       "    </tr>\n",
       "  </thead>\n",
       "  <tbody>\n",
       "    <tr>\n",
       "      <th>count</th>\n",
       "      <td>245.000000</td>\n",
       "      <td>245.000000</td>\n",
       "      <td>245.000000</td>\n",
       "      <td>245.000000</td>\n",
       "      <td>245.000000</td>\n",
       "      <td>245.000000</td>\n",
       "      <td>245.000000</td>\n",
       "      <td>245.000000</td>\n",
       "      <td>2.450000e+02</td>\n",
       "      <td>2.450000e+02</td>\n",
       "    </tr>\n",
       "    <tr>\n",
       "      <th>mean</th>\n",
       "      <td>749.124286</td>\n",
       "      <td>756.273878</td>\n",
       "      <td>741.980816</td>\n",
       "      <td>749.137551</td>\n",
       "      <td>749.122857</td>\n",
       "      <td>749.126939</td>\n",
       "      <td>749.321878</td>\n",
       "      <td>603.833673</td>\n",
       "      <td>8.950865e+06</td>\n",
       "      <td>1.708187e+05</td>\n",
       "    </tr>\n",
       "    <tr>\n",
       "      <th>std</th>\n",
       "      <td>39.194788</td>\n",
       "      <td>39.310458</td>\n",
       "      <td>39.581893</td>\n",
       "      <td>39.645797</td>\n",
       "      <td>39.666702</td>\n",
       "      <td>39.650132</td>\n",
       "      <td>39.113374</td>\n",
       "      <td>6.713070</td>\n",
       "      <td>8.093399e+06</td>\n",
       "      <td>1.414842e+05</td>\n",
       "    </tr>\n",
       "    <tr>\n",
       "      <th>min</th>\n",
       "      <td>630.000000</td>\n",
       "      <td>652.500000</td>\n",
       "      <td>615.100000</td>\n",
       "      <td>635.350000</td>\n",
       "      <td>634.700000</td>\n",
       "      <td>635.350000</td>\n",
       "      <td>643.660000</td>\n",
       "      <td>599.850000</td>\n",
       "      <td>2.112415e+06</td>\n",
       "      <td>3.676900e+04</td>\n",
       "    </tr>\n",
       "    <tr>\n",
       "      <th>25%</th>\n",
       "      <td>720.000000</td>\n",
       "      <td>726.400000</td>\n",
       "      <td>712.600000</td>\n",
       "      <td>720.100000</td>\n",
       "      <td>720.000000</td>\n",
       "      <td>720.100000</td>\n",
       "      <td>719.310000</td>\n",
       "      <td>599.850000</td>\n",
       "      <td>5.447130e+06</td>\n",
       "      <td>1.105520e+05</td>\n",
       "    </tr>\n",
       "    <tr>\n",
       "      <th>50%</th>\n",
       "      <td>742.000000</td>\n",
       "      <td>748.400000</td>\n",
       "      <td>736.500000</td>\n",
       "      <td>742.650000</td>\n",
       "      <td>742.150000</td>\n",
       "      <td>742.650000</td>\n",
       "      <td>743.490000</td>\n",
       "      <td>599.850000</td>\n",
       "      <td>7.016424e+06</td>\n",
       "      <td>1.416540e+05</td>\n",
       "    </tr>\n",
       "    <tr>\n",
       "      <th>75%</th>\n",
       "      <td>782.000000</td>\n",
       "      <td>789.900000</td>\n",
       "      <td>774.400000</td>\n",
       "      <td>782.550000</td>\n",
       "      <td>782.250000</td>\n",
       "      <td>782.550000</td>\n",
       "      <td>781.010000</td>\n",
       "      <td>615.100000</td>\n",
       "      <td>9.733935e+06</td>\n",
       "      <td>1.835060e+05</td>\n",
       "    </tr>\n",
       "    <tr>\n",
       "      <th>max</th>\n",
       "      <td>843.300000</td>\n",
       "      <td>847.000000</td>\n",
       "      <td>835.050000</td>\n",
       "      <td>840.150000</td>\n",
       "      <td>840.250000</td>\n",
       "      <td>840.150000</td>\n",
       "      <td>840.490000</td>\n",
       "      <td>615.100000</td>\n",
       "      <td>9.015253e+07</td>\n",
       "      <td>1.643015e+06</td>\n",
       "    </tr>\n",
       "  </tbody>\n",
       "</table>\n",
       "</div>"
      ],
      "text/plain": [
       "            OPEN        HIGH         LOW   PREV. CLOSE         ltp   \\\n",
       "count  245.000000  245.000000  245.000000    245.000000  245.000000   \n",
       "mean   749.124286  756.273878  741.980816    749.137551  749.122857   \n",
       "std     39.194788   39.310458   39.581893     39.645797   39.666702   \n",
       "min    630.000000  652.500000  615.100000    635.350000  634.700000   \n",
       "25%    720.000000  726.400000  712.600000    720.100000  720.000000   \n",
       "50%    742.000000  748.400000  736.500000    742.650000  742.150000   \n",
       "75%    782.000000  789.900000  774.400000    782.550000  782.250000   \n",
       "max    843.300000  847.000000  835.050000    840.150000  840.250000   \n",
       "\n",
       "           close        vwap       52W L        VOLUME   No of trades   \n",
       "count  245.000000  245.000000  245.000000  2.450000e+02   2.450000e+02  \n",
       "mean   749.126939  749.321878  603.833673  8.950865e+06   1.708187e+05  \n",
       "std     39.650132   39.113374    6.713070  8.093399e+06   1.414842e+05  \n",
       "min    635.350000  643.660000  599.850000  2.112415e+06   3.676900e+04  \n",
       "25%    720.100000  719.310000  599.850000  5.447130e+06   1.105520e+05  \n",
       "50%    742.650000  743.490000  599.850000  7.016424e+06   1.416540e+05  \n",
       "75%    782.550000  781.010000  615.100000  9.733935e+06   1.835060e+05  \n",
       "max    840.150000  840.490000  615.100000  9.015253e+07   1.643015e+06  "
      ]
     },
     "execution_count": 4,
     "metadata": {},
     "output_type": "execute_result"
    }
   ],
   "source": [
    "df.describe()"
   ]
  },
  {
   "cell_type": "code",
   "execution_count": 5,
   "metadata": {},
   "outputs": [
    {
     "data": {
      "text/plain": [
       "Date              object\n",
       "series            object\n",
       "OPEN             float64\n",
       "HIGH             float64\n",
       "LOW              float64\n",
       "PREV. CLOSE      float64\n",
       "ltp              float64\n",
       "close            float64\n",
       "vwap             float64\n",
       "52W H             object\n",
       "52W L            float64\n",
       "VOLUME             int64\n",
       "VALUE             object\n",
       "No of trades       int64\n",
       "dtype: object"
      ]
     },
     "execution_count": 5,
     "metadata": {},
     "output_type": "execute_result"
    }
   ],
   "source": [
    "df.dtypes"
   ]
  },
  {
   "cell_type": "code",
   "execution_count": 6,
   "metadata": {},
   "outputs": [],
   "source": [
    "col_names = list(df)\n",
    "\n",
    "for i in range(len(col_names)):\n",
    "    col_names[i] = col_names[i].strip()\n",
    "\n",
    "df.columns = col_names\n",
    "del(col_names)\n",
    "\n",
    "df.drop('series', axis = 1, inplace = True)"
   ]
  },
  {
   "cell_type": "code",
   "execution_count": 7,
   "metadata": {},
   "outputs": [
    {
     "name": "stderr",
     "output_type": "stream",
     "text": [
      "C:\\Users\\subho\\Anaconda3\\lib\\site-packages\\pandas\\core\\indexing.py:205: SettingWithCopyWarning: \n",
      "A value is trying to be set on a copy of a slice from a DataFrame\n",
      "\n",
      "See the caveats in the documentation: http://pandas.pydata.org/pandas-docs/stable/user_guide/indexing.html#returning-a-view-versus-a-copy\n",
      "  self._setitem_with_indexer(indexer, value)\n"
     ]
    }
   ],
   "source": [
    "for col_name in ['52W H', 'VALUE']:\n",
    "    for i in range(len(df)):\n",
    "        df[col_name].loc[i] = df[col_name].loc[i].replace(',', '')"
   ]
  },
  {
   "cell_type": "code",
   "execution_count": 8,
   "metadata": {},
   "outputs": [],
   "source": [
    "df.to_csv('csv_data.csv', index = False)"
   ]
  },
  {
   "cell_type": "code",
   "execution_count": 9,
   "metadata": {},
   "outputs": [
    {
     "data": {
      "text/html": [
       "<div>\n",
       "<style scoped>\n",
       "    .dataframe tbody tr th:only-of-type {\n",
       "        vertical-align: middle;\n",
       "    }\n",
       "\n",
       "    .dataframe tbody tr th {\n",
       "        vertical-align: top;\n",
       "    }\n",
       "\n",
       "    .dataframe thead th {\n",
       "        text-align: right;\n",
       "    }\n",
       "</style>\n",
       "<table border=\"1\" class=\"dataframe\">\n",
       "  <thead>\n",
       "    <tr style=\"text-align: right;\">\n",
       "      <th></th>\n",
       "      <th>Date</th>\n",
       "      <th>OPEN</th>\n",
       "      <th>HIGH</th>\n",
       "      <th>LOW</th>\n",
       "      <th>PREV. CLOSE</th>\n",
       "      <th>ltp</th>\n",
       "      <th>close</th>\n",
       "      <th>vwap</th>\n",
       "      <th>52W H</th>\n",
       "      <th>52W L</th>\n",
       "      <th>VOLUME</th>\n",
       "      <th>VALUE</th>\n",
       "      <th>No of trades</th>\n",
       "    </tr>\n",
       "  </thead>\n",
       "  <tbody>\n",
       "    <tr>\n",
       "      <th>0</th>\n",
       "      <td>28-Feb-2020</td>\n",
       "      <td>750.00</td>\n",
       "      <td>756.80</td>\n",
       "      <td>722.05</td>\n",
       "      <td>777.85</td>\n",
       "      <td>732.00</td>\n",
       "      <td>731.70</td>\n",
       "      <td>738.68</td>\n",
       "      <td>847.0</td>\n",
       "      <td>615.1</td>\n",
       "      <td>14123957</td>\n",
       "      <td>1.043310e+10</td>\n",
       "      <td>277778</td>\n",
       "    </tr>\n",
       "    <tr>\n",
       "      <th>1</th>\n",
       "      <td>27-Feb-2020</td>\n",
       "      <td>778.00</td>\n",
       "      <td>780.75</td>\n",
       "      <td>772.20</td>\n",
       "      <td>782.75</td>\n",
       "      <td>776.55</td>\n",
       "      <td>777.85</td>\n",
       "      <td>777.16</td>\n",
       "      <td>847.0</td>\n",
       "      <td>615.1</td>\n",
       "      <td>5223386</td>\n",
       "      <td>4.059425e+09</td>\n",
       "      <td>100716</td>\n",
       "    </tr>\n",
       "    <tr>\n",
       "      <th>2</th>\n",
       "      <td>26-Feb-2020</td>\n",
       "      <td>793.95</td>\n",
       "      <td>801.45</td>\n",
       "      <td>780.50</td>\n",
       "      <td>798.40</td>\n",
       "      <td>782.25</td>\n",
       "      <td>782.75</td>\n",
       "      <td>791.65</td>\n",
       "      <td>847.0</td>\n",
       "      <td>615.1</td>\n",
       "      <td>8760569</td>\n",
       "      <td>6.935314e+09</td>\n",
       "      <td>168481</td>\n",
       "    </tr>\n",
       "    <tr>\n",
       "      <th>3</th>\n",
       "      <td>25-Feb-2020</td>\n",
       "      <td>799.00</td>\n",
       "      <td>806.00</td>\n",
       "      <td>795.40</td>\n",
       "      <td>795.85</td>\n",
       "      <td>799.50</td>\n",
       "      <td>798.40</td>\n",
       "      <td>799.93</td>\n",
       "      <td>847.0</td>\n",
       "      <td>615.1</td>\n",
       "      <td>6996695</td>\n",
       "      <td>5.596900e+09</td>\n",
       "      <td>114637</td>\n",
       "    </tr>\n",
       "    <tr>\n",
       "      <th>4</th>\n",
       "      <td>24-Feb-2020</td>\n",
       "      <td>800.10</td>\n",
       "      <td>811.60</td>\n",
       "      <td>792.15</td>\n",
       "      <td>797.00</td>\n",
       "      <td>795.90</td>\n",
       "      <td>795.85</td>\n",
       "      <td>804.05</td>\n",
       "      <td>847.0</td>\n",
       "      <td>615.1</td>\n",
       "      <td>6627536</td>\n",
       "      <td>5.328879e+09</td>\n",
       "      <td>130286</td>\n",
       "    </tr>\n",
       "  </tbody>\n",
       "</table>\n",
       "</div>"
      ],
      "text/plain": [
       "          Date    OPEN    HIGH     LOW  PREV. CLOSE     ltp   close    vwap  \\\n",
       "0  28-Feb-2020  750.00  756.80  722.05       777.85  732.00  731.70  738.68   \n",
       "1  27-Feb-2020  778.00  780.75  772.20       782.75  776.55  777.85  777.16   \n",
       "2  26-Feb-2020  793.95  801.45  780.50       798.40  782.25  782.75  791.65   \n",
       "3  25-Feb-2020  799.00  806.00  795.40       795.85  799.50  798.40  799.93   \n",
       "4  24-Feb-2020  800.10  811.60  792.15       797.00  795.90  795.85  804.05   \n",
       "\n",
       "   52W H  52W L    VOLUME         VALUE  No of trades  \n",
       "0  847.0  615.1  14123957  1.043310e+10        277778  \n",
       "1  847.0  615.1   5223386  4.059425e+09        100716  \n",
       "2  847.0  615.1   8760569  6.935314e+09        168481  \n",
       "3  847.0  615.1   6996695  5.596900e+09        114637  \n",
       "4  847.0  615.1   6627536  5.328879e+09        130286  "
      ]
     },
     "execution_count": 9,
     "metadata": {},
     "output_type": "execute_result"
    }
   ],
   "source": [
    "df = pd.read_csv('csv_data.csv')\n",
    "df.head(5)"
   ]
  },
  {
   "cell_type": "code",
   "execution_count": 10,
   "metadata": {},
   "outputs": [],
   "source": [
    "df['Date'] = pd.to_datetime(df['Date'])\n",
    "df.set_index('Date', inplace = True)"
   ]
  },
  {
   "cell_type": "code",
   "execution_count": 11,
   "metadata": {},
   "outputs": [
    {
     "data": {
      "text/html": [
       "<div>\n",
       "<style scoped>\n",
       "    .dataframe tbody tr th:only-of-type {\n",
       "        vertical-align: middle;\n",
       "    }\n",
       "\n",
       "    .dataframe tbody tr th {\n",
       "        vertical-align: top;\n",
       "    }\n",
       "\n",
       "    .dataframe thead th {\n",
       "        text-align: right;\n",
       "    }\n",
       "</style>\n",
       "<table border=\"1\" class=\"dataframe\">\n",
       "  <thead>\n",
       "    <tr style=\"text-align: right;\">\n",
       "      <th></th>\n",
       "      <th>OPEN</th>\n",
       "      <th>HIGH</th>\n",
       "      <th>LOW</th>\n",
       "      <th>PREV. CLOSE</th>\n",
       "      <th>ltp</th>\n",
       "      <th>close</th>\n",
       "      <th>vwap</th>\n",
       "      <th>52W H</th>\n",
       "      <th>52W L</th>\n",
       "      <th>VOLUME</th>\n",
       "      <th>VALUE</th>\n",
       "      <th>No of trades</th>\n",
       "    </tr>\n",
       "    <tr>\n",
       "      <th>Date</th>\n",
       "      <th></th>\n",
       "      <th></th>\n",
       "      <th></th>\n",
       "      <th></th>\n",
       "      <th></th>\n",
       "      <th></th>\n",
       "      <th></th>\n",
       "      <th></th>\n",
       "      <th></th>\n",
       "      <th></th>\n",
       "      <th></th>\n",
       "      <th></th>\n",
       "    </tr>\n",
       "  </thead>\n",
       "  <tbody>\n",
       "    <tr>\n",
       "      <th>2020-02-28</th>\n",
       "      <td>750.00</td>\n",
       "      <td>756.80</td>\n",
       "      <td>722.05</td>\n",
       "      <td>777.85</td>\n",
       "      <td>732.00</td>\n",
       "      <td>731.70</td>\n",
       "      <td>738.68</td>\n",
       "      <td>847.0</td>\n",
       "      <td>615.10</td>\n",
       "      <td>14123957</td>\n",
       "      <td>1.043310e+10</td>\n",
       "      <td>277778</td>\n",
       "    </tr>\n",
       "    <tr>\n",
       "      <th>2020-02-27</th>\n",
       "      <td>778.00</td>\n",
       "      <td>780.75</td>\n",
       "      <td>772.20</td>\n",
       "      <td>782.75</td>\n",
       "      <td>776.55</td>\n",
       "      <td>777.85</td>\n",
       "      <td>777.16</td>\n",
       "      <td>847.0</td>\n",
       "      <td>615.10</td>\n",
       "      <td>5223386</td>\n",
       "      <td>4.059425e+09</td>\n",
       "      <td>100716</td>\n",
       "    </tr>\n",
       "    <tr>\n",
       "      <th>2020-02-26</th>\n",
       "      <td>793.95</td>\n",
       "      <td>801.45</td>\n",
       "      <td>780.50</td>\n",
       "      <td>798.40</td>\n",
       "      <td>782.25</td>\n",
       "      <td>782.75</td>\n",
       "      <td>791.65</td>\n",
       "      <td>847.0</td>\n",
       "      <td>615.10</td>\n",
       "      <td>8760569</td>\n",
       "      <td>6.935314e+09</td>\n",
       "      <td>168481</td>\n",
       "    </tr>\n",
       "    <tr>\n",
       "      <th>2020-02-25</th>\n",
       "      <td>799.00</td>\n",
       "      <td>806.00</td>\n",
       "      <td>795.40</td>\n",
       "      <td>795.85</td>\n",
       "      <td>799.50</td>\n",
       "      <td>798.40</td>\n",
       "      <td>799.93</td>\n",
       "      <td>847.0</td>\n",
       "      <td>615.10</td>\n",
       "      <td>6996695</td>\n",
       "      <td>5.596900e+09</td>\n",
       "      <td>114637</td>\n",
       "    </tr>\n",
       "    <tr>\n",
       "      <th>2020-02-24</th>\n",
       "      <td>800.10</td>\n",
       "      <td>811.60</td>\n",
       "      <td>792.15</td>\n",
       "      <td>797.00</td>\n",
       "      <td>795.90</td>\n",
       "      <td>795.85</td>\n",
       "      <td>804.05</td>\n",
       "      <td>847.0</td>\n",
       "      <td>615.10</td>\n",
       "      <td>6627536</td>\n",
       "      <td>5.328879e+09</td>\n",
       "      <td>130286</td>\n",
       "    </tr>\n",
       "    <tr>\n",
       "      <th>...</th>\n",
       "      <td>...</td>\n",
       "      <td>...</td>\n",
       "      <td>...</td>\n",
       "      <td>...</td>\n",
       "      <td>...</td>\n",
       "      <td>...</td>\n",
       "      <td>...</td>\n",
       "      <td>...</td>\n",
       "      <td>...</td>\n",
       "      <td>...</td>\n",
       "      <td>...</td>\n",
       "      <td>...</td>\n",
       "    </tr>\n",
       "    <tr>\n",
       "      <th>2019-03-08</th>\n",
       "      <td>722.95</td>\n",
       "      <td>722.95</td>\n",
       "      <td>710.65</td>\n",
       "      <td>722.95</td>\n",
       "      <td>713.20</td>\n",
       "      <td>712.35</td>\n",
       "      <td>714.77</td>\n",
       "      <td>1467.9</td>\n",
       "      <td>599.85</td>\n",
       "      <td>7193994</td>\n",
       "      <td>5.142023e+09</td>\n",
       "      <td>154378</td>\n",
       "    </tr>\n",
       "    <tr>\n",
       "      <th>2019-03-07</th>\n",
       "      <td>734.00</td>\n",
       "      <td>734.50</td>\n",
       "      <td>720.55</td>\n",
       "      <td>732.50</td>\n",
       "      <td>723.30</td>\n",
       "      <td>722.95</td>\n",
       "      <td>724.84</td>\n",
       "      <td>1467.9</td>\n",
       "      <td>599.85</td>\n",
       "      <td>5951551</td>\n",
       "      <td>4.313907e+09</td>\n",
       "      <td>132988</td>\n",
       "    </tr>\n",
       "    <tr>\n",
       "      <th>2019-03-06</th>\n",
       "      <td>736.10</td>\n",
       "      <td>736.10</td>\n",
       "      <td>727.00</td>\n",
       "      <td>732.50</td>\n",
       "      <td>732.25</td>\n",
       "      <td>732.50</td>\n",
       "      <td>732.02</td>\n",
       "      <td>1467.9</td>\n",
       "      <td>599.85</td>\n",
       "      <td>6076668</td>\n",
       "      <td>4.448254e+09</td>\n",
       "      <td>201307</td>\n",
       "    </tr>\n",
       "    <tr>\n",
       "      <th>2019-03-05</th>\n",
       "      <td>740.50</td>\n",
       "      <td>742.50</td>\n",
       "      <td>730.25</td>\n",
       "      <td>741.90</td>\n",
       "      <td>732.75</td>\n",
       "      <td>732.50</td>\n",
       "      <td>734.79</td>\n",
       "      <td>1467.9</td>\n",
       "      <td>599.85</td>\n",
       "      <td>4826505</td>\n",
       "      <td>3.546464e+09</td>\n",
       "      <td>187167</td>\n",
       "    </tr>\n",
       "    <tr>\n",
       "      <th>2019-03-01</th>\n",
       "      <td>735.50</td>\n",
       "      <td>743.40</td>\n",
       "      <td>735.50</td>\n",
       "      <td>734.30</td>\n",
       "      <td>741.80</td>\n",
       "      <td>741.90</td>\n",
       "      <td>740.00</td>\n",
       "      <td>1467.9</td>\n",
       "      <td>599.85</td>\n",
       "      <td>3998826</td>\n",
       "      <td>2.959116e+09</td>\n",
       "      <td>86883</td>\n",
       "    </tr>\n",
       "  </tbody>\n",
       "</table>\n",
       "<p>245 rows × 12 columns</p>\n",
       "</div>"
      ],
      "text/plain": [
       "              OPEN    HIGH     LOW  PREV. CLOSE     ltp   close    vwap  \\\n",
       "Date                                                                      \n",
       "2020-02-28  750.00  756.80  722.05       777.85  732.00  731.70  738.68   \n",
       "2020-02-27  778.00  780.75  772.20       782.75  776.55  777.85  777.16   \n",
       "2020-02-26  793.95  801.45  780.50       798.40  782.25  782.75  791.65   \n",
       "2020-02-25  799.00  806.00  795.40       795.85  799.50  798.40  799.93   \n",
       "2020-02-24  800.10  811.60  792.15       797.00  795.90  795.85  804.05   \n",
       "...            ...     ...     ...          ...     ...     ...     ...   \n",
       "2019-03-08  722.95  722.95  710.65       722.95  713.20  712.35  714.77   \n",
       "2019-03-07  734.00  734.50  720.55       732.50  723.30  722.95  724.84   \n",
       "2019-03-06  736.10  736.10  727.00       732.50  732.25  732.50  732.02   \n",
       "2019-03-05  740.50  742.50  730.25       741.90  732.75  732.50  734.79   \n",
       "2019-03-01  735.50  743.40  735.50       734.30  741.80  741.90  740.00   \n",
       "\n",
       "             52W H   52W L    VOLUME         VALUE  No of trades  \n",
       "Date                                                              \n",
       "2020-02-28   847.0  615.10  14123957  1.043310e+10        277778  \n",
       "2020-02-27   847.0  615.10   5223386  4.059425e+09        100716  \n",
       "2020-02-26   847.0  615.10   8760569  6.935314e+09        168481  \n",
       "2020-02-25   847.0  615.10   6996695  5.596900e+09        114637  \n",
       "2020-02-24   847.0  615.10   6627536  5.328879e+09        130286  \n",
       "...            ...     ...       ...           ...           ...  \n",
       "2019-03-08  1467.9  599.85   7193994  5.142023e+09        154378  \n",
       "2019-03-07  1467.9  599.85   5951551  4.313907e+09        132988  \n",
       "2019-03-06  1467.9  599.85   6076668  4.448254e+09        201307  \n",
       "2019-03-05  1467.9  599.85   4826505  3.546464e+09        187167  \n",
       "2019-03-01  1467.9  599.85   3998826  2.959116e+09         86883  \n",
       "\n",
       "[245 rows x 12 columns]"
      ]
     },
     "execution_count": 11,
     "metadata": {},
     "output_type": "execute_result"
    }
   ],
   "source": [
    "df"
   ]
  },
  {
   "cell_type": "code",
   "execution_count": 12,
   "metadata": {},
   "outputs": [
    {
     "data": {
      "text/plain": [
       "<matplotlib.axes._subplots.AxesSubplot at 0x2042d40c630>"
      ]
     },
     "execution_count": 12,
     "metadata": {},
     "output_type": "execute_result"
    },
    {
     "data": {
      "image/png": "[encoded data removed]",
      "text/plain": [
       "<Figure size 720x504 with 1 Axes>"
      ]
     },
     "metadata": {
      "needs_background": "light"
     },
     "output_type": "display_data"
    }
   ],
   "source": [
    "df.plot(y = 'VALUE', figsize = (10, 7))"
   ]
  },
  {
   "cell_type": "code",
   "execution_count": 13,
   "metadata": {},
   "outputs": [],
   "source": [
    "df['MAX_RANGE'] = df['HIGH']-df['LOW']\n",
    "df['DAY_RANGE'] = df['OPEN']-df['close']\n",
    "df['AF_RANGE'] = df['PREV. CLOSE']-df['OPEN']"
   ]
  },
  {
   "cell_type": "code",
   "execution_count": 14,
   "metadata": {},
   "outputs": [
    {
     "data": {
      "text/plain": [
       "OPEN           -0.241315\n",
       "HIGH           -0.186924\n",
       "LOW            -0.309480\n",
       "PREV. CLOSE    -0.160679\n",
       "ltp            -0.254207\n",
       "close          -0.252346\n",
       "vwap           -0.246035\n",
       "52W H          -0.117733\n",
       "52W L          -0.151847\n",
       "VOLUME          0.995465\n",
       "VALUE           1.000000\n",
       "No of trades    0.930233\n",
       "MAX_RANGE       0.650573\n",
       "DAY_RANGE       0.058371\n",
       "AF_RANGE        0.402393\n",
       "Name: VALUE, dtype: float64"
      ]
     },
     "execution_count": 14,
     "metadata": {},
     "output_type": "execute_result"
    }
   ],
   "source": [
    "df.corr()['VALUE']"
   ]
  },
  {
   "cell_type": "code",
   "execution_count": 15,
   "metadata": {},
   "outputs": [],
   "source": [
    "from sklearn.linear_model import LinearRegression, Ridge, Lasso, ElasticNet\n",
    "from sklearn.tree import DecisionTreeRegressor, export_graphviz\n",
    "from sklearn.svm import SVR\n",
    "from sklearn.ensemble import RandomForestRegressor\n",
    "from sklearn.metrics import mean_squared_error\n",
    "from sklearn.model_selection import cross_val_score, GridSearchCV\n",
    "from graphviz import Source\n",
    "from sklearn.model_selection import train_test_split"
   ]
  },
  {
   "cell_type": "code",
   "execution_count": 16,
   "metadata": {},
   "outputs": [],
   "source": [
    "reg_dict = {}\n",
    "\n",
    "X = df.drop(['VALUE'], axis = 1)\n",
    "y = df['VALUE'].copy()\n",
    "\n",
    "X_train, X_test, y_train, y_test = train_test_split(X, y, test_size = 0.3)"
   ]
  },
  {
   "cell_type": "code",
   "execution_count": 43,
   "metadata": {},
   "outputs": [
    {
     "name": "stderr",
     "output_type": "stream",
     "text": [
      "C:\\Users\\subho\\Anaconda3\\lib\\site-packages\\sklearn\\linear_model\\_ridge.py:148: LinAlgWarning: Ill-conditioned matrix (rcond=7.6764e-20): result may not be accurate.\n",
      "  overwrite_a=True).T\n",
      "C:\\Users\\subho\\Anaconda3\\lib\\site-packages\\sklearn\\linear_model\\_ridge.py:148: LinAlgWarning: Ill-conditioned matrix (rcond=7.57618e-20): result may not be accurate.\n",
      "  overwrite_a=True).T\n",
      "C:\\Users\\subho\\Anaconda3\\lib\\site-packages\\sklearn\\linear_model\\_ridge.py:148: LinAlgWarning: Ill-conditioned matrix (rcond=7.93743e-20): result may not be accurate.\n",
      "  overwrite_a=True).T\n",
      "C:\\Users\\subho\\Anaconda3\\lib\\site-packages\\sklearn\\linear_model\\_ridge.py:148: LinAlgWarning: Ill-conditioned matrix (rcond=1.99247e-19): result may not be accurate.\n",
      "  overwrite_a=True).T\n",
      "C:\\Users\\subho\\Anaconda3\\lib\\site-packages\\sklearn\\linear_model\\_ridge.py:148: LinAlgWarning: Ill-conditioned matrix (rcond=7.1984e-20): result may not be accurate.\n",
      "  overwrite_a=True).T\n",
      "C:\\Users\\subho\\Anaconda3\\lib\\site-packages\\sklearn\\linear_model\\_ridge.py:148: LinAlgWarning: Ill-conditioned matrix (rcond=7.67616e-19): result may not be accurate.\n",
      "  overwrite_a=True).T\n",
      "C:\\Users\\subho\\Anaconda3\\lib\\site-packages\\sklearn\\linear_model\\_ridge.py:148: LinAlgWarning: Ill-conditioned matrix (rcond=7.57591e-19): result may not be accurate.\n",
      "  overwrite_a=True).T\n",
      "C:\\Users\\subho\\Anaconda3\\lib\\site-packages\\sklearn\\linear_model\\_ridge.py:148: LinAlgWarning: Ill-conditioned matrix (rcond=7.93719e-19): result may not be accurate.\n",
      "  overwrite_a=True).T\n",
      "C:\\Users\\subho\\Anaconda3\\lib\\site-packages\\sklearn\\linear_model\\_ridge.py:148: LinAlgWarning: Ill-conditioned matrix (rcond=1.99241e-18): result may not be accurate.\n",
      "  overwrite_a=True).T\n",
      "C:\\Users\\subho\\Anaconda3\\lib\\site-packages\\sklearn\\linear_model\\_ridge.py:148: LinAlgWarning: Ill-conditioned matrix (rcond=7.19816e-19): result may not be accurate.\n",
      "  overwrite_a=True).T\n",
      "C:\\Users\\subho\\Anaconda3\\lib\\site-packages\\sklearn\\linear_model\\_ridge.py:148: LinAlgWarning: Ill-conditioned matrix (rcond=7.67373e-18): result may not be accurate.\n",
      "  overwrite_a=True).T\n",
      "C:\\Users\\subho\\Anaconda3\\lib\\site-packages\\sklearn\\linear_model\\_ridge.py:148: LinAlgWarning: Ill-conditioned matrix (rcond=7.57321e-18): result may not be accurate.\n",
      "  overwrite_a=True).T\n",
      "C:\\Users\\subho\\Anaconda3\\lib\\site-packages\\sklearn\\linear_model\\_ridge.py:148: LinAlgWarning: Ill-conditioned matrix (rcond=7.9348e-18): result may not be accurate.\n",
      "  overwrite_a=True).T\n",
      "C:\\Users\\subho\\Anaconda3\\lib\\site-packages\\sklearn\\linear_model\\_ridge.py:148: LinAlgWarning: Ill-conditioned matrix (rcond=1.99179e-17): result may not be accurate.\n",
      "  overwrite_a=True).T\n",
      "C:\\Users\\subho\\Anaconda3\\lib\\site-packages\\sklearn\\linear_model\\_ridge.py:148: LinAlgWarning: Ill-conditioned matrix (rcond=7.19573e-18): result may not be accurate.\n",
      "  overwrite_a=True).T\n",
      "C:\\Users\\subho\\Anaconda3\\lib\\site-packages\\sklearn\\linear_model\\_ridge.py:148: LinAlgWarning: Ill-conditioned matrix (rcond=1.53421e-17): result may not be accurate.\n",
      "  overwrite_a=True).T\n",
      "C:\\Users\\subho\\Anaconda3\\lib\\site-packages\\sklearn\\linear_model\\_ridge.py:148: LinAlgWarning: Ill-conditioned matrix (rcond=1.51404e-17): result may not be accurate.\n",
      "  overwrite_a=True).T\n",
      "C:\\Users\\subho\\Anaconda3\\lib\\site-packages\\sklearn\\linear_model\\_ridge.py:148: LinAlgWarning: Ill-conditioned matrix (rcond=1.58643e-17): result may not be accurate.\n",
      "  overwrite_a=True).T\n",
      "C:\\Users\\subho\\Anaconda3\\lib\\site-packages\\sklearn\\linear_model\\_ridge.py:148: LinAlgWarning: Ill-conditioned matrix (rcond=3.98219e-17): result may not be accurate.\n",
      "  overwrite_a=True).T\n",
      "C:\\Users\\subho\\Anaconda3\\lib\\site-packages\\sklearn\\linear_model\\_ridge.py:148: LinAlgWarning: Ill-conditioned matrix (rcond=1.43861e-17): result may not be accurate.\n",
      "  overwrite_a=True).T\n",
      "C:\\Users\\subho\\Anaconda3\\lib\\site-packages\\sklearn\\linear_model\\_ridge.py:148: LinAlgWarning: Ill-conditioned matrix (rcond=3.83151e-17): result may not be accurate.\n",
      "  overwrite_a=True).T\n",
      "C:\\Users\\subho\\Anaconda3\\lib\\site-packages\\sklearn\\linear_model\\_ridge.py:148: LinAlgWarning: Ill-conditioned matrix (rcond=3.78064e-17): result may not be accurate.\n",
      "  overwrite_a=True).T\n",
      "C:\\Users\\subho\\Anaconda3\\lib\\site-packages\\sklearn\\linear_model\\_ridge.py:148: LinAlgWarning: Ill-conditioned matrix (rcond=3.96211e-17): result may not be accurate.\n",
      "  overwrite_a=True).T\n",
      "C:\\Users\\subho\\Anaconda3\\lib\\site-packages\\sklearn\\linear_model\\_ridge.py:148: LinAlgWarning: Ill-conditioned matrix (rcond=9.94522e-17): result may not be accurate.\n",
      "  overwrite_a=True).T\n",
      "C:\\Users\\subho\\Anaconda3\\lib\\site-packages\\sklearn\\linear_model\\_ridge.py:148: LinAlgWarning: Ill-conditioned matrix (rcond=3.5925e-17): result may not be accurate.\n",
      "  overwrite_a=True).T\n",
      "C:\\Users\\subho\\Anaconda3\\lib\\site-packages\\sklearn\\linear_model\\_ridge.py:148: LinAlgWarning: Ill-conditioned matrix (rcond=7.64979e-17): result may not be accurate.\n",
      "  overwrite_a=True).T\n",
      "C:\\Users\\subho\\Anaconda3\\lib\\site-packages\\sklearn\\linear_model\\_ridge.py:148: LinAlgWarning: Ill-conditioned matrix (rcond=7.5466e-17): result may not be accurate.\n",
      "  overwrite_a=True).T\n",
      "C:\\Users\\subho\\Anaconda3\\lib\\site-packages\\sklearn\\linear_model\\_ridge.py:148: LinAlgWarning: Ill-conditioned matrix (rcond=7.91117e-17): result may not be accurate.\n",
      "  overwrite_a=True).T\n",
      "C:\\Users\\subho\\Anaconda3\\lib\\site-packages\\sklearn\\linear_model\\_ridge.py:148: LinAlgWarning: Ill-conditioned matrix (rcond=7.17178e-17): result may not be accurate.\n",
      "  overwrite_a=True).T\n"
     ]
    },
    {
     "data": {
      "text/plain": [
       "GridSearchCV(cv=None, error_score=nan,\n",
       "             estimator=Ridge(alpha=1.0, copy_X=True, fit_intercept=True,\n",
       "                             max_iter=None, normalize=False, random_state=None,\n",
       "                             solver='auto', tol=0.001),\n",
       "             iid='deprecated', n_jobs=None,\n",
       "             param_grid={'alpha': [0.001, 0.01, 0.1, 0.2, 0.5, 1.0, 2.0, 5.0,\n",
       "                                   10.0, 15.0, 20.0, 30.0, 40.0]},\n",
       "             pre_dispatch='2*n_jobs', refit=True, return_train_score=False,\n",
       "             scoring='neg_mean_squared_error', verbose=0)"
      ]
     },
     "execution_count": 43,
     "metadata": {},
     "output_type": "execute_result"
    }
   ],
   "source": [
    "rid_reg = Ridge()\n",
    "grid_reg = GridSearchCV(rid_reg, param_grid = {'alpha': [0.001, 0.01, 0.1, 0.2, 0.5, 1.0, 2.0, 5.0, 10.0, 15.0, 20.0, 30.0, 40.0]},\n",
    "                       scoring = 'neg_mean_squared_error')\n",
    "grid_reg.fit(X_train, y_train)"
   ]
  },
  {
   "cell_type": "code",
   "execution_count": 44,
   "metadata": {},
   "outputs": [
    {
     "name": "stdout",
     "output_type": "stream",
     "text": [
      "{'alpha': 0.001} -4.3195519993199034e+17\n",
      "{'alpha': 0.01} -4.319540259799313e+17\n",
      "{'alpha': 0.1} -4.31942298596409e+17\n",
      "{'alpha': 0.2} -4.3192929398837376e+17\n",
      "{'alpha': 0.5} -4.318904422467667e+17\n",
      "{'alpha': 1.0} -4.3182622369977696e+17\n",
      "{'alpha': 2.0} -4.316997471064746e+17\n",
      "{'alpha': 5.0} -4.3133518502498906e+17\n",
      "{'alpha': 10.0} -4.307722865643136e+17\n",
      "{'alpha': 15.0} -4.302578194670174e+17\n",
      "{'alpha': 20.0} -4.2978475155891245e+17\n",
      "{'alpha': 30.0} -4.289410915036361e+17\n",
      "{'alpha': 40.0} -4.2820685870293344e+17\n"
     ]
    }
   ],
   "source": [
    "for alpha, score in zip(grid_reg.cv_results_['params'], grid_reg.cv_results_['mean_test_score']):\n",
    "    print(alpha, score)"
   ]
  },
  {
   "cell_type": "code",
   "execution_count": 45,
   "metadata": {},
   "outputs": [
    {
     "name": "stderr",
     "output_type": "stream",
     "text": [
      "C:\\Users\\subho\\Anaconda3\\lib\\site-packages\\sklearn\\linear_model\\_ridge.py:148: LinAlgWarning: Ill-conditioned matrix (rcond=7.6764e-20): result may not be accurate.\n",
      "  overwrite_a=True).T\n",
      "C:\\Users\\subho\\Anaconda3\\lib\\site-packages\\sklearn\\linear_model\\_ridge.py:148: LinAlgWarning: Ill-conditioned matrix (rcond=7.57618e-20): result may not be accurate.\n",
      "  overwrite_a=True).T\n",
      "C:\\Users\\subho\\Anaconda3\\lib\\site-packages\\sklearn\\linear_model\\_ridge.py:148: LinAlgWarning: Ill-conditioned matrix (rcond=7.93743e-20): result may not be accurate.\n",
      "  overwrite_a=True).T\n",
      "C:\\Users\\subho\\Anaconda3\\lib\\site-packages\\sklearn\\linear_model\\_ridge.py:148: LinAlgWarning: Ill-conditioned matrix (rcond=1.99247e-19): result may not be accurate.\n",
      "  overwrite_a=True).T\n",
      "C:\\Users\\subho\\Anaconda3\\lib\\site-packages\\sklearn\\linear_model\\_ridge.py:148: LinAlgWarning: Ill-conditioned matrix (rcond=7.1984e-20): result may not be accurate.\n",
      "  overwrite_a=True).T\n",
      "C:\\Users\\subho\\Anaconda3\\lib\\site-packages\\sklearn\\linear_model\\_ridge.py:148: LinAlgWarning: Ill-conditioned matrix (rcond=7.67616e-19): result may not be accurate.\n",
      "  overwrite_a=True).T\n",
      "C:\\Users\\subho\\Anaconda3\\lib\\site-packages\\sklearn\\linear_model\\_ridge.py:148: LinAlgWarning: Ill-conditioned matrix (rcond=7.57591e-19): result may not be accurate.\n",
      "  overwrite_a=True).T\n",
      "C:\\Users\\subho\\Anaconda3\\lib\\site-packages\\sklearn\\linear_model\\_ridge.py:148: LinAlgWarning: Ill-conditioned matrix (rcond=7.93719e-19): result may not be accurate.\n",
      "  overwrite_a=True).T\n",
      "C:\\Users\\subho\\Anaconda3\\lib\\site-packages\\sklearn\\linear_model\\_ridge.py:148: LinAlgWarning: Ill-conditioned matrix (rcond=1.99241e-18): result may not be accurate.\n",
      "  overwrite_a=True).T\n",
      "C:\\Users\\subho\\Anaconda3\\lib\\site-packages\\sklearn\\linear_model\\_ridge.py:148: LinAlgWarning: Ill-conditioned matrix (rcond=7.19816e-19): result may not be accurate.\n",
      "  overwrite_a=True).T\n",
      "C:\\Users\\subho\\Anaconda3\\lib\\site-packages\\sklearn\\linear_model\\_ridge.py:148: LinAlgWarning: Ill-conditioned matrix (rcond=7.67373e-18): result may not be accurate.\n",
      "  overwrite_a=True).T\n",
      "C:\\Users\\subho\\Anaconda3\\lib\\site-packages\\sklearn\\linear_model\\_ridge.py:148: LinAlgWarning: Ill-conditioned matrix (rcond=7.57321e-18): result may not be accurate.\n",
      "  overwrite_a=True).T\n",
      "C:\\Users\\subho\\Anaconda3\\lib\\site-packages\\sklearn\\linear_model\\_ridge.py:148: LinAlgWarning: Ill-conditioned matrix (rcond=7.9348e-18): result may not be accurate.\n",
      "  overwrite_a=True).T\n",
      "C:\\Users\\subho\\Anaconda3\\lib\\site-packages\\sklearn\\linear_model\\_ridge.py:148: LinAlgWarning: Ill-conditioned matrix (rcond=1.99179e-17): result may not be accurate.\n",
      "  overwrite_a=True).T\n",
      "C:\\Users\\subho\\Anaconda3\\lib\\site-packages\\sklearn\\linear_model\\_ridge.py:148: LinAlgWarning: Ill-conditioned matrix (rcond=7.19573e-18): result may not be accurate.\n",
      "  overwrite_a=True).T\n",
      "C:\\Users\\subho\\Anaconda3\\lib\\site-packages\\sklearn\\linear_model\\_ridge.py:148: LinAlgWarning: Ill-conditioned matrix (rcond=1.53421e-17): result may not be accurate.\n",
      "  overwrite_a=True).T\n",
      "C:\\Users\\subho\\Anaconda3\\lib\\site-packages\\sklearn\\linear_model\\_ridge.py:148: LinAlgWarning: Ill-conditioned matrix (rcond=1.51404e-17): result may not be accurate.\n",
      "  overwrite_a=True).T\n",
      "C:\\Users\\subho\\Anaconda3\\lib\\site-packages\\sklearn\\linear_model\\_ridge.py:148: LinAlgWarning: Ill-conditioned matrix (rcond=1.58643e-17): result may not be accurate.\n",
      "  overwrite_a=True).T\n",
      "C:\\Users\\subho\\Anaconda3\\lib\\site-packages\\sklearn\\linear_model\\_ridge.py:148: LinAlgWarning: Ill-conditioned matrix (rcond=3.98219e-17): result may not be accurate.\n",
      "  overwrite_a=True).T\n",
      "C:\\Users\\subho\\Anaconda3\\lib\\site-packages\\sklearn\\linear_model\\_ridge.py:148: LinAlgWarning: Ill-conditioned matrix (rcond=1.43861e-17): result may not be accurate.\n",
      "  overwrite_a=True).T\n",
      "C:\\Users\\subho\\Anaconda3\\lib\\site-packages\\sklearn\\linear_model\\_ridge.py:148: LinAlgWarning: Ill-conditioned matrix (rcond=3.83151e-17): result may not be accurate.\n",
      "  overwrite_a=True).T\n",
      "C:\\Users\\subho\\Anaconda3\\lib\\site-packages\\sklearn\\linear_model\\_ridge.py:148: LinAlgWarning: Ill-conditioned matrix (rcond=3.78064e-17): result may not be accurate.\n",
      "  overwrite_a=True).T\n",
      "C:\\Users\\subho\\Anaconda3\\lib\\site-packages\\sklearn\\linear_model\\_ridge.py:148: LinAlgWarning: Ill-conditioned matrix (rcond=3.96211e-17): result may not be accurate.\n",
      "  overwrite_a=True).T\n",
      "C:\\Users\\subho\\Anaconda3\\lib\\site-packages\\sklearn\\linear_model\\_ridge.py:148: LinAlgWarning: Ill-conditioned matrix (rcond=9.94522e-17): result may not be accurate.\n",
      "  overwrite_a=True).T\n",
      "C:\\Users\\subho\\Anaconda3\\lib\\site-packages\\sklearn\\linear_model\\_ridge.py:148: LinAlgWarning: Ill-conditioned matrix (rcond=3.5925e-17): result may not be accurate.\n",
      "  overwrite_a=True).T\n",
      "C:\\Users\\subho\\Anaconda3\\lib\\site-packages\\sklearn\\linear_model\\_ridge.py:148: LinAlgWarning: Ill-conditioned matrix (rcond=7.64979e-17): result may not be accurate.\n",
      "  overwrite_a=True).T\n",
      "C:\\Users\\subho\\Anaconda3\\lib\\site-packages\\sklearn\\linear_model\\_ridge.py:148: LinAlgWarning: Ill-conditioned matrix (rcond=7.5466e-17): result may not be accurate.\n",
      "  overwrite_a=True).T\n",
      "C:\\Users\\subho\\Anaconda3\\lib\\site-packages\\sklearn\\linear_model\\_ridge.py:148: LinAlgWarning: Ill-conditioned matrix (rcond=7.91117e-17): result may not be accurate.\n",
      "  overwrite_a=True).T\n",
      "C:\\Users\\subho\\Anaconda3\\lib\\site-packages\\sklearn\\linear_model\\_ridge.py:148: LinAlgWarning: Ill-conditioned matrix (rcond=7.17178e-17): result may not be accurate.\n",
      "  overwrite_a=True).T\n"
     ]
    },
    {
     "data": {
      "text/plain": [
       "GridSearchCV(cv=None, error_score=nan,\n",
       "             estimator=Ridge(alpha=1.0, copy_X=True, fit_intercept=True,\n",
       "                             max_iter=None, normalize=False, random_state=None,\n",
       "                             solver='auto', tol=0.001),\n",
       "             iid='deprecated', n_jobs=None,\n",
       "             param_grid={'alpha': [0.001, 0.01, 0.1, 0.2, 0.5, 1.0, 2.0, 5.0,\n",
       "                                   10.0, 15.0, 20.0, 30.0, 40.0]},\n",
       "             pre_dispatch='2*n_jobs', refit=True, return_train_score=False,\n",
       "             scoring='neg_mean_squared_error', verbose=0)"
      ]
     },
     "execution_count": 45,
     "metadata": {},
     "output_type": "execute_result"
    }
   ],
   "source": [
    "rid_reg = Ridge()\n",
    "grid_reg = GridSearchCV(rid_reg, param_grid = {'alpha': [0.001, 0.01, 0.1, 0.2, 0.5, 1.0, 2.0, 5.0, 10.0, 15.0, 20.0, 30.0, 40.0]},\n",
    "                       scoring = 'neg_mean_squared_error')\n",
    "grid_reg.fit(X_train, y_train)"
   ]
  },
  {
   "cell_type": "code",
   "execution_count": 46,
   "metadata": {},
   "outputs": [
    {
     "name": "stdout",
     "output_type": "stream",
     "text": [
      "{'alpha': 0.001} -4.3195519993199034e+17\n",
      "{'alpha': 0.01} -4.319540259799313e+17\n",
      "{'alpha': 0.1} -4.31942298596409e+17\n",
      "{'alpha': 0.2} -4.3192929398837376e+17\n",
      "{'alpha': 0.5} -4.318904422467667e+17\n",
      "{'alpha': 1.0} -4.3182622369977696e+17\n",
      "{'alpha': 2.0} -4.316997471064746e+17\n",
      "{'alpha': 5.0} -4.3133518502498906e+17\n",
      "{'alpha': 10.0} -4.307722865643136e+17\n",
      "{'alpha': 15.0} -4.302578194670174e+17\n",
      "{'alpha': 20.0} -4.2978475155891245e+17\n",
      "{'alpha': 30.0} -4.289410915036361e+17\n",
      "{'alpha': 40.0} -4.2820685870293344e+17\n"
     ]
    }
   ],
   "source": [
    "for alpha, score in zip(grid_reg.cv_results_['params'], grid_reg.cv_results_['mean_test_score']):\n",
    "    print(alpha, score)"
   ]
  },
  {
   "cell_type": "code",
   "execution_count": 17,
   "metadata": {},
   "outputs": [],
   "source": [
    "reg_dict['lin_reg'] = LinearRegression()\n",
    "reg_dict['rid_reg'] = Ridge(alpha = 5.0)\n",
    "reg_dict['las_reg'] = Lasso(alpha = )\n",
    "reg_dict['els_reg'] = ElasticNet()\n",
    "reg_dict['dec_reg'] = DecisionTreeRegressor(max_depth = 50, max_leaf_nodes = 50)\n",
    "reg_dict['svm_reg'] = SVR(C = 20)\n",
    "reg_dict['rnd_reg'] = RandomForestRegressor(n_estimators = 20, max_depth = 20, max_leaf_nodes = 50)"
   ]
  },
  {
   "cell_type": "code",
   "execution_count": 24,
   "metadata": {},
   "outputs": [
    {
     "name": "stdout",
     "output_type": "stream",
     "text": [
      "lin_reg 0.9926722997864315\n"
     ]
    },
    {
     "data": {
      "image/png": "[encoded data removed]",
      "text/plain": [
       "<Figure size 432x288 with 1 Axes>"
      ]
     },
     "metadata": {
      "needs_background": "light"
     },
     "output_type": "display_data"
    },
    {
     "name": "stdout",
     "output_type": "stream",
     "text": [
      "rid_reg 0.9926737616307165\n"
     ]
    },
    {
     "name": "stderr",
     "output_type": "stream",
     "text": [
      "C:\\Users\\subho\\Anaconda3\\lib\\site-packages\\sklearn\\linear_model\\_ridge.py:148: LinAlgWarning: Ill-conditioned matrix (rcond=6.90454e-17): result may not be accurate.\n",
      "  overwrite_a=True).T\n"
     ]
    },
    {
     "data": {
      "image/png": "[encoded data removed]",
      "text/plain": [
       "<Figure size 432x288 with 1 Axes>"
      ]
     },
     "metadata": {
      "needs_background": "light"
     },
     "output_type": "display_data"
    },
    {
     "name": "stderr",
     "output_type": "stream",
     "text": [
      "C:\\Users\\subho\\Anaconda3\\lib\\site-packages\\sklearn\\linear_model\\_coordinate_descent.py:476: ConvergenceWarning: Objective did not converge. You might want to increase the number of iterations. Duality gap: 8.893648947842823e+18, tolerance: 5.3514705014492666e+17\n",
      "  positive)\n"
     ]
    },
    {
     "name": "stdout",
     "output_type": "stream",
     "text": [
      "las_reg 0.9927509741530167\n"
     ]
    },
    {
     "data": {
      "image/png": "[encoded data removed]",
      "text/plain": [
       "<Figure size 432x288 with 1 Axes>"
      ]
     },
     "metadata": {
      "needs_background": "light"
     },
     "output_type": "display_data"
    },
    {
     "name": "stdout",
     "output_type": "stream",
     "text": [
      "els_reg 0.9927815368355183\n"
     ]
    },
    {
     "name": "stderr",
     "output_type": "stream",
     "text": [
      "C:\\Users\\subho\\Anaconda3\\lib\\site-packages\\sklearn\\linear_model\\_coordinate_descent.py:476: ConvergenceWarning: Objective did not converge. You might want to increase the number of iterations. Duality gap: 8.919515885800585e+18, tolerance: 5.3514705014492666e+17\n",
      "  positive)\n"
     ]
    },
    {
     "data": {
      "image/png": "[encoded data removed]",
      "text/plain": [
       "<Figure size 432x288 with 1 Axes>"
      ]
     },
     "metadata": {
      "needs_background": "light"
     },
     "output_type": "display_data"
    },
    {
     "name": "stdout",
     "output_type": "stream",
     "text": [
      "dec_reg 0.7866921411244914\n"
     ]
    },
    {
     "data": {
      "image/png": "[encoded data removed]",
      "text/plain": [
       "<Figure size 432x288 with 1 Axes>"
      ]
     },
     "metadata": {
      "needs_background": "light"
     },
     "output_type": "display_data"
    },
    {
     "name": "stdout",
     "output_type": "stream",
     "text": [
      "svm_reg -0.02847269539980113\n"
     ]
    },
    {
     "data": {
      "image/png": "[encoded data removed]",
      "text/plain": [
       "<Figure size 432x288 with 1 Axes>"
      ]
     },
     "metadata": {
      "needs_background": "light"
     },
     "output_type": "display_data"
    },
    {
     "name": "stdout",
     "output_type": "stream",
     "text": [
      "rnd_reg 0.8311630227813556\n"
     ]
    },
    {
     "data": {
      "image/png": "[encoded data removed]",
      "text/plain": [
       "<Figure size 432x288 with 1 Axes>"
      ]
     },
     "metadata": {
      "needs_background": "light"
     },
     "output_type": "display_data"
    }
   ],
   "source": [
    "for keys, reg in zip(reg_dict.keys(), reg_dict.values()):\n",
    "    reg.fit(X_train, y_train)\n",
    "    print(keys, reg.score(X_test, y_test))\n",
    "    plt.plot(X_test.index, y_test, 'g*')\n",
    "    plt.plot(X_test.index, reg.predict(X_test), 'ro')\n",
    "    plt.show()"
   ]
  },
  {
   "cell_type": "code",
   "execution_count": null,
   "metadata": {},
   "outputs": [],
   "source": []
  },
  {
   "cell_type": "code",
   "execution_count": null,
   "metadata": {},
   "outputs": [],
   "source": []
  },
  {
   "cell_type": "code",
   "execution_count": null,
   "metadata": {},
   "outputs": [],
   "source": []
  }
 ],
 "metadata": {
  "kernelspec": {
   "display_name": "Python 3",
   "language": "python",
   "name": "python3"
  },
  "language_info": {
   "codemirror_mode": {
    "name": "ipython",
    "version": 3
   },
   "file_extension": ".py",
   "mimetype": "text/x-python",
   "name": "python",
   "nbconvert_exporter": "python",
   "pygments_lexer": "ipython3",
   "version": "3.7.3"
  }
 },
 "nbformat": 4,
 "nbformat_minor": 2
}
