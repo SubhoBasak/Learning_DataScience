{
 "cells": [
  {
   "cell_type": "code",
   "execution_count": 45,
   "metadata": {},
   "outputs": [],
   "source": [
    "import numpy as np\n",
    "import pandas as pd\n",
    "import matplotlib.pyplot as plt\n",
    "from sklearn.preprocessing import LabelEncoder, OneHotEncoder\n",
    "from sklearn.linear_model import LinearRegression, Ridge, Lasso, ElasticNet\n",
    "from sklearn.tree import DecisionTreeRegressor, export_graphviz\n",
    "from graphviz import Source\n",
    "from sklearn.svm import SVR\n",
    "from sklearn.model_selection import train_test_split, GridSearchCV, cross_val_score, cross_val_predict\n",
    "from sklearn.pipeline import Pipeline\n",
    "from sklearn.compose import ColumnTransformer\n",
    "from sklearn.metrics import r2_score, mean_squared_error, mean_absolute_error\n",
    "from sklearn.ensemble import AdaBoostRegressor, GradientBoostingRegressor"
   ]
  },
  {
   "cell_type": "code",
   "execution_count": 2,
   "metadata": {},
   "outputs": [
    {
     "data": {
      "text/html": [
       "<div>\n",
       "<style scoped>\n",
       "    .dataframe tbody tr th:only-of-type {\n",
       "        vertical-align: middle;\n",
       "    }\n",
       "\n",
       "    .dataframe tbody tr th {\n",
       "        vertical-align: top;\n",
       "    }\n",
       "\n",
       "    .dataframe thead th {\n",
       "        text-align: right;\n",
       "    }\n",
       "</style>\n",
       "<table border=\"1\" class=\"dataframe\">\n",
       "  <thead>\n",
       "    <tr style=\"text-align: right;\">\n",
       "      <th></th>\n",
       "      <th>vendor name</th>\n",
       "      <th>model no</th>\n",
       "      <th>MYCT</th>\n",
       "      <th>MMIN</th>\n",
       "      <th>MMAX</th>\n",
       "      <th>CACH</th>\n",
       "      <th>CHMIN</th>\n",
       "      <th>CHMAX</th>\n",
       "      <th>PRP</th>\n",
       "      <th>ERP</th>\n",
       "    </tr>\n",
       "  </thead>\n",
       "  <tbody>\n",
       "    <tr>\n",
       "      <th>0</th>\n",
       "      <td>adviser</td>\n",
       "      <td>32/60</td>\n",
       "      <td>125</td>\n",
       "      <td>256</td>\n",
       "      <td>6000</td>\n",
       "      <td>256</td>\n",
       "      <td>16</td>\n",
       "      <td>128</td>\n",
       "      <td>198</td>\n",
       "      <td>199</td>\n",
       "    </tr>\n",
       "    <tr>\n",
       "      <th>1</th>\n",
       "      <td>amdahl</td>\n",
       "      <td>470v/7</td>\n",
       "      <td>29</td>\n",
       "      <td>8000</td>\n",
       "      <td>32000</td>\n",
       "      <td>32</td>\n",
       "      <td>8</td>\n",
       "      <td>32</td>\n",
       "      <td>269</td>\n",
       "      <td>253</td>\n",
       "    </tr>\n",
       "    <tr>\n",
       "      <th>2</th>\n",
       "      <td>amdahl</td>\n",
       "      <td>470v/7a</td>\n",
       "      <td>29</td>\n",
       "      <td>8000</td>\n",
       "      <td>32000</td>\n",
       "      <td>32</td>\n",
       "      <td>8</td>\n",
       "      <td>32</td>\n",
       "      <td>220</td>\n",
       "      <td>253</td>\n",
       "    </tr>\n",
       "    <tr>\n",
       "      <th>3</th>\n",
       "      <td>amdahl</td>\n",
       "      <td>470v/7b</td>\n",
       "      <td>29</td>\n",
       "      <td>8000</td>\n",
       "      <td>32000</td>\n",
       "      <td>32</td>\n",
       "      <td>8</td>\n",
       "      <td>32</td>\n",
       "      <td>172</td>\n",
       "      <td>253</td>\n",
       "    </tr>\n",
       "    <tr>\n",
       "      <th>4</th>\n",
       "      <td>amdahl</td>\n",
       "      <td>470v/7c</td>\n",
       "      <td>29</td>\n",
       "      <td>8000</td>\n",
       "      <td>16000</td>\n",
       "      <td>32</td>\n",
       "      <td>8</td>\n",
       "      <td>16</td>\n",
       "      <td>132</td>\n",
       "      <td>132</td>\n",
       "    </tr>\n",
       "  </tbody>\n",
       "</table>\n",
       "</div>"
      ],
      "text/plain": [
       "  vendor name model no  MYCT  MMIN   MMAX  CACH  CHMIN  CHMAX  PRP  ERP\n",
       "0     adviser    32/60   125   256   6000   256     16    128  198  199\n",
       "1      amdahl   470v/7    29  8000  32000    32      8     32  269  253\n",
       "2      amdahl  470v/7a    29  8000  32000    32      8     32  220  253\n",
       "3      amdahl  470v/7b    29  8000  32000    32      8     32  172  253\n",
       "4      amdahl  470v/7c    29  8000  16000    32      8     16  132  132"
      ]
     },
     "execution_count": 2,
     "metadata": {},
     "output_type": "execute_result"
    }
   ],
   "source": [
    "df = pd.read_csv('machine.data.csv',\n",
    "                 names = ['vendor name', 'model no', 'MYCT', 'MMIN', 'MMAX', 'CACH', 'CHMIN', 'CHMAX', 'PRP', 'ERP'],)\n",
    "df.head(5)"
   ]
  },
  {
   "cell_type": "code",
   "execution_count": 3,
   "metadata": {},
   "outputs": [
    {
     "name": "stdout",
     "output_type": "stream",
     "text": [
      "<class 'pandas.core.frame.DataFrame'>\n",
      "RangeIndex: 209 entries, 0 to 208\n",
      "Data columns (total 10 columns):\n",
      "vendor name    209 non-null object\n",
      "model no       209 non-null object\n",
      "MYCT           209 non-null int64\n",
      "MMIN           209 non-null int64\n",
      "MMAX           209 non-null int64\n",
      "CACH           209 non-null int64\n",
      "CHMIN          209 non-null int64\n",
      "CHMAX          209 non-null int64\n",
      "PRP            209 non-null int64\n",
      "ERP            209 non-null int64\n",
      "dtypes: int64(8), object(2)\n",
      "memory usage: 16.5+ KB\n"
     ]
    }
   ],
   "source": [
    "df.info()"
   ]
  },
  {
   "cell_type": "code",
   "execution_count": 4,
   "metadata": {},
   "outputs": [
    {
     "data": {
      "text/html": [
       "<div>\n",
       "<style scoped>\n",
       "    .dataframe tbody tr th:only-of-type {\n",
       "        vertical-align: middle;\n",
       "    }\n",
       "\n",
       "    .dataframe tbody tr th {\n",
       "        vertical-align: top;\n",
       "    }\n",
       "\n",
       "    .dataframe thead th {\n",
       "        text-align: right;\n",
       "    }\n",
       "</style>\n",
       "<table border=\"1\" class=\"dataframe\">\n",
       "  <thead>\n",
       "    <tr style=\"text-align: right;\">\n",
       "      <th></th>\n",
       "      <th>MYCT</th>\n",
       "      <th>MMIN</th>\n",
       "      <th>MMAX</th>\n",
       "      <th>CACH</th>\n",
       "      <th>CHMIN</th>\n",
       "      <th>CHMAX</th>\n",
       "      <th>PRP</th>\n",
       "      <th>ERP</th>\n",
       "    </tr>\n",
       "  </thead>\n",
       "  <tbody>\n",
       "    <tr>\n",
       "      <th>count</th>\n",
       "      <td>209.000000</td>\n",
       "      <td>209.000000</td>\n",
       "      <td>209.000000</td>\n",
       "      <td>209.000000</td>\n",
       "      <td>209.000000</td>\n",
       "      <td>209.000000</td>\n",
       "      <td>209.000000</td>\n",
       "      <td>209.000000</td>\n",
       "    </tr>\n",
       "    <tr>\n",
       "      <th>mean</th>\n",
       "      <td>203.822967</td>\n",
       "      <td>2867.980861</td>\n",
       "      <td>11796.153110</td>\n",
       "      <td>25.205742</td>\n",
       "      <td>4.698565</td>\n",
       "      <td>18.267943</td>\n",
       "      <td>105.622010</td>\n",
       "      <td>99.330144</td>\n",
       "    </tr>\n",
       "    <tr>\n",
       "      <th>std</th>\n",
       "      <td>260.262926</td>\n",
       "      <td>3878.742758</td>\n",
       "      <td>11726.564377</td>\n",
       "      <td>40.628722</td>\n",
       "      <td>6.816274</td>\n",
       "      <td>25.997318</td>\n",
       "      <td>160.830733</td>\n",
       "      <td>154.757102</td>\n",
       "    </tr>\n",
       "    <tr>\n",
       "      <th>min</th>\n",
       "      <td>17.000000</td>\n",
       "      <td>64.000000</td>\n",
       "      <td>64.000000</td>\n",
       "      <td>0.000000</td>\n",
       "      <td>0.000000</td>\n",
       "      <td>0.000000</td>\n",
       "      <td>6.000000</td>\n",
       "      <td>15.000000</td>\n",
       "    </tr>\n",
       "    <tr>\n",
       "      <th>25%</th>\n",
       "      <td>50.000000</td>\n",
       "      <td>768.000000</td>\n",
       "      <td>4000.000000</td>\n",
       "      <td>0.000000</td>\n",
       "      <td>1.000000</td>\n",
       "      <td>5.000000</td>\n",
       "      <td>27.000000</td>\n",
       "      <td>28.000000</td>\n",
       "    </tr>\n",
       "    <tr>\n",
       "      <th>50%</th>\n",
       "      <td>110.000000</td>\n",
       "      <td>2000.000000</td>\n",
       "      <td>8000.000000</td>\n",
       "      <td>8.000000</td>\n",
       "      <td>2.000000</td>\n",
       "      <td>8.000000</td>\n",
       "      <td>50.000000</td>\n",
       "      <td>45.000000</td>\n",
       "    </tr>\n",
       "    <tr>\n",
       "      <th>75%</th>\n",
       "      <td>225.000000</td>\n",
       "      <td>4000.000000</td>\n",
       "      <td>16000.000000</td>\n",
       "      <td>32.000000</td>\n",
       "      <td>6.000000</td>\n",
       "      <td>24.000000</td>\n",
       "      <td>113.000000</td>\n",
       "      <td>101.000000</td>\n",
       "    </tr>\n",
       "    <tr>\n",
       "      <th>max</th>\n",
       "      <td>1500.000000</td>\n",
       "      <td>32000.000000</td>\n",
       "      <td>64000.000000</td>\n",
       "      <td>256.000000</td>\n",
       "      <td>52.000000</td>\n",
       "      <td>176.000000</td>\n",
       "      <td>1150.000000</td>\n",
       "      <td>1238.000000</td>\n",
       "    </tr>\n",
       "  </tbody>\n",
       "</table>\n",
       "</div>"
      ],
      "text/plain": [
       "              MYCT          MMIN          MMAX        CACH       CHMIN  \\\n",
       "count   209.000000    209.000000    209.000000  209.000000  209.000000   \n",
       "mean    203.822967   2867.980861  11796.153110   25.205742    4.698565   \n",
       "std     260.262926   3878.742758  11726.564377   40.628722    6.816274   \n",
       "min      17.000000     64.000000     64.000000    0.000000    0.000000   \n",
       "25%      50.000000    768.000000   4000.000000    0.000000    1.000000   \n",
       "50%     110.000000   2000.000000   8000.000000    8.000000    2.000000   \n",
       "75%     225.000000   4000.000000  16000.000000   32.000000    6.000000   \n",
       "max    1500.000000  32000.000000  64000.000000  256.000000   52.000000   \n",
       "\n",
       "            CHMAX          PRP          ERP  \n",
       "count  209.000000   209.000000   209.000000  \n",
       "mean    18.267943   105.622010    99.330144  \n",
       "std     25.997318   160.830733   154.757102  \n",
       "min      0.000000     6.000000    15.000000  \n",
       "25%      5.000000    27.000000    28.000000  \n",
       "50%      8.000000    50.000000    45.000000  \n",
       "75%     24.000000   113.000000   101.000000  \n",
       "max    176.000000  1150.000000  1238.000000  "
      ]
     },
     "execution_count": 4,
     "metadata": {},
     "output_type": "execute_result"
    }
   ],
   "source": [
    "df.describe()"
   ]
  },
  {
   "cell_type": "code",
   "execution_count": 5,
   "metadata": {},
   "outputs": [
    {
     "data": {
      "text/plain": [
       "ERP      1.000000\n",
       "PRP      0.966472\n",
       "MMAX     0.901202\n",
       "MMIN     0.819292\n",
       "CACH     0.648620\n",
       "CHMIN    0.610580\n",
       "CHMAX    0.592156\n",
       "MYCT    -0.288396\n",
       "Name: ERP, dtype: float64"
      ]
     },
     "execution_count": 5,
     "metadata": {},
     "output_type": "execute_result"
    }
   ],
   "source": [
    "cor_mat = df.corr()\n",
    "cor_mat['ERP'].sort_values(ascending = False)"
   ]
  },
  {
   "cell_type": "code",
   "execution_count": 6,
   "metadata": {},
   "outputs": [
    {
     "data": {
      "text/plain": [
       "array([[<matplotlib.axes._subplots.AxesSubplot object at 0x000001788A3264E0>,\n",
       "        <matplotlib.axes._subplots.AxesSubplot object at 0x000001788A5D2B38>,\n",
       "        <matplotlib.axes._subplots.AxesSubplot object at 0x000001788A611128>],\n",
       "       [<matplotlib.axes._subplots.AxesSubplot object at 0x000001788A6426D8>,\n",
       "        <matplotlib.axes._subplots.AxesSubplot object at 0x000001788A672C88>,\n",
       "        <matplotlib.axes._subplots.AxesSubplot object at 0x000001788A6B1278>],\n",
       "       [<matplotlib.axes._subplots.AxesSubplot object at 0x000001788A6E0828>,\n",
       "        <matplotlib.axes._subplots.AxesSubplot object at 0x000001788A713E10>,\n",
       "        <matplotlib.axes._subplots.AxesSubplot object at 0x000001788A713E48>]],\n",
       "      dtype=object)"
      ]
     },
     "execution_count": 6,
     "metadata": {},
     "output_type": "execute_result"
    },
    {
     "data": {
      "image/png": "[encoded data removed]",
      "text/plain": [
       "<Figure size 720x504 with 9 Axes>"
      ]
     },
     "metadata": {
      "needs_background": "light"
     },
     "output_type": "display_data"
    }
   ],
   "source": [
    "df.hist(figsize = (10, 7))"
   ]
  },
  {
   "cell_type": "code",
   "execution_count": 7,
   "metadata": {},
   "outputs": [],
   "source": [
    "from pandas.plotting import scatter_matrix"
   ]
  },
  {
   "cell_type": "code",
   "execution_count": 8,
   "metadata": {
    "scrolled": true
   },
   "outputs": [
    {
     "data": {
      "text/plain": [
       "array([[<matplotlib.axes._subplots.AxesSubplot object at 0x000001788AAEFF98>,\n",
       "        <matplotlib.axes._subplots.AxesSubplot object at 0x000001788A909198>,\n",
       "        <matplotlib.axes._subplots.AxesSubplot object at 0x000001788A92E710>,\n",
       "        <matplotlib.axes._subplots.AxesSubplot object at 0x000001788A95ECC0>,\n",
       "        <matplotlib.axes._subplots.AxesSubplot object at 0x000001788A99D2B0>,\n",
       "        <matplotlib.axes._subplots.AxesSubplot object at 0x000001788A9CC860>,\n",
       "        <matplotlib.axes._subplots.AxesSubplot object at 0x000001788A9FEE10>,\n",
       "        <matplotlib.axes._subplots.AxesSubplot object at 0x000001788AA3D438>],\n",
       "       [<matplotlib.axes._subplots.AxesSubplot object at 0x000001788AA3D470>,\n",
       "        <matplotlib.axes._subplots.AxesSubplot object at 0x000001788AB95F60>,\n",
       "        <matplotlib.axes._subplots.AxesSubplot object at 0x000001788ABD1550>,\n",
       "        <matplotlib.axes._subplots.AxesSubplot object at 0x000001788AC02B00>,\n",
       "        <matplotlib.axes._subplots.AxesSubplot object at 0x000001788AC400F0>,\n",
       "        <matplotlib.axes._subplots.AxesSubplot object at 0x000001788AC716A0>,\n",
       "        <matplotlib.axes._subplots.AxesSubplot object at 0x000001788ACA3C50>,\n",
       "        <matplotlib.axes._subplots.AxesSubplot object at 0x000001788ACE1240>],\n",
       "       [<matplotlib.axes._subplots.AxesSubplot object at 0x000001788AD137F0>,\n",
       "        <matplotlib.axes._subplots.AxesSubplot object at 0x000001788AD45DA0>,\n",
       "        <matplotlib.axes._subplots.AxesSubplot object at 0x000001788AD80390>,\n",
       "        <matplotlib.axes._subplots.AxesSubplot object at 0x000001788ADB1940>,\n",
       "        <matplotlib.axes._subplots.AxesSubplot object at 0x000001788ADE5EF0>,\n",
       "        <matplotlib.axes._subplots.AxesSubplot object at 0x000001788AE204E0>,\n",
       "        <matplotlib.axes._subplots.AxesSubplot object at 0x000001788AE50A20>,\n",
       "        <matplotlib.axes._subplots.AxesSubplot object at 0x000001788AE84FD0>],\n",
       "       [<matplotlib.axes._subplots.AxesSubplot object at 0x000001788AEBF5C0>,\n",
       "        <matplotlib.axes._subplots.AxesSubplot object at 0x000001788AEF1B70>,\n",
       "        <matplotlib.axes._subplots.AxesSubplot object at 0x000001788AF31160>,\n",
       "        <matplotlib.axes._subplots.AxesSubplot object at 0x000001788AF61710>,\n",
       "        <matplotlib.axes._subplots.AxesSubplot object at 0x000001788AF93CC0>,\n",
       "        <matplotlib.axes._subplots.AxesSubplot object at 0x000001788AFD12B0>,\n",
       "        <matplotlib.axes._subplots.AxesSubplot object at 0x000001788B002860>,\n",
       "        <matplotlib.axes._subplots.AxesSubplot object at 0x000001788B034E10>],\n",
       "       [<matplotlib.axes._subplots.AxesSubplot object at 0x000001788B071400>,\n",
       "        <matplotlib.axes._subplots.AxesSubplot object at 0x000001788B0A29B0>,\n",
       "        <matplotlib.axes._subplots.AxesSubplot object at 0x000001788B0D6F60>,\n",
       "        <matplotlib.axes._subplots.AxesSubplot object at 0x000001788B112550>,\n",
       "        <matplotlib.axes._subplots.AxesSubplot object at 0x000001788B143B00>,\n",
       "        <matplotlib.axes._subplots.AxesSubplot object at 0x000001788B1820F0>,\n",
       "        <matplotlib.axes._subplots.AxesSubplot object at 0x000001788B1B36A0>,\n",
       "        <matplotlib.axes._subplots.AxesSubplot object at 0x000001788B1E4C50>],\n",
       "       [<matplotlib.axes._subplots.AxesSubplot object at 0x000001788B223240>,\n",
       "        <matplotlib.axes._subplots.AxesSubplot object at 0x000001788B2547F0>,\n",
       "        <matplotlib.axes._subplots.AxesSubplot object at 0x000001788B287DA0>,\n",
       "        <matplotlib.axes._subplots.AxesSubplot object at 0x000001788B2C5390>,\n",
       "        <matplotlib.axes._subplots.AxesSubplot object at 0x000001788B2F4940>,\n",
       "        <matplotlib.axes._subplots.AxesSubplot object at 0x000001788B328EF0>,\n",
       "        <matplotlib.axes._subplots.AxesSubplot object at 0x000001788B3664E0>,\n",
       "        <matplotlib.axes._subplots.AxesSubplot object at 0x000001788B395A90>],\n",
       "       [<matplotlib.axes._subplots.AxesSubplot object at 0x000001788B3D3080>,\n",
       "        <matplotlib.axes._subplots.AxesSubplot object at 0x000001788B405630>,\n",
       "        <matplotlib.axes._subplots.AxesSubplot object at 0x000001788B436BE0>,\n",
       "        <matplotlib.axes._subplots.AxesSubplot object at 0x000001788B4761D0>,\n",
       "        <matplotlib.axes._subplots.AxesSubplot object at 0x000001788B4A6780>,\n",
       "        <matplotlib.axes._subplots.AxesSubplot object at 0x000001788B4D9D30>,\n",
       "        <matplotlib.axes._subplots.AxesSubplot object at 0x000001788B516320>,\n",
       "        <matplotlib.axes._subplots.AxesSubplot object at 0x000001788B5488D0>],\n",
       "       [<matplotlib.axes._subplots.AxesSubplot object at 0x000001788B578E80>,\n",
       "        <matplotlib.axes._subplots.AxesSubplot object at 0x000001788B5B5470>,\n",
       "        <matplotlib.axes._subplots.AxesSubplot object at 0x000001788B5E7A20>,\n",
       "        <matplotlib.axes._subplots.AxesSubplot object at 0x000001788B61DFD0>,\n",
       "        <matplotlib.axes._subplots.AxesSubplot object at 0x000001788B6595C0>,\n",
       "        <matplotlib.axes._subplots.AxesSubplot object at 0x000001788B689B70>,\n",
       "        <matplotlib.axes._subplots.AxesSubplot object at 0x000001788B6C9160>,\n",
       "        <matplotlib.axes._subplots.AxesSubplot object at 0x000001788B6F9710>]],\n",
       "      dtype=object)"
      ]
     },
     "execution_count": 8,
     "metadata": {},
     "output_type": "execute_result"
    },
    {
     "data": {
      "image/png": "[encoded data removed]",
      "text/plain": [
       "<Figure size 720x504 with 64 Axes>"
      ]
     },
     "metadata": {
      "needs_background": "light"
     },
     "output_type": "display_data"
    }
   ],
   "source": [
    "scatter_matrix(df, figsize = (10, 7))"
   ]
  },
  {
   "cell_type": "code",
   "execution_count": 9,
   "metadata": {},
   "outputs": [
    {
     "data": {
      "text/plain": [
       "[array(['adviser', 'amdahl', 'apollo', 'basf', 'bti', 'burroughs', 'c.r.d',\n",
       "        'cambex', 'cdc', 'dec', 'dg', 'formation', 'four-phase', 'gould',\n",
       "        'harris', 'honeywell', 'hp', 'ibm', 'ipl', 'magnuson', 'microdata',\n",
       "        'nas', 'ncr', 'nixdorf', 'perkin-elmer', 'prime', 'siemens',\n",
       "        'sperry', 'sratus', 'wang'], dtype=object)]"
      ]
     },
     "execution_count": 9,
     "metadata": {},
     "output_type": "execute_result"
    }
   ],
   "source": [
    "vendor_enc = OneHotEncoder()\n",
    "data = vendor_enc.fit_transform(df[['vendor name']])\n",
    "vendor_enc.categories_"
   ]
  },
  {
   "cell_type": "code",
   "execution_count": 10,
   "metadata": {},
   "outputs": [],
   "source": [
    "for index, vendor in enumerate(list(vendor_enc.categories_[0])):\n",
    "    df[vendor] = data.toarray().astype('int16')[:, index]"
   ]
  },
  {
   "cell_type": "code",
   "execution_count": 11,
   "metadata": {},
   "outputs": [],
   "source": [
    "model_enc = OneHotEncoder()\n",
    "data = model_enc.fit_transform(df[['model no']]).toarray().astype('int16')"
   ]
  },
  {
   "cell_type": "code",
   "execution_count": 12,
   "metadata": {},
   "outputs": [],
   "source": [
    "for index, model in enumerate(model_enc.categories_[0]):\n",
    "    df[model] = data[:, index]"
   ]
  },
  {
   "cell_type": "code",
   "execution_count": 13,
   "metadata": {},
   "outputs": [],
   "source": [
    "df.drop(['model no', 'vendor name'], axis = 1, inplace = True)"
   ]
  },
  {
   "cell_type": "code",
   "execution_count": 14,
   "metadata": {},
   "outputs": [],
   "source": [
    "X = df.drop('ERP', axis = 1)\n",
    "y = df['ERP'].copy()\n",
    "\n",
    "X_train, X_test, y_train, y_test = train_test_split(X, y, test_size = 0.4)"
   ]
  },
  {
   "cell_type": "code",
   "execution_count": 15,
   "metadata": {},
   "outputs": [],
   "source": [
    "score_board = {'Regressor': [], 'R2 score': [], 'RMSE': [], 'MAE': []}"
   ]
  },
  {
   "cell_type": "code",
   "execution_count": 16,
   "metadata": {},
   "outputs": [
    {
     "data": {
      "text/plain": [
       "LinearRegression(copy_X=True, fit_intercept=True, n_jobs=None, normalize=False)"
      ]
     },
     "execution_count": 16,
     "metadata": {},
     "output_type": "execute_result"
    }
   ],
   "source": [
    "lin_reg = LinearRegression()\n",
    "lin_reg.fit(X_train, y_train)"
   ]
  },
  {
   "cell_type": "code",
   "execution_count": 17,
   "metadata": {},
   "outputs": [
    {
     "data": {
      "text/plain": [
       "array([0.88081861, 0.43275255, 0.74630988, 0.89337519, 0.94939004])"
      ]
     },
     "execution_count": 17,
     "metadata": {},
     "output_type": "execute_result"
    }
   ],
   "source": [
    "cross_val_score(lin_reg, X, y)"
   ]
  },
  {
   "cell_type": "code",
   "execution_count": 18,
   "metadata": {},
   "outputs": [],
   "source": [
    "reg = lin_reg\n",
    "y_pred = reg.predict(X_test)\n",
    "\n",
    "score_board['Regressor'].append(reg.__class__.__name__)\n",
    "\n",
    "score = r2_score(y_test, y_pred)\n",
    "score_board['R2 score'].append(score)\n",
    "\n",
    "score = np.sqrt(mean_squared_error(y_test, y_pred))\n",
    "score_board['RMSE'].append(score)\n",
    "\n",
    "score = mean_absolute_error(y_test, y_pred)\n",
    "score_board['MAE'].append(score)"
   ]
  },
  {
   "cell_type": "code",
   "execution_count": 19,
   "metadata": {},
   "outputs": [
    {
     "data": {
      "text/plain": [
       "GridSearchCV(cv=3, error_score=nan,\n",
       "             estimator=DecisionTreeRegressor(ccp_alpha=0.0, criterion='mse',\n",
       "                                             max_depth=None, max_features=None,\n",
       "                                             max_leaf_nodes=None,\n",
       "                                             min_impurity_decrease=0.0,\n",
       "                                             min_impurity_split=None,\n",
       "                                             min_samples_leaf=1,\n",
       "                                             min_samples_split=2,\n",
       "                                             min_weight_fraction_leaf=0.0,\n",
       "                                             presort='deprecated',\n",
       "                                             random_state=None,\n",
       "                                             splitter='best'),\n",
       "             iid='deprecated', n_jobs=None,\n",
       "             param_grid={'max_depth': [7, 9, 12],\n",
       "                         'max_features': [220, 230, 240, 246],\n",
       "                         'max_leaf_nodes': [7, 9, 12, 15]},\n",
       "             pre_dispatch='2*n_jobs', refit=True, return_train_score=False,\n",
       "             scoring=None, verbose=0)"
      ]
     },
     "execution_count": 19,
     "metadata": {},
     "output_type": "execute_result"
    }
   ],
   "source": [
    "tree_reg = DecisionTreeRegressor()\n",
    "grid_model = GridSearchCV(tree_reg,\n",
    "                         param_grid = {\n",
    "                             'max_depth': [7, 9, 12],\n",
    "                             'max_leaf_nodes': [7, 9, 12, 15],\n",
    "                             'max_features': [220, 230, 240, 246]\n",
    "                         },\n",
    "                          cv = 3)\n",
    "grid_model.fit(X_train, y_train)"
   ]
  },
  {
   "cell_type": "code",
   "execution_count": 20,
   "metadata": {},
   "outputs": [
    {
     "data": {
      "text/plain": [
       "{'max_depth': 7, 'max_features': 246, 'max_leaf_nodes': 12}"
      ]
     },
     "execution_count": 20,
     "metadata": {},
     "output_type": "execute_result"
    }
   ],
   "source": [
    "grid_model.best_params_"
   ]
  },
  {
   "cell_type": "code",
   "execution_count": 21,
   "metadata": {},
   "outputs": [
    {
     "data": {
      "text/plain": [
       "DecisionTreeRegressor(ccp_alpha=0.0, criterion='mse', max_depth=7,\n",
       "                      max_features=246, max_leaf_nodes=12,\n",
       "                      min_impurity_decrease=0.0, min_impurity_split=None,\n",
       "                      min_samples_leaf=1, min_samples_split=2,\n",
       "                      min_weight_fraction_leaf=0.0, presort='deprecated',\n",
       "                      random_state=None, splitter='best')"
      ]
     },
     "execution_count": 21,
     "metadata": {},
     "output_type": "execute_result"
    }
   ],
   "source": [
    "tree_reg = DecisionTreeRegressor(**grid_model.best_params_)\n",
    "tree_reg.fit(X_train, y_train)"
   ]
  },
  {
   "cell_type": "code",
   "execution_count": 22,
   "metadata": {},
   "outputs": [
    {
     "data": {
      "text/plain": [
       "array([0.90652377, 0.47124409, 0.91983979, 0.79106574, 0.42902678])"
      ]
     },
     "execution_count": 22,
     "metadata": {},
     "output_type": "execute_result"
    }
   ],
   "source": [
    "cross_val_score(tree_reg, X, y)"
   ]
  },
  {
   "cell_type": "code",
   "execution_count": 23,
   "metadata": {},
   "outputs": [],
   "source": [
    "reg = tree_reg\n",
    "y_pred = reg.predict(X_test)\n",
    "\n",
    "score_board['Regressor'].append(reg.__class__.__name__)\n",
    "\n",
    "score = r2_score(y_test, y_pred)\n",
    "score_board['R2 score'].append(score)\n",
    "\n",
    "score = np.sqrt(mean_squared_error(y_test, y_pred))\n",
    "score_board['RMSE'].append(score)\n",
    "\n",
    "score = mean_absolute_error(y_test, y_pred)\n",
    "score_board['MAE'].append(score)"
   ]
  },
  {
   "cell_type": "code",
   "execution_count": 24,
   "metadata": {},
   "outputs": [
    {
     "data": {
      "text/plain": [
       "GridSearchCV(cv=3, error_score=nan,\n",
       "             estimator=SVR(C=1.0, cache_size=200, coef0=0.0, degree=3,\n",
       "                           epsilon=0.1, gamma='scale', kernel='rbf',\n",
       "                           max_iter=-1, shrinking=True, tol=0.001,\n",
       "                           verbose=False),\n",
       "             iid='deprecated', n_jobs=None,\n",
       "             param_grid={'C': [3, 5, 8, 10], 'degree': [3, 5, 8]},\n",
       "             pre_dispatch='2*n_jobs', refit=True, return_train_score=False,\n",
       "             scoring=None, verbose=0)"
      ]
     },
     "execution_count": 24,
     "metadata": {},
     "output_type": "execute_result"
    }
   ],
   "source": [
    "svm_reg = SVR()\n",
    "grid_model = GridSearchCV(svm_reg,\n",
    "                         param_grid = {'C': [3, 5, 8, 10],\n",
    "                                      'degree': [3, 5, 8]},\n",
    "                         cv = 3)\n",
    "grid_model.fit(X_train, y_train)"
   ]
  },
  {
   "cell_type": "code",
   "execution_count": 25,
   "metadata": {},
   "outputs": [
    {
     "data": {
      "text/plain": [
       "{'C': 10, 'degree': 3}"
      ]
     },
     "execution_count": 25,
     "metadata": {},
     "output_type": "execute_result"
    }
   ],
   "source": [
    "grid_model.best_params_"
   ]
  },
  {
   "cell_type": "code",
   "execution_count": 26,
   "metadata": {},
   "outputs": [
    {
     "data": {
      "text/plain": [
       "SVR(C=10, cache_size=200, coef0=0.0, degree=3, epsilon=0.1, gamma='scale',\n",
       "    kernel='rbf', max_iter=-1, shrinking=True, tol=0.001, verbose=False)"
      ]
     },
     "execution_count": 26,
     "metadata": {},
     "output_type": "execute_result"
    }
   ],
   "source": [
    "svm_reg = SVR(**grid_model.best_params_)\n",
    "svm_reg.fit(X_train, y_train)"
   ]
  },
  {
   "cell_type": "code",
   "execution_count": 27,
   "metadata": {},
   "outputs": [
    {
     "data": {
      "text/plain": [
       "array([0.16001415, 0.75306982, 0.89661194, 0.63282858, 0.22155393])"
      ]
     },
     "execution_count": 27,
     "metadata": {},
     "output_type": "execute_result"
    }
   ],
   "source": [
    "cross_val_score(svm_reg, X, y)"
   ]
  },
  {
   "cell_type": "code",
   "execution_count": 28,
   "metadata": {},
   "outputs": [],
   "source": [
    "reg = svm_reg\n",
    "y_pred = reg.predict(X_test)\n",
    "\n",
    "score_board['Regressor'].append(reg.__class__.__name__)\n",
    "\n",
    "score = r2_score(y_test, y_pred)\n",
    "score_board['R2 score'].append(score)\n",
    "\n",
    "score = np.sqrt(mean_squared_error(y_test, y_pred))\n",
    "score_board['RMSE'].append(score)\n",
    "\n",
    "score = mean_absolute_error(y_test, y_pred)\n",
    "score_board['MAE'].append(score)"
   ]
  },
  {
   "cell_type": "code",
   "execution_count": 29,
   "metadata": {},
   "outputs": [
    {
     "data": {
      "text/plain": [
       "GridSearchCV(cv=3, error_score=nan,\n",
       "             estimator=Ridge(alpha=1.0, copy_X=True, fit_intercept=True,\n",
       "                             max_iter=None, normalize=False, random_state=None,\n",
       "                             solver='auto', tol=0.001),\n",
       "             iid='deprecated', n_jobs=None, param_grid={'alpha': [1, 2, 3, 4]},\n",
       "             pre_dispatch='2*n_jobs', refit=True, return_train_score=False,\n",
       "             scoring=None, verbose=0)"
      ]
     },
     "execution_count": 29,
     "metadata": {},
     "output_type": "execute_result"
    }
   ],
   "source": [
    "ridge = Ridge()\n",
    "grid_model = GridSearchCV(ridge,\n",
    "                         param_grid = {\n",
    "                             'alpha': [1, 2, 3, 4]\n",
    "                         },\n",
    "                         cv = 3)\n",
    "grid_model.fit(X_train, y_train)"
   ]
  },
  {
   "cell_type": "code",
   "execution_count": 30,
   "metadata": {},
   "outputs": [
    {
     "data": {
      "text/plain": [
       "{'alpha': 4}"
      ]
     },
     "execution_count": 30,
     "metadata": {},
     "output_type": "execute_result"
    }
   ],
   "source": [
    "grid_model.best_params_"
   ]
  },
  {
   "cell_type": "code",
   "execution_count": 31,
   "metadata": {},
   "outputs": [
    {
     "data": {
      "text/plain": [
       "Ridge(alpha=4, copy_X=True, fit_intercept=True, max_iter=None, normalize=False,\n",
       "      random_state=None, solver='auto', tol=0.001)"
      ]
     },
     "execution_count": 31,
     "metadata": {},
     "output_type": "execute_result"
    }
   ],
   "source": [
    "ridge = Ridge(**grid_model.best_params_)\n",
    "ridge.fit(X_train, y_train)"
   ]
  },
  {
   "cell_type": "code",
   "execution_count": 32,
   "metadata": {},
   "outputs": [
    {
     "data": {
      "text/plain": [
       "array([0.89290343, 0.45832396, 0.78575034, 0.91291636, 0.95045815])"
      ]
     },
     "execution_count": 32,
     "metadata": {},
     "output_type": "execute_result"
    }
   ],
   "source": [
    "cross_val_score(ridge, X, y)"
   ]
  },
  {
   "cell_type": "code",
   "execution_count": 33,
   "metadata": {},
   "outputs": [],
   "source": [
    "reg = ridge\n",
    "y_pred = reg.predict(X_test)\n",
    "\n",
    "score_board['Regressor'].append(reg.__class__.__name__)\n",
    "\n",
    "score = r2_score(y_test, y_pred)\n",
    "score_board['R2 score'].append(score)\n",
    "\n",
    "score = np.sqrt(mean_squared_error(y_test, y_pred))\n",
    "score_board['RMSE'].append(score)\n",
    "\n",
    "score = mean_absolute_error(y_test, y_pred)\n",
    "score_board['MAE'].append(score)"
   ]
  },
  {
   "cell_type": "code",
   "execution_count": 34,
   "metadata": {},
   "outputs": [
    {
     "data": {
      "text/plain": [
       "GridSearchCV(cv=None, error_score=nan,\n",
       "             estimator=Lasso(alpha=1.0, copy_X=True, fit_intercept=True,\n",
       "                             max_iter=1000, normalize=False, positive=False,\n",
       "                             precompute=False, random_state=None,\n",
       "                             selection='cyclic', tol=0.0001, warm_start=False),\n",
       "             iid='deprecated', n_jobs=None,\n",
       "             param_grid={'alpha': [0.1, 0.3, 0.5, 0.8, 1.0]},\n",
       "             pre_dispatch='2*n_jobs', refit=True, return_train_score=False,\n",
       "             scoring=None, verbose=0)"
      ]
     },
     "execution_count": 34,
     "metadata": {},
     "output_type": "execute_result"
    }
   ],
   "source": [
    "lasso = Lasso()\n",
    "grid_model = GridSearchCV(lasso,\n",
    "                         param_grid = {\n",
    "                             'alpha': [0.1, 0.3, 0.5, 0.8, 1.0]\n",
    "                         })\n",
    "grid_model.fit(X_train, y_train)"
   ]
  },
  {
   "cell_type": "code",
   "execution_count": 35,
   "metadata": {},
   "outputs": [
    {
     "data": {
      "text/plain": [
       "{'alpha': 0.1}"
      ]
     },
     "execution_count": 35,
     "metadata": {},
     "output_type": "execute_result"
    }
   ],
   "source": [
    "grid_model.best_params_"
   ]
  },
  {
   "cell_type": "code",
   "execution_count": 36,
   "metadata": {},
   "outputs": [
    {
     "data": {
      "text/plain": [
       "Lasso(alpha=0.1, copy_X=True, fit_intercept=True, max_iter=1000,\n",
       "      normalize=False, positive=False, precompute=False, random_state=None,\n",
       "      selection='cyclic', tol=0.0001, warm_start=False)"
      ]
     },
     "execution_count": 36,
     "metadata": {},
     "output_type": "execute_result"
    }
   ],
   "source": [
    "lasso = Lasso(**grid_model.best_params_)\n",
    "lasso.fit(X_train, y_train)"
   ]
  },
  {
   "cell_type": "code",
   "execution_count": 37,
   "metadata": {},
   "outputs": [
    {
     "data": {
      "text/plain": [
       "array([0.87605616, 0.64305707, 0.9372309 , 0.92877871, 0.83167703])"
      ]
     },
     "execution_count": 37,
     "metadata": {},
     "output_type": "execute_result"
    }
   ],
   "source": [
    "cross_val_score(lasso, X, y)"
   ]
  },
  {
   "cell_type": "code",
   "execution_count": 38,
   "metadata": {},
   "outputs": [],
   "source": [
    "reg = lasso\n",
    "y_pred = reg.predict(X_test)\n",
    "\n",
    "score_board['Regressor'].append(reg.__class__.__name__)\n",
    "\n",
    "score = r2_score(y_test, y_pred)\n",
    "score_board['R2 score'].append(score)\n",
    "\n",
    "score = np.sqrt(mean_squared_error(y_test, y_pred))\n",
    "score_board['RMSE'].append(score)\n",
    "\n",
    "score = mean_absolute_error(y_test, y_pred)\n",
    "score_board['MAE'].append(score)"
   ]
  },
  {
   "cell_type": "code",
   "execution_count": 39,
   "metadata": {},
   "outputs": [
    {
     "data": {
      "text/plain": [
       "GridSearchCV(cv=3, error_score=nan,\n",
       "             estimator=ElasticNet(alpha=1.0, copy_X=True, fit_intercept=True,\n",
       "                                  l1_ratio=0.5, max_iter=1000, normalize=False,\n",
       "                                  positive=False, precompute=False,\n",
       "                                  random_state=None, selection='cyclic',\n",
       "                                  tol=0.0001, warm_start=False),\n",
       "             iid='deprecated', n_jobs=None, param_grid={'alpha': [1, 2, 3, 4]},\n",
       "             pre_dispatch='2*n_jobs', refit=True, return_train_score=False,\n",
       "             scoring=None, verbose=0)"
      ]
     },
     "execution_count": 39,
     "metadata": {},
     "output_type": "execute_result"
    }
   ],
   "source": [
    "elastic_net = ElasticNet()\n",
    "grid_model = GridSearchCV(elastic_net,\n",
    "                         param_grid = {\n",
    "                             'alpha': [1, 2, 3, 4]\n",
    "                         },\n",
    "                          cv = 3)\n",
    "grid_model.fit(X_train, y_train)"
   ]
  },
  {
   "cell_type": "code",
   "execution_count": 40,
   "metadata": {},
   "outputs": [
    {
     "data": {
      "text/plain": [
       "{'alpha': 4}"
      ]
     },
     "execution_count": 40,
     "metadata": {},
     "output_type": "execute_result"
    }
   ],
   "source": [
    "grid_model.best_params_"
   ]
  },
  {
   "cell_type": "code",
   "execution_count": 41,
   "metadata": {},
   "outputs": [
    {
     "data": {
      "text/plain": [
       "ElasticNet(alpha=4, copy_X=True, fit_intercept=True, l1_ratio=0.5,\n",
       "           max_iter=1000, normalize=False, positive=False, precompute=False,\n",
       "           random_state=None, selection='cyclic', tol=0.0001, warm_start=False)"
      ]
     },
     "execution_count": 41,
     "metadata": {},
     "output_type": "execute_result"
    }
   ],
   "source": [
    "elastic_net = ElasticNet(**grid_model.best_params_)\n",
    "elastic_net.fit(X_train, y_train)"
   ]
  },
  {
   "cell_type": "code",
   "execution_count": 42,
   "metadata": {},
   "outputs": [
    {
     "data": {
      "text/plain": [
       "array([0.89872666, 0.50793713, 0.81761182, 0.90813005, 0.95441902])"
      ]
     },
     "execution_count": 42,
     "metadata": {},
     "output_type": "execute_result"
    }
   ],
   "source": [
    "cross_val_score(elastic_net, X, y)"
   ]
  },
  {
   "cell_type": "code",
   "execution_count": 43,
   "metadata": {},
   "outputs": [],
   "source": [
    "reg = elastic_net\n",
    "y_pred = reg.predict(X_test)\n",
    "\n",
    "score_board['Regressor'].append(reg.__class__.__name__)\n",
    "\n",
    "score = r2_score(y_test, y_pred)\n",
    "score_board['R2 score'].append(score)\n",
    "\n",
    "score = np.sqrt(mean_squared_error(y_test, y_pred))\n",
    "score_board['RMSE'].append(score)\n",
    "\n",
    "score = mean_absolute_error(y_test, y_pred)\n",
    "score_board['MAE'].append(score)"
   ]
  },
  {
   "cell_type": "code",
   "execution_count": 48,
   "metadata": {},
   "outputs": [
    {
     "data": {
      "text/html": [
       "<div>\n",
       "<style scoped>\n",
       "    .dataframe tbody tr th:only-of-type {\n",
       "        vertical-align: middle;\n",
       "    }\n",
       "\n",
       "    .dataframe tbody tr th {\n",
       "        vertical-align: top;\n",
       "    }\n",
       "\n",
       "    .dataframe thead th {\n",
       "        text-align: right;\n",
       "    }\n",
       "</style>\n",
       "<table border=\"1\" class=\"dataframe\">\n",
       "  <thead>\n",
       "    <tr style=\"text-align: right;\">\n",
       "      <th></th>\n",
       "      <th>Regressor</th>\n",
       "      <th>R2 score</th>\n",
       "      <th>RMSE</th>\n",
       "      <th>MAE</th>\n",
       "    </tr>\n",
       "  </thead>\n",
       "  <tbody>\n",
       "    <tr>\n",
       "      <th>0</th>\n",
       "      <td>LinearRegression</td>\n",
       "      <td>0.951564</td>\n",
       "      <td>37.359055</td>\n",
       "      <td>23.183542</td>\n",
       "    </tr>\n",
       "    <tr>\n",
       "      <th>1</th>\n",
       "      <td>DecisionTreeRegressor</td>\n",
       "      <td>0.571655</td>\n",
       "      <td>111.098857</td>\n",
       "      <td>33.572344</td>\n",
       "    </tr>\n",
       "    <tr>\n",
       "      <th>2</th>\n",
       "      <td>SVR</td>\n",
       "      <td>0.239342</td>\n",
       "      <td>148.049596</td>\n",
       "      <td>42.209356</td>\n",
       "    </tr>\n",
       "    <tr>\n",
       "      <th>3</th>\n",
       "      <td>Ridge</td>\n",
       "      <td>0.948585</td>\n",
       "      <td>38.491003</td>\n",
       "      <td>22.863364</td>\n",
       "    </tr>\n",
       "    <tr>\n",
       "      <th>4</th>\n",
       "      <td>Lasso</td>\n",
       "      <td>0.874560</td>\n",
       "      <td>60.121622</td>\n",
       "      <td>21.201161</td>\n",
       "    </tr>\n",
       "    <tr>\n",
       "      <th>5</th>\n",
       "      <td>ElasticNet</td>\n",
       "      <td>0.946846</td>\n",
       "      <td>39.136425</td>\n",
       "      <td>22.271532</td>\n",
       "    </tr>\n",
       "  </tbody>\n",
       "</table>\n",
       "</div>"
      ],
      "text/plain": [
       "               Regressor  R2 score        RMSE        MAE\n",
       "0       LinearRegression  0.951564   37.359055  23.183542\n",
       "1  DecisionTreeRegressor  0.571655  111.098857  33.572344\n",
       "2                    SVR  0.239342  148.049596  42.209356\n",
       "3                  Ridge  0.948585   38.491003  22.863364\n",
       "4                  Lasso  0.874560   60.121622  21.201161\n",
       "5             ElasticNet  0.946846   39.136425  22.271532"
      ]
     },
     "execution_count": 48,
     "metadata": {},
     "output_type": "execute_result"
    }
   ],
   "source": [
    "score_board_df = pd.DataFrame(score_board)\n",
    "score_board_df"
   ]
  },
  {
   "cell_type": "code",
   "execution_count": null,
   "metadata": {},
   "outputs": [],
   "source": [
    "def ada_boost_regressor(base_estimator):\n",
    "    ada_boost = AdaBoostRegressor(base_estimator)\n",
    "    grid_model = GridSearchCV(ada_boost,\n",
    "                             param_grid = {'n_estimator'})"
   ]
  },
  {
   "cell_type": "code",
   "execution_count": null,
   "metadata": {},
   "outputs": [],
   "source": [
    "lin_reg = LinearRegression()\n",
    "ridge = Ridge()\n",
    "lasso = Lasso()\n",
    "elastic_net = ElasticNet()"
   ]
  }
 ],
 "metadata": {
  "kernelspec": {
   "display_name": "Python 3",
   "language": "python",
   "name": "python3"
  },
  "language_info": {
   "codemirror_mode": {
    "name": "ipython",
    "version": 3
   },
   "file_extension": ".py",
   "mimetype": "text/x-python",
   "name": "python",
   "nbconvert_exporter": "python",
   "pygments_lexer": "ipython3",
   "version": "3.7.3"
  }
 },
 "nbformat": 4,
 "nbformat_minor": 2
}
