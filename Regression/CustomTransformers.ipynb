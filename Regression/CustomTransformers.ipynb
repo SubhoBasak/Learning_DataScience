{
 "cells": [
  {
   "cell_type": "code",
   "execution_count": 1,
   "metadata": {},
   "outputs": [],
   "source": [
    "import numpy as np\n",
    "from sklearn.base import BaseEstimator, TransformerMixin"
   ]
  },
  {
   "cell_type": "code",
   "execution_count": 5,
   "metadata": {},
   "outputs": [
    {
     "data": {
      "text/plain": [
       "array([[  1,  10, 100],\n",
       "       [  2,  20, 200],\n",
       "       [  3,  30, 300],\n",
       "       [  4,  40, 400],\n",
       "       [  5,  50, 500]])"
      ]
     },
     "execution_count": 5,
     "metadata": {},
     "output_type": "execute_result"
    }
   ],
   "source": [
    "arr = np.array([[1, 10, 100],\n",
    "               [2, 20, 200],\n",
    "               [3, 30, 300],\n",
    "               [4, 40, 400],\n",
    "                [5, 50, 500]])\n",
    "\n",
    "arr"
   ]
  },
  {
   "cell_type": "code",
   "execution_count": 6,
   "metadata": {},
   "outputs": [],
   "source": [
    "class CombinedAttributesAdder(BaseEstimator, TransformerMixin):\n",
    "    def __init__(self, add_extra_data = False):\n",
    "        self.add_extra_data = add_extra_data\n",
    "    \n",
    "    def fit(self, X, y = None):\n",
    "        return self\n",
    "    \n",
    "    def transform(self, X, y = None):\n",
    "        FIRST_COL = X[:, 0]-1\n",
    "        SECOND_COL = X[:, 1]-10\n",
    "        THIRD_COL = X[:,2]-100\n",
    "        if self.add_extra_data:\n",
    "            return np.c_[X, FIRST_COL, SECOND_COL, THIRD_COL,\n",
    "                        FIRST_COL+SECOND_COL+THIRD_COL]\n",
    "        else:\n",
    "            return np.c_[X, FIRST_COL, SECOND_COL, THIRD_COL]"
   ]
  },
  {
   "cell_type": "code",
   "execution_count": 11,
   "metadata": {},
   "outputs": [],
   "source": [
    "att_adder = CombinedAttributesAdder(True)"
   ]
  },
  {
   "cell_type": "code",
   "execution_count": 12,
   "metadata": {},
   "outputs": [
    {
     "data": {
      "text/plain": [
       "CombinedAttributesAdder(add_extra_data=True)"
      ]
     },
     "execution_count": 12,
     "metadata": {},
     "output_type": "execute_result"
    }
   ],
   "source": [
    "att_adder.fit(arr)"
   ]
  },
  {
   "cell_type": "code",
   "execution_count": 13,
   "metadata": {},
   "outputs": [
    {
     "data": {
      "text/plain": [
       "array([[  1,  10, 100,   0,   0,   0,   0],\n",
       "       [  2,  20, 200,   1,  10, 100, 111],\n",
       "       [  3,  30, 300,   2,  20, 200, 222],\n",
       "       [  4,  40, 400,   3,  30, 300, 333],\n",
       "       [  5,  50, 500,   4,  40, 400, 444]])"
      ]
     },
     "execution_count": 13,
     "metadata": {},
     "output_type": "execute_result"
    }
   ],
   "source": [
    "att_adder.transform(arr)"
   ]
  },
  {
   "cell_type": "code",
   "execution_count": null,
   "metadata": {},
   "outputs": [],
   "source": []
  }
 ],
 "metadata": {
  "kernelspec": {
   "display_name": "Python 3",
   "language": "python",
   "name": "python3"
  },
  "language_info": {
   "codemirror_mode": {
    "name": "ipython",
    "version": 3
   },
   "file_extension": ".py",
   "mimetype": "text/x-python",
   "name": "python",
   "nbconvert_exporter": "python",
   "pygments_lexer": "ipython3",
   "version": "3.7.3"
  }
 },
 "nbformat": 4,
 "nbformat_minor": 2
}
