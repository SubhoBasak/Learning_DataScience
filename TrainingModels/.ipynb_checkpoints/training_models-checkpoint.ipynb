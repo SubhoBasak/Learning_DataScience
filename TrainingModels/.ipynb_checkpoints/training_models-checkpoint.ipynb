{
 "cells": [
  {
   "cell_type": "code",
   "execution_count": 1,
   "metadata": {},
   "outputs": [],
   "source": [
    "import numpy as np\n",
    "import matplotlib.pyplot as plt"
   ]
  },
  {
   "cell_type": "code",
   "execution_count": 2,
   "metadata": {},
   "outputs": [],
   "source": [
    "X = 2 * np.random.rand(100)\n",
    "y = 4 + 3 * X + np.random.rand(100)"
   ]
  },
  {
   "cell_type": "code",
   "execution_count": 3,
   "metadata": {},
   "outputs": [
    {
     "data": {
      "text/plain": [
       "array([0.49058474, 0.53890215, 0.54190295, 0.55082351, 0.66525144,\n",
       "       1.29464061, 1.35273714, 1.97264075, 0.94997585, 0.77320145,\n",
       "       1.13338365, 0.68819188, 1.58433839, 1.77021342, 0.53909184,\n",
       "       0.52378539, 1.87449052, 0.02119724, 0.12123409, 0.65447656,\n",
       "       0.35337215, 1.969234  , 0.4442802 , 0.24763698, 1.03115093,\n",
       "       0.61891111, 1.50569141, 0.08992175, 0.25734382, 1.31185947,\n",
       "       1.47046755, 0.07144605, 0.7953517 , 1.40706195, 0.29904788,\n",
       "       1.3657088 , 0.3655802 , 0.83983624, 1.26295802, 1.73361027,\n",
       "       1.86775108, 1.60506537, 0.6975941 , 0.83726368, 0.62650246,\n",
       "       1.72252955, 0.36402953, 1.45705665, 0.55624753, 1.20517505,\n",
       "       1.3362805 , 1.09597462, 0.37192477, 0.68423892, 0.51771226,\n",
       "       0.53822605, 0.60735623, 0.66410509, 0.70520023, 0.06283908,\n",
       "       0.65930565, 1.07980863, 1.48613687, 1.85922854, 0.82158614,\n",
       "       1.3142421 , 1.98155311, 0.33461688, 1.62569293, 1.97507056,\n",
       "       1.32470659, 0.97855959, 1.4537949 , 1.05239068, 1.04377644,\n",
       "       0.70505291, 0.39837683, 1.34634229, 0.24125147, 1.14666823,\n",
       "       0.44999389, 0.20744108, 0.35205477, 0.77674857, 1.68636114,\n",
       "       1.92915927, 0.69001862, 1.40084624, 0.13675765, 1.01305588,\n",
       "       0.44524563, 1.04758067, 0.40240041, 0.31301534, 0.63004161,\n",
       "       1.78709877, 1.49978896, 1.50395779, 0.36791091, 1.85161805])"
      ]
     },
     "execution_count": 3,
     "metadata": {},
     "output_type": "execute_result"
    }
   ],
   "source": [
    "X"
   ]
  },
  {
   "cell_type": "code",
   "execution_count": 4,
   "metadata": {},
   "outputs": [
    {
     "data": {
      "text/plain": [
       "array([ 5.5051545 ,  6.20959734,  5.73885306,  6.13473372,  6.78015451,\n",
       "        8.02965844,  8.37730941, 10.84908491,  7.04705328,  6.59407609,\n",
       "        7.44885227,  6.99769623,  9.33918382, 10.09417371,  6.30872444,\n",
       "        6.04440596, 10.39666715,  5.02451248,  5.30031464,  6.26486052,\n",
       "        5.73598839, 10.1093977 ,  5.45389336,  5.3858252 ,  7.21540647,\n",
       "        6.50913768,  9.19776376,  5.24890218,  5.1653259 ,  8.623436  ,\n",
       "        8.68812796,  4.91064007,  6.57793553,  8.99320953,  5.77270227,\n",
       "        8.15479365,  5.38991862,  6.99823552,  8.01233532,  9.5468185 ,\n",
       "        9.92911811,  9.50136319,  6.17198789,  6.99362554,  6.38660457,\n",
       "        9.97153444,  5.19166732,  8.51089299,  6.60847056,  7.79484969,\n",
       "        8.89976452,  8.09843635,  5.86696257,  6.19469849,  6.49840212,\n",
       "        6.60825125,  6.04188945,  6.10495245,  6.50385778,  4.94311746,\n",
       "        6.57396528,  7.61883042,  8.92844985, 10.08686766,  6.83674694,\n",
       "        8.84939062, 10.53840884,  5.04810587,  9.20640631, 10.50585808,\n",
       "        8.12545614,  7.68207636,  8.36761834,  7.15820919,  7.53334895,\n",
       "        6.44661438,  5.71177577,  8.79697292,  5.49612985,  8.0778736 ,\n",
       "        5.94444129,  5.21808271,  5.83831405,  7.09294942,  9.30652172,\n",
       "       10.01369978,  6.31001701,  8.35111758,  4.7014635 ,  7.70410241,\n",
       "        6.24095387,  7.46220611,  5.78641779,  5.50448872,  6.61914488,\n",
       "        9.48439763,  8.53168073,  8.71394996,  5.57883755, 10.44521513])"
      ]
     },
     "execution_count": 4,
     "metadata": {},
     "output_type": "execute_result"
    }
   ],
   "source": [
    "y"
   ]
  },
  {
   "cell_type": "code",
   "execution_count": 5,
   "metadata": {},
   "outputs": [
    {
     "data": {
      "text/plain": [
       "<matplotlib.collections.PathCollection at 0x2a8887bc630>"
      ]
     },
     "execution_count": 5,
     "metadata": {},
     "output_type": "execute_result"
    },
    {
     "data": {
      "image/png": "[encoded data removed]",
      "text/plain": [
       "<Figure size 432x288 with 1 Axes>"
      ]
     },
     "metadata": {
      "needs_background": "light"
     },
     "output_type": "display_data"
    }
   ],
   "source": [
    "plt.scatter(X, y, alpha = 0.7)"
   ]
  },
  {
   "cell_type": "code",
   "execution_count": 6,
   "metadata": {},
   "outputs": [
    {
     "data": {
      "text/plain": [
       "array([[1.        , 0.49058474],\n",
       "       [1.        , 0.53890215],\n",
       "       [1.        , 0.54190295],\n",
       "       [1.        , 0.55082351],\n",
       "       [1.        , 0.66525144],\n",
       "       [1.        , 1.29464061],\n",
       "       [1.        , 1.35273714],\n",
       "       [1.        , 1.97264075],\n",
       "       [1.        , 0.94997585],\n",
       "       [1.        , 0.77320145],\n",
       "       [1.        , 1.13338365],\n",
       "       [1.        , 0.68819188],\n",
       "       [1.        , 1.58433839],\n",
       "       [1.        , 1.77021342],\n",
       "       [1.        , 0.53909184],\n",
       "       [1.        , 0.52378539],\n",
       "       [1.        , 1.87449052],\n",
       "       [1.        , 0.02119724],\n",
       "       [1.        , 0.12123409],\n",
       "       [1.        , 0.65447656],\n",
       "       [1.        , 0.35337215],\n",
       "       [1.        , 1.969234  ],\n",
       "       [1.        , 0.4442802 ],\n",
       "       [1.        , 0.24763698],\n",
       "       [1.        , 1.03115093],\n",
       "       [1.        , 0.61891111],\n",
       "       [1.        , 1.50569141],\n",
       "       [1.        , 0.08992175],\n",
       "       [1.        , 0.25734382],\n",
       "       [1.        , 1.31185947],\n",
       "       [1.        , 1.47046755],\n",
       "       [1.        , 0.07144605],\n",
       "       [1.        , 0.7953517 ],\n",
       "       [1.        , 1.40706195],\n",
       "       [1.        , 0.29904788],\n",
       "       [1.        , 1.3657088 ],\n",
       "       [1.        , 0.3655802 ],\n",
       "       [1.        , 0.83983624],\n",
       "       [1.        , 1.26295802],\n",
       "       [1.        , 1.73361027],\n",
       "       [1.        , 1.86775108],\n",
       "       [1.        , 1.60506537],\n",
       "       [1.        , 0.6975941 ],\n",
       "       [1.        , 0.83726368],\n",
       "       [1.        , 0.62650246],\n",
       "       [1.        , 1.72252955],\n",
       "       [1.        , 0.36402953],\n",
       "       [1.        , 1.45705665],\n",
       "       [1.        , 0.55624753],\n",
       "       [1.        , 1.20517505],\n",
       "       [1.        , 1.3362805 ],\n",
       "       [1.        , 1.09597462],\n",
       "       [1.        , 0.37192477],\n",
       "       [1.        , 0.68423892],\n",
       "       [1.        , 0.51771226],\n",
       "       [1.        , 0.53822605],\n",
       "       [1.        , 0.60735623],\n",
       "       [1.        , 0.66410509],\n",
       "       [1.        , 0.70520023],\n",
       "       [1.        , 0.06283908],\n",
       "       [1.        , 0.65930565],\n",
       "       [1.        , 1.07980863],\n",
       "       [1.        , 1.48613687],\n",
       "       [1.        , 1.85922854],\n",
       "       [1.        , 0.82158614],\n",
       "       [1.        , 1.3142421 ],\n",
       "       [1.        , 1.98155311],\n",
       "       [1.        , 0.33461688],\n",
       "       [1.        , 1.62569293],\n",
       "       [1.        , 1.97507056],\n",
       "       [1.        , 1.32470659],\n",
       "       [1.        , 0.97855959],\n",
       "       [1.        , 1.4537949 ],\n",
       "       [1.        , 1.05239068],\n",
       "       [1.        , 1.04377644],\n",
       "       [1.        , 0.70505291],\n",
       "       [1.        , 0.39837683],\n",
       "       [1.        , 1.34634229],\n",
       "       [1.        , 0.24125147],\n",
       "       [1.        , 1.14666823],\n",
       "       [1.        , 0.44999389],\n",
       "       [1.        , 0.20744108],\n",
       "       [1.        , 0.35205477],\n",
       "       [1.        , 0.77674857],\n",
       "       [1.        , 1.68636114],\n",
       "       [1.        , 1.92915927],\n",
       "       [1.        , 0.69001862],\n",
       "       [1.        , 1.40084624],\n",
       "       [1.        , 0.13675765],\n",
       "       [1.        , 1.01305588],\n",
       "       [1.        , 0.44524563],\n",
       "       [1.        , 1.04758067],\n",
       "       [1.        , 0.40240041],\n",
       "       [1.        , 0.31301534],\n",
       "       [1.        , 0.63004161],\n",
       "       [1.        , 1.78709877],\n",
       "       [1.        , 1.49978896],\n",
       "       [1.        , 1.50395779],\n",
       "       [1.        , 0.36791091],\n",
       "       [1.        , 1.85161805]])"
      ]
     },
     "execution_count": 6,
     "metadata": {},
     "output_type": "execute_result"
    }
   ],
   "source": [
    "X_b = np.c_[np.ones((100, 1)), X]\n",
    "X_b"
   ]
  },
  {
   "cell_type": "code",
   "execution_count": 7,
   "metadata": {},
   "outputs": [
    {
     "data": {
      "text/plain": [
       "array([[1.        , 1.        , 1.        , 1.        , 1.        ,\n",
       "        1.        , 1.        , 1.        , 1.        , 1.        ,\n",
       "        1.        , 1.        , 1.        , 1.        , 1.        ,\n",
       "        1.        , 1.        , 1.        , 1.        , 1.        ,\n",
       "        1.        , 1.        , 1.        , 1.        , 1.        ,\n",
       "        1.        , 1.        , 1.        , 1.        , 1.        ,\n",
       "        1.        , 1.        , 1.        , 1.        , 1.        ,\n",
       "        1.        , 1.        , 1.        , 1.        , 1.        ,\n",
       "        1.        , 1.        , 1.        , 1.        , 1.        ,\n",
       "        1.        , 1.        , 1.        , 1.        , 1.        ,\n",
       "        1.        , 1.        , 1.        , 1.        , 1.        ,\n",
       "        1.        , 1.        , 1.        , 1.        , 1.        ,\n",
       "        1.        , 1.        , 1.        , 1.        , 1.        ,\n",
       "        1.        , 1.        , 1.        , 1.        , 1.        ,\n",
       "        1.        , 1.        , 1.        , 1.        , 1.        ,\n",
       "        1.        , 1.        , 1.        , 1.        , 1.        ,\n",
       "        1.        , 1.        , 1.        , 1.        , 1.        ,\n",
       "        1.        , 1.        , 1.        , 1.        , 1.        ,\n",
       "        1.        , 1.        , 1.        , 1.        , 1.        ,\n",
       "        1.        , 1.        , 1.        , 1.        , 1.        ],\n",
       "       [0.49058474, 0.53890215, 0.54190295, 0.55082351, 0.66525144,\n",
       "        1.29464061, 1.35273714, 1.97264075, 0.94997585, 0.77320145,\n",
       "        1.13338365, 0.68819188, 1.58433839, 1.77021342, 0.53909184,\n",
       "        0.52378539, 1.87449052, 0.02119724, 0.12123409, 0.65447656,\n",
       "        0.35337215, 1.969234  , 0.4442802 , 0.24763698, 1.03115093,\n",
       "        0.61891111, 1.50569141, 0.08992175, 0.25734382, 1.31185947,\n",
       "        1.47046755, 0.07144605, 0.7953517 , 1.40706195, 0.29904788,\n",
       "        1.3657088 , 0.3655802 , 0.83983624, 1.26295802, 1.73361027,\n",
       "        1.86775108, 1.60506537, 0.6975941 , 0.83726368, 0.62650246,\n",
       "        1.72252955, 0.36402953, 1.45705665, 0.55624753, 1.20517505,\n",
       "        1.3362805 , 1.09597462, 0.37192477, 0.68423892, 0.51771226,\n",
       "        0.53822605, 0.60735623, 0.66410509, 0.70520023, 0.06283908,\n",
       "        0.65930565, 1.07980863, 1.48613687, 1.85922854, 0.82158614,\n",
       "        1.3142421 , 1.98155311, 0.33461688, 1.62569293, 1.97507056,\n",
       "        1.32470659, 0.97855959, 1.4537949 , 1.05239068, 1.04377644,\n",
       "        0.70505291, 0.39837683, 1.34634229, 0.24125147, 1.14666823,\n",
       "        0.44999389, 0.20744108, 0.35205477, 0.77674857, 1.68636114,\n",
       "        1.92915927, 0.69001862, 1.40084624, 0.13675765, 1.01305588,\n",
       "        0.44524563, 1.04758067, 0.40240041, 0.31301534, 0.63004161,\n",
       "        1.78709877, 1.49978896, 1.50395779, 0.36791091, 1.85161805]])"
      ]
     },
     "execution_count": 7,
     "metadata": {},
     "output_type": "execute_result"
    }
   ],
   "source": [
    "X_b.T"
   ]
  },
  {
   "cell_type": "code",
   "execution_count": 8,
   "metadata": {},
   "outputs": [
    {
     "data": {
      "text/plain": [
       "array([4.56766919, 2.91194068])"
      ]
     },
     "execution_count": 8,
     "metadata": {},
     "output_type": "execute_result"
    }
   ],
   "source": [
    "theta_best = np.linalg.inv(X_b.T.dot(X_b)).dot(X_b.T).dot(y)\n",
    "theta_best"
   ]
  },
  {
   "cell_type": "markdown",
   "metadata": {},
   "source": [
    "The actual function that we used to generate the data is y = 4 + 3x + Gaussian noise.\n",
    "\n",
    "We would have hope for θ0 = 4 and θ1 = 3 instead of θ0 = 4.559 and θ0 = 2.913. Close enough, but the noise made it impossible to recover the exact parameters of the original function."
   ]
  },
  {
   "cell_type": "code",
   "execution_count": 9,
   "metadata": {},
   "outputs": [
    {
     "data": {
      "text/plain": [
       "array([ 4.56766919, 10.39155055])"
      ]
     },
     "execution_count": 9,
     "metadata": {},
     "output_type": "execute_result"
    }
   ],
   "source": [
    "X_new = np.array([[0], [2]])\n",
    "X_new_b = np.c_[np.ones((2, 1)), X_new]\n",
    "\n",
    "y_predict = X_new_b.dot(theta_best)\n",
    "y_predict"
   ]
  },
  {
   "cell_type": "code",
   "execution_count": 10,
   "metadata": {},
   "outputs": [
    {
     "data": {
      "text/plain": [
       "<matplotlib.legend.Legend at 0x2a88bf0b208>"
      ]
     },
     "execution_count": 10,
     "metadata": {},
     "output_type": "execute_result"
    },
    {
     "data": {
      "image/png": "[encoded data removed]",
      "text/plain": [
       "<Figure size 432x288 with 1 Axes>"
      ]
     },
     "metadata": {
      "needs_background": "light"
     },
     "output_type": "display_data"
    }
   ],
   "source": [
    "plt.plot(X_new, y_predict, 'r-', label = 'preditions')\n",
    "plt.plot(X, y, 'b.')\n",
    "plt.legend()"
   ]
  },
  {
   "cell_type": "code",
   "execution_count": 11,
   "metadata": {},
   "outputs": [],
   "source": [
    "from sklearn.linear_model import LinearRegression"
   ]
  },
  {
   "cell_type": "code",
   "execution_count": 12,
   "metadata": {},
   "outputs": [
    {
     "data": {
      "text/plain": [
       "LinearRegression(copy_X=True, fit_intercept=True, n_jobs=None, normalize=False)"
      ]
     },
     "execution_count": 12,
     "metadata": {},
     "output_type": "execute_result"
    }
   ],
   "source": [
    "lin_reg = LinearRegression()\n",
    "lin_reg.fit(X.reshape(-1, 1), y)"
   ]
  },
  {
   "cell_type": "code",
   "execution_count": 13,
   "metadata": {},
   "outputs": [
    {
     "data": {
      "text/plain": [
       "(4.56766918791438, array([2.91194068]))"
      ]
     },
     "execution_count": 13,
     "metadata": {},
     "output_type": "execute_result"
    }
   ],
   "source": [
    "lin_reg.intercept_, lin_reg.coef_"
   ]
  },
  {
   "cell_type": "code",
   "execution_count": 14,
   "metadata": {},
   "outputs": [
    {
     "data": {
      "text/plain": [
       "array([ 4.56766919, 10.39155055])"
      ]
     },
     "execution_count": 14,
     "metadata": {},
     "output_type": "execute_result"
    }
   ],
   "source": [
    "lin_reg.predict(X_new)"
   ]
  },
  {
   "cell_type": "markdown",
   "metadata": {},
   "source": [
    "The LinearRegression class is based on the scipy.linalg.lstsq() function (the name stands for \"least squares\"), which you could call directly:"
   ]
  },
  {
   "cell_type": "code",
   "execution_count": 15,
   "metadata": {},
   "outputs": [
    {
     "data": {
      "text/plain": [
       "array([4.56766919, 2.91194068])"
      ]
     },
     "execution_count": 15,
     "metadata": {},
     "output_type": "execute_result"
    }
   ],
   "source": [
    "theta_best_svd, residuals, rank, s = np.linalg.lstsq(X_b, y, rcond = 1e-6)\n",
    "theta_best_svd"
   ]
  },
  {
   "cell_type": "code",
   "execution_count": 16,
   "metadata": {},
   "outputs": [
    {
     "data": {
      "text/plain": [
       "array([4.56766919, 2.91194068])"
      ]
     },
     "execution_count": 16,
     "metadata": {},
     "output_type": "execute_result"
    }
   ],
   "source": [
    "np.linalg.pinv(X_b).dot(y)"
   ]
  },
  {
   "cell_type": "code",
   "execution_count": 17,
   "metadata": {},
   "outputs": [],
   "source": [
    "eta = 0.2 # learning rate\n",
    "n_iterations = 1000\n",
    "m = 100"
   ]
  },
  {
   "cell_type": "markdown",
   "metadata": {},
   "source": [
    "Eta (η) is the 7th letter of the Greek alphabet"
   ]
  },
  {
   "cell_type": "code",
   "execution_count": 18,
   "metadata": {},
   "outputs": [
    {
     "data": {
      "text/plain": [
       "array([[ 0.13133538],\n",
       "       [-0.29086457]])"
      ]
     },
     "execution_count": 18,
     "metadata": {},
     "output_type": "execute_result"
    }
   ],
   "source": [
    "theta = np.random.randn(2, 1)\n",
    "theta"
   ]
  },
  {
   "cell_type": "code",
   "execution_count": 19,
   "metadata": {},
   "outputs": [],
   "source": [
    "for iteration in range(n_iterations):\n",
    "    gradients = 2/m * X_b.T.dot(X_b.dot(theta) - y.reshape(-1, 1))\n",
    "    theta = theta - eta * gradients"
   ]
  },
  {
   "cell_type": "code",
   "execution_count": 20,
   "metadata": {},
   "outputs": [
    {
     "data": {
      "text/plain": [
       "array([[4.56766919],\n",
       "       [2.91194068]])"
      ]
     },
     "execution_count": 20,
     "metadata": {},
     "output_type": "execute_result"
    }
   ],
   "source": [
    "theta"
   ]
  },
  {
   "cell_type": "code",
   "execution_count": 21,
   "metadata": {},
   "outputs": [],
   "source": [
    "count = 0\n",
    "\n",
    "def plot_lines(theta, alpha = 1.0, lrn_rate = None):\n",
    "    global count\n",
    "    \n",
    "    x1, x2 = min(X), max(X)\n",
    "    y1 = theta[0][0]+theta[1][0]*x1\n",
    "    y2 = theta[0][0]+theta[1][0]*x2\n",
    "    if lrn_rate != None:\n",
    "        plt.scatter(count, lrn_rate)\n",
    "        count += 0.0004\n",
    "    else:\n",
    "        plt.plot([x1, x2], [y1, y2], 'g-', alpha = alpha)"
   ]
  },
  {
   "cell_type": "code",
   "execution_count": 22,
   "metadata": {},
   "outputs": [
    {
     "data": {
      "text/plain": [
       "array([[0.],\n",
       "       [0.]])"
      ]
     },
     "execution_count": 22,
     "metadata": {},
     "output_type": "execute_result"
    }
   ],
   "source": [
    "n_iterations = 200\n",
    "\n",
    "theta = np.zeros((2, 1))\n",
    "theta"
   ]
  },
  {
   "cell_type": "code",
   "execution_count": 23,
   "metadata": {},
   "outputs": [],
   "source": [
    "eta = 0.00001"
   ]
  },
  {
   "cell_type": "code",
   "execution_count": 24,
   "metadata": {},
   "outputs": [
    {
     "data": {
      "text/plain": [
       "<matplotlib.collections.PathCollection at 0x2a88e9126a0>"
      ]
     },
     "execution_count": 24,
     "metadata": {},
     "output_type": "execute_result"
    },
    {
     "data": {
      "image/png": "[encoded data removed]",
      "text/plain": [
       "<Figure size 432x288 with 1 Axes>"
      ]
     },
     "metadata": {
      "needs_background": "light"
     },
     "output_type": "display_data"
    }
   ],
   "source": [
    "for i in range(n_iterations):\n",
    "    gradients = X_b.T.dot(X_b.dot(theta) - y)\n",
    "    theta = theta - eta * gradients\n",
    "    if i%100 == 0:\n",
    "        plot_lines(theta)\n",
    "plot_lines(theta)\n",
    "plt.scatter(X, y)"
   ]
  },
  {
   "cell_type": "code",
   "execution_count": 25,
   "metadata": {},
   "outputs": [],
   "source": [
    "theta = np.zeros((2, 1))\n",
    "\n",
    "eta = 0.001"
   ]
  },
  {
   "cell_type": "code",
   "execution_count": 26,
   "metadata": {},
   "outputs": [
    {
     "data": {
      "text/plain": [
       "<matplotlib.collections.PathCollection at 0x2a88edeb630>"
      ]
     },
     "execution_count": 26,
     "metadata": {},
     "output_type": "execute_result"
    },
    {
     "data": {
      "image/png": "[encoded data removed]",
      "text/plain": [
       "<Figure size 432x288 with 1 Axes>"
      ]
     },
     "metadata": {
      "needs_background": "light"
     },
     "output_type": "display_data"
    }
   ],
   "source": [
    "for i in range(n_iterations):\n",
    "    gradients = X_b.T.dot(X_b.dot(theta) - y)\n",
    "    theta = theta - eta * gradients\n",
    "    if i%100 == 0:\n",
    "        plot_lines(theta)\n",
    "plot_lines(theta)\n",
    "plt.scatter(X, y)"
   ]
  },
  {
   "cell_type": "markdown",
   "metadata": {},
   "source": [
    "# Stochastic Gradient Descent"
   ]
  },
  {
   "cell_type": "code",
   "execution_count": 27,
   "metadata": {},
   "outputs": [],
   "source": [
    "n_epochs = 10\n",
    "t0, t1 = 1, 10"
   ]
  },
  {
   "cell_type": "code",
   "execution_count": 28,
   "metadata": {},
   "outputs": [],
   "source": [
    "def learning_schedule(t):\n",
    "    return t0/(t+t1)"
   ]
  },
  {
   "cell_type": "code",
   "execution_count": 29,
   "metadata": {},
   "outputs": [
    {
     "data": {
      "text/plain": [
       "array([[-1.36324479],\n",
       "       [ 0.13880947]])"
      ]
     },
     "execution_count": 29,
     "metadata": {},
     "output_type": "execute_result"
    }
   ],
   "source": [
    "theta = np.random.randn(2, 1)\n",
    "theta"
   ]
  },
  {
   "cell_type": "code",
   "execution_count": 30,
   "metadata": {},
   "outputs": [
    {
     "data": {
      "text/plain": [
       "<matplotlib.collections.PathCollection at 0x2a88f35c2b0>"
      ]
     },
     "execution_count": 30,
     "metadata": {},
     "output_type": "execute_result"
    },
    {
     "data": {
      "image/png": "[encoded data removed]",
      "text/plain": [
       "<Figure size 432x288 with 1 Axes>"
      ]
     },
     "metadata": {
      "needs_background": "light"
     },
     "output_type": "display_data"
    }
   ],
   "source": [
    "for epoch in range(n_epochs):\n",
    "    for i in range(m):\n",
    "        random_index = np.random.randint(m)\n",
    "        xi = X_b[random_index : random_index+1]\n",
    "        yi = y[random_index: random_index+1]\n",
    "        \n",
    "        gradients = 2*xi.T.dot(xi.dot(theta) - yi)\n",
    "        eta = learning_schedule(epoch*m+i)\n",
    "        theta = theta - eta * gradients\n",
    "        \n",
    "        if i%2 == 0:\n",
    "            plot_lines(theta, alpha = 0.7)\n",
    "plt.scatter(X, y)"
   ]
  },
  {
   "cell_type": "code",
   "execution_count": 31,
   "metadata": {},
   "outputs": [
    {
     "data": {
      "text/plain": [
       "array([[4.47496501],\n",
       "       [2.98400483]])"
      ]
     },
     "execution_count": 31,
     "metadata": {},
     "output_type": "execute_result"
    }
   ],
   "source": [
    "theta"
   ]
  },
  {
   "cell_type": "code",
   "execution_count": 32,
   "metadata": {},
   "outputs": [],
   "source": [
    "from sklearn.linear_model import SGDRegressor"
   ]
  },
  {
   "cell_type": "markdown",
   "metadata": {},
   "source": [
    "The following code runs for masimum 1000 epochs (max_iter = 1000) or until the loss drop by less than 1e-3 during one epoch (tol = 1e-3), starting with a learning rate of 0.1 (eta0 = 0.1), using the default learning schedule (different from the preceding one), and it does not use any regularization (penalty = None; more details on this shortly):"
   ]
  },
  {
   "cell_type": "code",
   "execution_count": 33,
   "metadata": {},
   "outputs": [
    {
     "data": {
      "text/plain": [
       "SGDRegressor(alpha=0.0001, average=False, early_stopping=False, epsilon=0.1,\n",
       "             eta0=0.1, fit_intercept=True, l1_ratio=0.15,\n",
       "             learning_rate='invscaling', loss='squared_loss', max_iter=1000,\n",
       "             n_iter_no_change=5, penalty=None, power_t=0.25, random_state=None,\n",
       "             shuffle=True, tol=0.001, validation_fraction=0.1, verbose=0,\n",
       "             warm_start=False)"
      ]
     },
     "execution_count": 33,
     "metadata": {},
     "output_type": "execute_result"
    }
   ],
   "source": [
    "sgd_reg = SGDRegressor(max_iter = 1000, tol = 1e-3, penalty = None,\n",
    "                      eta0 = 0.1)\n",
    "sgd_reg.fit(X.reshape(-1, 1), y)"
   ]
  },
  {
   "cell_type": "code",
   "execution_count": 34,
   "metadata": {},
   "outputs": [
    {
     "data": {
      "text/plain": [
       "(array([4.54034764]), array([2.91552877]))"
      ]
     },
     "execution_count": 34,
     "metadata": {},
     "output_type": "execute_result"
    }
   ],
   "source": [
    "sgd_reg.intercept_, sgd_reg.coef_"
   ]
  },
  {
   "cell_type": "markdown",
   "metadata": {},
   "source": [
    "# Polynomial Regression"
   ]
  },
  {
   "cell_type": "code",
   "execution_count": 35,
   "metadata": {},
   "outputs": [],
   "source": [
    "m = 100\n",
    "\n",
    "X = 6 * np.random.rand(100, 1) - 3\n",
    "y = 0.5 * X**2 + X + 2 + np.random.rand(100, 1)"
   ]
  },
  {
   "cell_type": "code",
   "execution_count": 36,
   "metadata": {},
   "outputs": [
    {
     "data": {
      "text/plain": [
       "<matplotlib.collections.PathCollection at 0x2a88f47a160>"
      ]
     },
     "execution_count": 36,
     "metadata": {},
     "output_type": "execute_result"
    },
    {
     "data": {
      "image/png": "[encoded data removed]",
      "text/plain": [
       "<Figure size 432x288 with 1 Axes>"
      ]
     },
     "metadata": {
      "needs_background": "light"
     },
     "output_type": "display_data"
    }
   ],
   "source": [
    "plt.scatter(X, y)"
   ]
  },
  {
   "cell_type": "code",
   "execution_count": 37,
   "metadata": {},
   "outputs": [],
   "source": [
    "from sklearn.preprocessing import PolynomialFeatures"
   ]
  },
  {
   "cell_type": "code",
   "execution_count": 38,
   "metadata": {},
   "outputs": [],
   "source": [
    "poly_features = PolynomialFeatures(degree = 2, include_bias = False)"
   ]
  },
  {
   "cell_type": "code",
   "execution_count": 39,
   "metadata": {},
   "outputs": [],
   "source": [
    "X_poly = poly_features.fit_transform(X)"
   ]
  },
  {
   "cell_type": "code",
   "execution_count": 40,
   "metadata": {},
   "outputs": [
    {
     "data": {
      "text/plain": [
       "array([-2.96679985])"
      ]
     },
     "execution_count": 40,
     "metadata": {},
     "output_type": "execute_result"
    }
   ],
   "source": [
    "X[0]"
   ]
  },
  {
   "cell_type": "code",
   "execution_count": 41,
   "metadata": {},
   "outputs": [
    {
     "data": {
      "text/plain": [
       "array([-2.96679985,  8.80190134])"
      ]
     },
     "execution_count": 41,
     "metadata": {},
     "output_type": "execute_result"
    }
   ],
   "source": [
    "X_poly[0]"
   ]
  },
  {
   "cell_type": "code",
   "execution_count": 42,
   "metadata": {},
   "outputs": [
    {
     "data": {
      "text/plain": [
       "LinearRegression(copy_X=True, fit_intercept=True, n_jobs=None, normalize=False)"
      ]
     },
     "execution_count": 42,
     "metadata": {},
     "output_type": "execute_result"
    }
   ],
   "source": [
    "lin_reg = LinearRegression()\n",
    "lin_reg.fit(X_poly, y)"
   ]
  },
  {
   "cell_type": "code",
   "execution_count": 43,
   "metadata": {},
   "outputs": [
    {
     "data": {
      "text/plain": [
       "(array([2.50244453]), array([[0.99447739, 0.50834391]]))"
      ]
     },
     "execution_count": 43,
     "metadata": {},
     "output_type": "execute_result"
    }
   ],
   "source": [
    "lin_reg.intercept_, lin_reg.coef_"
   ]
  },
  {
   "cell_type": "code",
   "execution_count": 44,
   "metadata": {},
   "outputs": [
    {
     "data": {
      "text/plain": [
       "<matplotlib.legend.Legend at 0x2a88f460f60>"
      ]
     },
     "execution_count": 44,
     "metadata": {},
     "output_type": "execute_result"
    },
    {
     "data": {
      "image/png": "[encoded data removed]",
      "text/plain": [
       "<Figure size 432x288 with 1 Axes>"
      ]
     },
     "metadata": {
      "needs_background": "light"
     },
     "output_type": "display_data"
    }
   ],
   "source": [
    "x_points = np.linspace(-3, 3, 1000).reshape(-1, 1)\n",
    "y_points = lin_reg.coef_[0][1]*x_points**2+lin_reg.coef_[0][0]*x_points+lin_reg.intercept_\n",
    "\n",
    "plt.scatter(X, y, s = 4)\n",
    "plt.plot(x_points, y_points, 'red', label = 'Predictions')\n",
    "plt.legend()"
   ]
  },
  {
   "cell_type": "code",
   "execution_count": 45,
   "metadata": {},
   "outputs": [],
   "source": [
    "from sklearn.metrics import mean_squared_error\n",
    "from sklearn.model_selection import train_test_split"
   ]
  },
  {
   "cell_type": "code",
   "execution_count": 46,
   "metadata": {},
   "outputs": [],
   "source": [
    "def plot_learning_curves(model, X, y):\n",
    "    X_train, X_test, y_train, y_test = train_test_split(X, y, test_size = 0.2)\n",
    "    train_errors, test_errors = [], []\n",
    "    for m in range(1, len(X_train)):\n",
    "        model.fit(X_train[:m], y_train[:m])\n",
    "        y_train_predict = model.predict(X_train[:m])\n",
    "        y_test_predict = model.predict(X_test)\n",
    "        train_errors.append(mean_squared_error(y_train[:m], y_train_predict))\n",
    "        test_errors.append(mean_squared_error(y_test, y_test_predict))\n",
    "    plt.plot(np.sqrt(train_errors), 'r-+', linewidth = 2, label = 'train')\n",
    "    plt.plot(np.sqrt(test_errors), 'b-', linewidth = 3, label = 'test')"
   ]
  },
  {
   "cell_type": "code",
   "execution_count": 47,
   "metadata": {},
   "outputs": [
    {
     "data": {
      "text/plain": [
       "Text(0, 0.5, 'RMSE')"
      ]
     },
     "execution_count": 47,
     "metadata": {},
     "output_type": "execute_result"
    },
    {
     "data": {
      "image/png": "[encoded data removed]",
      "text/plain": [
       "<Figure size 432x288 with 1 Axes>"
      ]
     },
     "metadata": {
      "needs_background": "light"
     },
     "output_type": "display_data"
    }
   ],
   "source": [
    "lin_reg = LinearRegression()\n",
    "plot_learning_curves(lin_reg, X, y)\n",
    "plt.legend()\n",
    "plt.xlabel('Training set size', fontsize = 17)\n",
    "plt.ylabel('RMSE', fontsize = 17)"
   ]
  },
  {
   "cell_type": "code",
   "execution_count": 48,
   "metadata": {},
   "outputs": [],
   "source": [
    "from sklearn.pipeline import Pipeline"
   ]
  },
  {
   "cell_type": "code",
   "execution_count": 49,
   "metadata": {},
   "outputs": [],
   "source": [
    "polynomial_regression = Pipeline([\n",
    "    ('poly_features', PolynomialFeatures(degree = 10, include_bias = False)),\n",
    "    ('lin_reg', LinearRegression())\n",
    "])"
   ]
  },
  {
   "cell_type": "code",
   "execution_count": 50,
   "metadata": {},
   "outputs": [
    {
     "data": {
      "text/plain": [
       "(0, 3)"
      ]
     },
     "execution_count": 50,
     "metadata": {},
     "output_type": "execute_result"
    },
    {
     "data": {
      "image/png": "[encoded data removed]",
      "text/plain": [
       "<Figure size 432x288 with 1 Axes>"
      ]
     },
     "metadata": {
      "needs_background": "light"
     },
     "output_type": "display_data"
    }
   ],
   "source": [
    "plot_learning_curves(polynomial_regression, X, y)\n",
    "plt.ylim(0, 3)"
   ]
  },
  {
   "cell_type": "code",
   "execution_count": 51,
   "metadata": {},
   "outputs": [],
   "source": [
    "from sklearn.linear_model import Ridge"
   ]
  },
  {
   "cell_type": "code",
   "execution_count": 53,
   "metadata": {},
   "outputs": [
    {
     "data": {
      "text/plain": [
       "Ridge(alpha=1, copy_X=True, fit_intercept=True, max_iter=None, normalize=False,\n",
       "      random_state=None, solver='cholesky', tol=0.001)"
      ]
     },
     "execution_count": 53,
     "metadata": {},
     "output_type": "execute_result"
    }
   ],
   "source": [
    "ridge_reg = Ridge(alpha = 1, solver = 'cholesky')\n",
    "ridge_reg.fit(X, y)"
   ]
  },
  {
   "cell_type": "code",
   "execution_count": 56,
   "metadata": {},
   "outputs": [
    {
     "data": {
      "text/plain": [
       "array([[5.37933892]])"
      ]
     },
     "execution_count": 56,
     "metadata": {},
     "output_type": "execute_result"
    }
   ],
   "source": [
    "ridge_reg.predict([[1.5]])"
   ]
  },
  {
   "cell_type": "code",
   "execution_count": 60,
   "metadata": {},
   "outputs": [
    {
     "data": {
      "text/plain": [
       "SGDRegressor(alpha=0.0001, average=False, early_stopping=False, epsilon=0.1,\n",
       "             eta0=0.01, fit_intercept=True, l1_ratio=0.15,\n",
       "             learning_rate='invscaling', loss='squared_loss', max_iter=1000,\n",
       "             n_iter_no_change=5, penalty='l2', power_t=0.25, random_state=None,\n",
       "             shuffle=True, tol=0.001, validation_fraction=0.1, verbose=0,\n",
       "             warm_start=False)"
      ]
     },
     "execution_count": 60,
     "metadata": {},
     "output_type": "execute_result"
    }
   ],
   "source": [
    "sgd_reg = SGDRegressor(penalty = 'l2')\n",
    "sgd_reg.fit(X, y.ravel())"
   ]
  },
  {
   "cell_type": "code",
   "execution_count": null,
   "metadata": {},
   "outputs": [],
   "source": []
  },
  {
   "cell_type": "code",
   "execution_count": null,
   "metadata": {},
   "outputs": [],
   "source": []
  }
 ],
 "metadata": {
  "kernelspec": {
   "display_name": "Python 3",
   "language": "python",
   "name": "python3"
  },
  "language_info": {
   "codemirror_mode": {
    "name": "ipython",
    "version": 3
   },
   "file_extension": ".py",
   "mimetype": "text/x-python",
   "name": "python",
   "nbconvert_exporter": "python",
   "pygments_lexer": "ipython3",
   "version": "3.7.3"
  }
 },
 "nbformat": 4,
 "nbformat_minor": 2
}
