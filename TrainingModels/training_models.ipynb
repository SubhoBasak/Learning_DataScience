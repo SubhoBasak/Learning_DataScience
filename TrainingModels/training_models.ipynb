{
 "cells": [
  {
   "cell_type": "code",
   "execution_count": 10,
   "metadata": {},
   "outputs": [],
   "source": [
    "import numpy as np\n",
    "import matplotlib.pyplot as plt"
   ]
  },
  {
   "cell_type": "code",
   "execution_count": 11,
   "metadata": {},
   "outputs": [],
   "source": [
    "X = 2 * np.random.rand(100)\n",
    "y = 4 + 3 * X + np.random.rand(100)"
   ]
  },
  {
   "cell_type": "code",
   "execution_count": 13,
   "metadata": {},
   "outputs": [
    {
     "data": {
      "text/plain": [
       "array([1.22381771, 0.33484606, 1.79116499, 1.0972045 , 0.58708761,\n",
       "       0.67425144, 0.78809361, 0.50017204, 1.19867969, 1.88641379,\n",
       "       1.63090197, 0.21741024, 0.55834151, 0.96632163, 0.33095517,\n",
       "       0.30247762, 1.39536251, 1.65483298, 0.29856301, 1.86560975,\n",
       "       1.61752249, 0.88830109, 0.33412783, 0.82035252, 0.88114137,\n",
       "       0.56162651, 0.30514704, 0.26652807, 0.927246  , 0.6472019 ,\n",
       "       1.46759806, 1.59249471, 0.54859356, 0.44568258, 0.27100998,\n",
       "       0.56383922, 0.31471836, 1.49118372, 1.31356476, 1.4483579 ,\n",
       "       0.86952648, 0.01068541, 1.86819678, 0.45559328, 1.12858338,\n",
       "       1.05319032, 0.76853101, 0.86548841, 1.51990219, 1.23941067,\n",
       "       0.17726825, 1.61672528, 0.77226815, 1.7436655 , 1.41673476,\n",
       "       1.88563692, 0.81548329, 1.60564075, 0.82650963, 1.57277607,\n",
       "       1.3880621 , 0.66465048, 1.00496117, 1.5079204 , 0.68535075,\n",
       "       0.809881  , 0.40951594, 0.71768006, 0.16190761, 1.58966439,\n",
       "       1.10232128, 1.48667932, 1.40675516, 0.07196299, 1.50990126,\n",
       "       1.59349994, 0.46857557, 1.38511493, 1.46985333, 1.49836288,\n",
       "       1.97025849, 0.39058219, 1.4106388 , 0.72857153, 0.57928047,\n",
       "       1.02144989, 1.38193859, 0.67125806, 0.56868311, 0.69950328,\n",
       "       0.47170453, 1.92285318, 0.16978444, 0.41365283, 0.57386948,\n",
       "       0.67493904, 0.59231862, 0.59730052, 1.99174638, 1.32148549])"
      ]
     },
     "execution_count": 13,
     "metadata": {},
     "output_type": "execute_result"
    }
   ],
   "source": [
    "X"
   ]
  },
  {
   "cell_type": "code",
   "execution_count": 14,
   "metadata": {},
   "outputs": [
    {
     "data": {
      "text/plain": [
       "array([ 8.28393352,  5.78915493,  9.51464277,  7.48203439,  5.93467211,\n",
       "        6.5567454 ,  7.35378662,  5.69061871,  7.6386731 , 10.00146527,\n",
       "        9.02239521,  5.14239981,  5.69875785,  7.14333783,  5.74957783,\n",
       "        5.03952299,  8.27433069,  9.50326015,  5.62112318, 10.38937712,\n",
       "        9.29856467,  6.85277566,  5.41169392,  6.80634632,  6.68808699,\n",
       "        6.2433631 ,  5.54350487,  5.56273148,  6.99823928,  6.81527315,\n",
       "        8.95157086,  9.18278757,  5.85464119,  6.16734924,  5.67394453,\n",
       "        6.15222688,  5.13068252,  8.97686613,  8.57123373,  8.43457538,\n",
       "        7.17080524,  4.93933248, 10.32952113,  5.82947763,  7.47533345,\n",
       "        7.84037794,  7.06313291,  6.8775992 ,  8.9011793 ,  8.07897506,\n",
       "        5.34427006,  8.92211423,  7.22609758,  9.96302509,  9.14619583,\n",
       "        9.6849829 ,  6.93885056,  9.11874857,  7.44643085,  9.26122796,\n",
       "        9.02343501,  6.87253943,  7.40440344,  8.92326362,  7.01802263,\n",
       "        7.04541203,  6.09716538,  6.39124209,  4.67682068,  9.73699764,\n",
       "        8.0927975 ,  8.80131402,  8.55251288,  4.4864792 ,  8.66926246,\n",
       "        9.24975395,  5.66975594,  8.15866943,  8.8760833 ,  8.62459737,\n",
       "       10.09677228,  6.16681506,  9.02056895,  6.83048962,  5.98810139,\n",
       "        7.81562219,  8.5114759 ,  6.70851816,  6.0508058 ,  6.29862753,\n",
       "        5.67006317, 10.63560204,  5.07226846,  5.81871456,  5.93433499,\n",
       "        6.19320077,  5.95940738,  6.63065552, 10.28819835,  8.60163713])"
      ]
     },
     "execution_count": 14,
     "metadata": {},
     "output_type": "execute_result"
    }
   ],
   "source": [
    "y"
   ]
  },
  {
   "cell_type": "code",
   "execution_count": 12,
   "metadata": {},
   "outputs": [
    {
     "data": {
      "text/plain": [
       "<matplotlib.collections.PathCollection at 0x1e2546388d0>"
      ]
     },
     "execution_count": 12,
     "metadata": {},
     "output_type": "execute_result"
    },
    {
     "data": {
      "image/png": "[encoded data removed]",
      "text/plain": [
       "<Figure size 432x288 with 1 Axes>"
      ]
     },
     "metadata": {
      "needs_background": "light"
     },
     "output_type": "display_data"
    }
   ],
   "source": [
    "plt.scatter(X, y, alpha = 0.7)"
   ]
  },
  {
   "cell_type": "code",
   "execution_count": 16,
   "metadata": {},
   "outputs": [
    {
     "data": {
      "text/plain": [
       "array([[1.        , 1.22381771],\n",
       "       [1.        , 0.33484606],\n",
       "       [1.        , 1.79116499],\n",
       "       [1.        , 1.0972045 ],\n",
       "       [1.        , 0.58708761],\n",
       "       [1.        , 0.67425144],\n",
       "       [1.        , 0.78809361],\n",
       "       [1.        , 0.50017204],\n",
       "       [1.        , 1.19867969],\n",
       "       [1.        , 1.88641379],\n",
       "       [1.        , 1.63090197],\n",
       "       [1.        , 0.21741024],\n",
       "       [1.        , 0.55834151],\n",
       "       [1.        , 0.96632163],\n",
       "       [1.        , 0.33095517],\n",
       "       [1.        , 0.30247762],\n",
       "       [1.        , 1.39536251],\n",
       "       [1.        , 1.65483298],\n",
       "       [1.        , 0.29856301],\n",
       "       [1.        , 1.86560975],\n",
       "       [1.        , 1.61752249],\n",
       "       [1.        , 0.88830109],\n",
       "       [1.        , 0.33412783],\n",
       "       [1.        , 0.82035252],\n",
       "       [1.        , 0.88114137],\n",
       "       [1.        , 0.56162651],\n",
       "       [1.        , 0.30514704],\n",
       "       [1.        , 0.26652807],\n",
       "       [1.        , 0.927246  ],\n",
       "       [1.        , 0.6472019 ],\n",
       "       [1.        , 1.46759806],\n",
       "       [1.        , 1.59249471],\n",
       "       [1.        , 0.54859356],\n",
       "       [1.        , 0.44568258],\n",
       "       [1.        , 0.27100998],\n",
       "       [1.        , 0.56383922],\n",
       "       [1.        , 0.31471836],\n",
       "       [1.        , 1.49118372],\n",
       "       [1.        , 1.31356476],\n",
       "       [1.        , 1.4483579 ],\n",
       "       [1.        , 0.86952648],\n",
       "       [1.        , 0.01068541],\n",
       "       [1.        , 1.86819678],\n",
       "       [1.        , 0.45559328],\n",
       "       [1.        , 1.12858338],\n",
       "       [1.        , 1.05319032],\n",
       "       [1.        , 0.76853101],\n",
       "       [1.        , 0.86548841],\n",
       "       [1.        , 1.51990219],\n",
       "       [1.        , 1.23941067],\n",
       "       [1.        , 0.17726825],\n",
       "       [1.        , 1.61672528],\n",
       "       [1.        , 0.77226815],\n",
       "       [1.        , 1.7436655 ],\n",
       "       [1.        , 1.41673476],\n",
       "       [1.        , 1.88563692],\n",
       "       [1.        , 0.81548329],\n",
       "       [1.        , 1.60564075],\n",
       "       [1.        , 0.82650963],\n",
       "       [1.        , 1.57277607],\n",
       "       [1.        , 1.3880621 ],\n",
       "       [1.        , 0.66465048],\n",
       "       [1.        , 1.00496117],\n",
       "       [1.        , 1.5079204 ],\n",
       "       [1.        , 0.68535075],\n",
       "       [1.        , 0.809881  ],\n",
       "       [1.        , 0.40951594],\n",
       "       [1.        , 0.71768006],\n",
       "       [1.        , 0.16190761],\n",
       "       [1.        , 1.58966439],\n",
       "       [1.        , 1.10232128],\n",
       "       [1.        , 1.48667932],\n",
       "       [1.        , 1.40675516],\n",
       "       [1.        , 0.07196299],\n",
       "       [1.        , 1.50990126],\n",
       "       [1.        , 1.59349994],\n",
       "       [1.        , 0.46857557],\n",
       "       [1.        , 1.38511493],\n",
       "       [1.        , 1.46985333],\n",
       "       [1.        , 1.49836288],\n",
       "       [1.        , 1.97025849],\n",
       "       [1.        , 0.39058219],\n",
       "       [1.        , 1.4106388 ],\n",
       "       [1.        , 0.72857153],\n",
       "       [1.        , 0.57928047],\n",
       "       [1.        , 1.02144989],\n",
       "       [1.        , 1.38193859],\n",
       "       [1.        , 0.67125806],\n",
       "       [1.        , 0.56868311],\n",
       "       [1.        , 0.69950328],\n",
       "       [1.        , 0.47170453],\n",
       "       [1.        , 1.92285318],\n",
       "       [1.        , 0.16978444],\n",
       "       [1.        , 0.41365283],\n",
       "       [1.        , 0.57386948],\n",
       "       [1.        , 0.67493904],\n",
       "       [1.        , 0.59231862],\n",
       "       [1.        , 0.59730052],\n",
       "       [1.        , 1.99174638],\n",
       "       [1.        , 1.32148549]])"
      ]
     },
     "execution_count": 16,
     "metadata": {},
     "output_type": "execute_result"
    }
   ],
   "source": [
    "X_b = np.c_[np.ones((100, 1)), X]\n",
    "X_b"
   ]
  },
  {
   "cell_type": "code",
   "execution_count": 17,
   "metadata": {},
   "outputs": [
    {
     "data": {
      "text/plain": [
       "array([[1.        , 1.        , 1.        , 1.        , 1.        ,\n",
       "        1.        , 1.        , 1.        , 1.        , 1.        ,\n",
       "        1.        , 1.        , 1.        , 1.        , 1.        ,\n",
       "        1.        , 1.        , 1.        , 1.        , 1.        ,\n",
       "        1.        , 1.        , 1.        , 1.        , 1.        ,\n",
       "        1.        , 1.        , 1.        , 1.        , 1.        ,\n",
       "        1.        , 1.        , 1.        , 1.        , 1.        ,\n",
       "        1.        , 1.        , 1.        , 1.        , 1.        ,\n",
       "        1.        , 1.        , 1.        , 1.        , 1.        ,\n",
       "        1.        , 1.        , 1.        , 1.        , 1.        ,\n",
       "        1.        , 1.        , 1.        , 1.        , 1.        ,\n",
       "        1.        , 1.        , 1.        , 1.        , 1.        ,\n",
       "        1.        , 1.        , 1.        , 1.        , 1.        ,\n",
       "        1.        , 1.        , 1.        , 1.        , 1.        ,\n",
       "        1.        , 1.        , 1.        , 1.        , 1.        ,\n",
       "        1.        , 1.        , 1.        , 1.        , 1.        ,\n",
       "        1.        , 1.        , 1.        , 1.        , 1.        ,\n",
       "        1.        , 1.        , 1.        , 1.        , 1.        ,\n",
       "        1.        , 1.        , 1.        , 1.        , 1.        ,\n",
       "        1.        , 1.        , 1.        , 1.        , 1.        ],\n",
       "       [1.22381771, 0.33484606, 1.79116499, 1.0972045 , 0.58708761,\n",
       "        0.67425144, 0.78809361, 0.50017204, 1.19867969, 1.88641379,\n",
       "        1.63090197, 0.21741024, 0.55834151, 0.96632163, 0.33095517,\n",
       "        0.30247762, 1.39536251, 1.65483298, 0.29856301, 1.86560975,\n",
       "        1.61752249, 0.88830109, 0.33412783, 0.82035252, 0.88114137,\n",
       "        0.56162651, 0.30514704, 0.26652807, 0.927246  , 0.6472019 ,\n",
       "        1.46759806, 1.59249471, 0.54859356, 0.44568258, 0.27100998,\n",
       "        0.56383922, 0.31471836, 1.49118372, 1.31356476, 1.4483579 ,\n",
       "        0.86952648, 0.01068541, 1.86819678, 0.45559328, 1.12858338,\n",
       "        1.05319032, 0.76853101, 0.86548841, 1.51990219, 1.23941067,\n",
       "        0.17726825, 1.61672528, 0.77226815, 1.7436655 , 1.41673476,\n",
       "        1.88563692, 0.81548329, 1.60564075, 0.82650963, 1.57277607,\n",
       "        1.3880621 , 0.66465048, 1.00496117, 1.5079204 , 0.68535075,\n",
       "        0.809881  , 0.40951594, 0.71768006, 0.16190761, 1.58966439,\n",
       "        1.10232128, 1.48667932, 1.40675516, 0.07196299, 1.50990126,\n",
       "        1.59349994, 0.46857557, 1.38511493, 1.46985333, 1.49836288,\n",
       "        1.97025849, 0.39058219, 1.4106388 , 0.72857153, 0.57928047,\n",
       "        1.02144989, 1.38193859, 0.67125806, 0.56868311, 0.69950328,\n",
       "        0.47170453, 1.92285318, 0.16978444, 0.41365283, 0.57386948,\n",
       "        0.67493904, 0.59231862, 0.59730052, 1.99174638, 1.32148549]])"
      ]
     },
     "execution_count": 17,
     "metadata": {},
     "output_type": "execute_result"
    }
   ],
   "source": [
    "X_b.T"
   ]
  },
  {
   "cell_type": "code",
   "execution_count": 19,
   "metadata": {},
   "outputs": [
    {
     "data": {
      "text/plain": [
       "array([4.55906683, 2.91310482])"
      ]
     },
     "execution_count": 19,
     "metadata": {},
     "output_type": "execute_result"
    }
   ],
   "source": [
    "theta_best = np.linalg.inv(X_b.T.dot(X_b)).dot(X_b.T).dot(y)\n",
    "theta_best"
   ]
  },
  {
   "cell_type": "markdown",
   "metadata": {},
   "source": [
    "The actual function that we used to generate the data is y = 4 + 3x + Gaussian noise.\n",
    "\n",
    "We would have hope for θ0 = 4 and θ1 = 3 instead of θ0 = 4.559 and θ0 = 2.913. Close enough, but the noise made it impossible to recover the exact parameters of the original function."
   ]
  },
  {
   "cell_type": "code",
   "execution_count": 21,
   "metadata": {},
   "outputs": [
    {
     "data": {
      "text/plain": [
       "array([ 4.55906683, 10.38527648])"
      ]
     },
     "execution_count": 21,
     "metadata": {},
     "output_type": "execute_result"
    }
   ],
   "source": [
    "X_new = np.array([[0], [2]])\n",
    "X_new_b = np.c_[np.ones((2, 1)), X_new]\n",
    "\n",
    "y_predict = X_new_b.dot(theta_best)\n",
    "y_predict"
   ]
  },
  {
   "cell_type": "code",
   "execution_count": 24,
   "metadata": {},
   "outputs": [
    {
     "data": {
      "text/plain": [
       "<matplotlib.legend.Legend at 0x1e254bbacf8>"
      ]
     },
     "execution_count": 24,
     "metadata": {},
     "output_type": "execute_result"
    },
    {
     "data": {
      "image/png": "[encoded data removed]",
      "text/plain": [
       "<Figure size 432x288 with 1 Axes>"
      ]
     },
     "metadata": {
      "needs_background": "light"
     },
     "output_type": "display_data"
    }
   ],
   "source": [
    "plt.plot(X_new, y_predict, 'r-', label = 'preditions')\n",
    "plt.plot(X, y, 'b.')\n",
    "plt.legend()"
   ]
  },
  {
   "cell_type": "code",
   "execution_count": 26,
   "metadata": {},
   "outputs": [],
   "source": [
    "from sklearn.linear_model import LinearRegression"
   ]
  },
  {
   "cell_type": "code",
   "execution_count": 28,
   "metadata": {},
   "outputs": [
    {
     "data": {
      "text/plain": [
       "LinearRegression(copy_X=True, fit_intercept=True, n_jobs=None, normalize=False)"
      ]
     },
     "execution_count": 28,
     "metadata": {},
     "output_type": "execute_result"
    }
   ],
   "source": [
    "lin_reg = LinearRegression()\n",
    "lin_reg.fit(X.reshape(-1, 1), y)"
   ]
  },
  {
   "cell_type": "code",
   "execution_count": 29,
   "metadata": {},
   "outputs": [
    {
     "data": {
      "text/plain": [
       "(4.559066831861351, array([2.91310482]))"
      ]
     },
     "execution_count": 29,
     "metadata": {},
     "output_type": "execute_result"
    }
   ],
   "source": [
    "lin_reg.intercept_, lin_reg.coef_"
   ]
  },
  {
   "cell_type": "code",
   "execution_count": 30,
   "metadata": {},
   "outputs": [
    {
     "data": {
      "text/plain": [
       "array([ 4.55906683, 10.38527648])"
      ]
     },
     "execution_count": 30,
     "metadata": {},
     "output_type": "execute_result"
    }
   ],
   "source": [
    "lin_reg.predict(X_new)"
   ]
  },
  {
   "cell_type": "markdown",
   "metadata": {},
   "source": [
    "The LinearRegression class is based on the scipy.linalg.lstsq() function (the name stands for \"least squares\"), which you could call directly:"
   ]
  },
  {
   "cell_type": "code",
   "execution_count": 32,
   "metadata": {},
   "outputs": [
    {
     "data": {
      "text/plain": [
       "array([4.55906683, 2.91310482])"
      ]
     },
     "execution_count": 32,
     "metadata": {},
     "output_type": "execute_result"
    }
   ],
   "source": [
    "theta_best_svd, residuals, rank, s = np.linalg.lstsq(X_b, y, rcond = 1e-6)\n",
    "theta_best_svd"
   ]
  },
  {
   "cell_type": "code",
   "execution_count": null,
   "metadata": {},
   "outputs": [],
   "source": []
  }
 ],
 "metadata": {
  "kernelspec": {
   "display_name": "Python 3",
   "language": "python",
   "name": "python3"
  },
  "language_info": {
   "codemirror_mode": {
    "name": "ipython",
    "version": 3
   },
   "file_extension": ".py",
   "mimetype": "text/x-python",
   "name": "python",
   "nbconvert_exporter": "python",
   "pygments_lexer": "ipython3",
   "version": "3.7.3"
  }
 },
 "nbformat": 4,
 "nbformat_minor": 2
}
