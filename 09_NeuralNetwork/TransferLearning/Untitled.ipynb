{
 "cells": [
  {
   "cell_type": "code",
   "execution_count": 71,
   "metadata": {},
   "outputs": [],
   "source": [
    "import numpy as np\n",
    "import pandas as pd\n",
    "import matplotlib.pyplot as plt\n",
    "from sklearn.datasets import load_digits\n",
    "from sklearn.model_selection import train_test_split\n",
    "import tensorflow as tf\n",
    "from tensorflow import keras"
   ]
  },
  {
   "cell_type": "code",
   "execution_count": 72,
   "metadata": {},
   "outputs": [],
   "source": [
    "dataset = load_digits()\n",
    "data, target = dataset.data, dataset.target"
   ]
  },
  {
   "cell_type": "code",
   "execution_count": 73,
   "metadata": {},
   "outputs": [
    {
     "data": {
      "text/plain": [
       "(1797, 64)"
      ]
     },
     "execution_count": 73,
     "metadata": {},
     "output_type": "execute_result"
    }
   ],
   "source": [
    "data.shape"
   ]
  },
  {
   "cell_type": "code",
   "execution_count": 74,
   "metadata": {},
   "outputs": [
    {
     "data": {
      "text/plain": [
       "(1797,)"
      ]
     },
     "execution_count": 74,
     "metadata": {},
     "output_type": "execute_result"
    }
   ],
   "source": [
    "target.shape"
   ]
  },
  {
   "cell_type": "code",
   "execution_count": 75,
   "metadata": {},
   "outputs": [],
   "source": [
    "X_train, X_test, y_train, y_test = train_test_split(data, target, test_size = 0.3)"
   ]
  },
  {
   "cell_type": "code",
   "execution_count": 158,
   "metadata": {},
   "outputs": [],
   "source": [
    "modelA = keras.models.Sequential()\n",
    "\n",
    "modelA.add(keras.layers.Input(shape = data.shape[1:]))\n",
    "modelA.add(keras.layers.Dense(100, activation = 'relu'))\n",
    "modelA.add(keras.layers.Dense(50, activation = 'relu'))\n",
    "modelA.add(keras.layers.Dense(10, activation = 'softmax'))"
   ]
  },
  {
   "cell_type": "code",
   "execution_count": 159,
   "metadata": {},
   "outputs": [
    {
     "name": "stdout",
     "output_type": "stream",
     "text": [
      "Model: \"sequential_15\"\n",
      "_________________________________________________________________\n",
      "Layer (type)                 Output Shape              Param #   \n",
      "=================================================================\n",
      "dense_41 (Dense)             (None, 100)               6500      \n",
      "_________________________________________________________________\n",
      "dense_42 (Dense)             (None, 50)                5050      \n",
      "_________________________________________________________________\n",
      "dense_43 (Dense)             (None, 10)                510       \n",
      "=================================================================\n",
      "Total params: 12,060\n",
      "Trainable params: 12,060\n",
      "Non-trainable params: 0\n",
      "_________________________________________________________________\n"
     ]
    }
   ],
   "source": [
    "modelA.summary()"
   ]
  },
  {
   "cell_type": "code",
   "execution_count": 160,
   "metadata": {},
   "outputs": [
    {
     "data": {
      "image/png": "[encoded data removed]",
      "text/plain": [
       "<IPython.core.display.Image object>"
      ]
     },
     "execution_count": 160,
     "metadata": {},
     "output_type": "execute_result"
    }
   ],
   "source": [
    "keras.utils.plot_model(modelA, show_layer_names=True, show_shapes = True)"
   ]
  },
  {
   "cell_type": "code",
   "execution_count": 161,
   "metadata": {},
   "outputs": [],
   "source": [
    "modelA.compile(optimizer = 'sgd', loss = 'sparse_categorical_crossentropy', metrics = ['accuracy'])"
   ]
  },
  {
   "cell_type": "code",
   "execution_count": 162,
   "metadata": {},
   "outputs": [],
   "source": [
    "checkpoint_cb = keras.callbacks.ModelCheckpoint(filepath = 'callbacks/check_point.h5', save_best_only=True)\n",
    "earlystopping_cb = keras.callbacks.EarlyStopping(patience = 10, restore_best_weights= True)"
   ]
  },
  {
   "cell_type": "code",
   "execution_count": 163,
   "metadata": {
    "scrolled": true
   },
   "outputs": [
    {
     "name": "stdout",
     "output_type": "stream",
     "text": [
      "Train on 879 samples, validate on 378 samples\n",
      "Epoch 1/100\n",
      "879/879 [==============================] - 0s 514us/sample - loss: 1.5397 - accuracy: 0.6177 - val_loss: 0.6659 - val_accuracy: 0.7910\n",
      "Epoch 2/100\n",
      "879/879 [==============================] - 0s 106us/sample - loss: 0.4577 - accuracy: 0.8726 - val_loss: 0.4638 - val_accuracy: 0.8704\n",
      "Epoch 3/100\n",
      "879/879 [==============================] - 0s 96us/sample - loss: 0.2899 - accuracy: 0.9158 - val_loss: 0.3304 - val_accuracy: 0.9180\n",
      "Epoch 4/100\n",
      "879/879 [==============================] - 0s 94us/sample - loss: 0.2120 - accuracy: 0.9465 - val_loss: 0.3117 - val_accuracy: 0.9127\n",
      "Epoch 5/100\n",
      "879/879 [==============================] - 0s 71us/sample - loss: 0.1714 - accuracy: 0.9556 - val_loss: 0.2977 - val_accuracy: 0.9206\n",
      "Epoch 6/100\n",
      "879/879 [==============================] - 0s 74us/sample - loss: 0.1401 - accuracy: 0.9693 - val_loss: 0.2513 - val_accuracy: 0.9339\n",
      "Epoch 7/100\n",
      "879/879 [==============================] - 0s 74us/sample - loss: 0.1213 - accuracy: 0.9738 - val_loss: 0.2220 - val_accuracy: 0.9418\n",
      "Epoch 8/100\n",
      "879/879 [==============================] - 0s 100us/sample - loss: 0.1000 - accuracy: 0.9784 - val_loss: 0.2135 - val_accuracy: 0.9392\n",
      "Epoch 9/100\n",
      "879/879 [==============================] - 0s 77us/sample - loss: 0.0927 - accuracy: 0.9784 - val_loss: 0.2120 - val_accuracy: 0.9365\n",
      "Epoch 10/100\n",
      "879/879 [==============================] - 0s 76us/sample - loss: 0.0818 - accuracy: 0.9818 - val_loss: 0.2094 - val_accuracy: 0.9497\n",
      "Epoch 11/100\n",
      "879/879 [==============================] - 0s 112us/sample - loss: 0.0694 - accuracy: 0.9852 - val_loss: 0.1880 - val_accuracy: 0.9497\n",
      "Epoch 12/100\n",
      "879/879 [==============================] - 0s 62us/sample - loss: 0.0642 - accuracy: 0.9863 - val_loss: 0.1950 - val_accuracy: 0.9444\n",
      "Epoch 13/100\n",
      "879/879 [==============================] - 0s 54us/sample - loss: 0.0561 - accuracy: 0.9909 - val_loss: 0.2080 - val_accuracy: 0.9392\n",
      "Epoch 14/100\n",
      "879/879 [==============================] - 0s 55us/sample - loss: 0.0512 - accuracy: 0.9920 - val_loss: 0.2056 - val_accuracy: 0.9444\n",
      "Epoch 15/100\n",
      "879/879 [==============================] - 0s 93us/sample - loss: 0.0471 - accuracy: 0.9932 - val_loss: 0.1845 - val_accuracy: 0.9418\n",
      "Epoch 16/100\n",
      "879/879 [==============================] - 0s 63us/sample - loss: 0.0442 - accuracy: 0.9920 - val_loss: 0.2169 - val_accuracy: 0.9418\n",
      "Epoch 17/100\n",
      "879/879 [==============================] - 0s 62us/sample - loss: 0.0419 - accuracy: 0.9932 - val_loss: 0.1951 - val_accuracy: 0.9471\n",
      "Epoch 18/100\n",
      "879/879 [==============================] - 0s 54us/sample - loss: 0.0364 - accuracy: 0.9977 - val_loss: 0.1980 - val_accuracy: 0.9471\n",
      "Epoch 19/100\n",
      "879/879 [==============================] - 0s 56us/sample - loss: 0.0370 - accuracy: 0.9966 - val_loss: 0.1985 - val_accuracy: 0.9444\n",
      "Epoch 20/100\n",
      "879/879 [==============================] - 0s 65us/sample - loss: 0.0319 - accuracy: 0.9977 - val_loss: 0.1728 - val_accuracy: 0.9444\n",
      "Epoch 21/100\n",
      "879/879 [==============================] - 0s 65us/sample - loss: 0.0306 - accuracy: 0.9977 - val_loss: 0.1805 - val_accuracy: 0.9444\n",
      "Epoch 22/100\n",
      "879/879 [==============================] - 0s 54us/sample - loss: 0.0275 - accuracy: 0.9989 - val_loss: 0.1923 - val_accuracy: 0.9444\n",
      "Epoch 23/100\n",
      "879/879 [==============================] - 0s 55us/sample - loss: 0.0273 - accuracy: 0.9977 - val_loss: 0.1734 - val_accuracy: 0.9444\n",
      "Epoch 24/100\n",
      "879/879 [==============================] - 0s 69us/sample - loss: 0.0247 - accuracy: 0.9989 - val_loss: 0.1640 - val_accuracy: 0.9497\n",
      "Epoch 25/100\n",
      "879/879 [==============================] - 0s 61us/sample - loss: 0.0238 - accuracy: 0.9989 - val_loss: 0.1737 - val_accuracy: 0.9471\n",
      "Epoch 26/100\n",
      "879/879 [==============================] - 0s 66us/sample - loss: 0.0222 - accuracy: 1.0000 - val_loss: 0.1648 - val_accuracy: 0.9524\n",
      "Epoch 27/100\n",
      "879/879 [==============================] - 0s 55us/sample - loss: 0.0216 - accuracy: 0.9989 - val_loss: 0.1652 - val_accuracy: 0.9471\n",
      "Epoch 28/100\n",
      "879/879 [==============================] - 0s 54us/sample - loss: 0.0199 - accuracy: 1.0000 - val_loss: 0.1699 - val_accuracy: 0.9497\n",
      "Epoch 29/100\n",
      "879/879 [==============================] - 0s 54us/sample - loss: 0.0188 - accuracy: 0.9989 - val_loss: 0.2186 - val_accuracy: 0.9418\n",
      "Epoch 30/100\n",
      "879/879 [==============================] - 0s 57us/sample - loss: 0.0198 - accuracy: 1.0000 - val_loss: 0.1673 - val_accuracy: 0.9524\n",
      "Epoch 31/100\n",
      "879/879 [==============================] - 0s 56us/sample - loss: 0.0173 - accuracy: 1.0000 - val_loss: 0.1648 - val_accuracy: 0.9497\n",
      "Epoch 32/100\n",
      "879/879 [==============================] - 0s 60us/sample - loss: 0.0170 - accuracy: 1.0000 - val_loss: 0.1672 - val_accuracy: 0.9471\n",
      "Epoch 33/100\n",
      "879/879 [==============================] - 0s 57us/sample - loss: 0.0155 - accuracy: 1.0000 - val_loss: 0.1766 - val_accuracy: 0.9471\n",
      "Epoch 34/100\n",
      "879/879 [==============================] - 0s 56us/sample - loss: 0.0155 - accuracy: 1.0000 - val_loss: 0.1717 - val_accuracy: 0.9497\n"
     ]
    }
   ],
   "source": [
    "history = modelA.fit(X_train, y_train, validation_split = 0.3, epochs = 100, callbacks= [checkpoint_cb, earlystopping_cb])"
   ]
  },
  {
   "cell_type": "code",
   "execution_count": 164,
   "metadata": {},
   "outputs": [],
   "source": [
    "modelA = keras.models.load_model('callbacks/check_point.h5')"
   ]
  },
  {
   "cell_type": "code",
   "execution_count": 165,
   "metadata": {},
   "outputs": [
    {
     "name": "stdout",
     "output_type": "stream",
     "text": [
      "540/540 [==============================] - 0s 184us/sample - loss: 0.1221 - accuracy: 0.9611\n"
     ]
    },
    {
     "data": {
      "text/plain": [
       "[0.12213447281607875, 0.9611111]"
      ]
     },
     "execution_count": 165,
     "metadata": {},
     "output_type": "execute_result"
    }
   ],
   "source": [
    "modelA.evaluate(X_test, y_test)"
   ]
  },
  {
   "cell_type": "code",
   "execution_count": 166,
   "metadata": {},
   "outputs": [
    {
     "data": {
      "text/plain": [
       "(0, 1)"
      ]
     },
     "execution_count": 166,
     "metadata": {},
     "output_type": "execute_result"
    },
    {
     "data": {
      "image/png": "[encoded data removed]",
      "text/plain": [
       "<Figure size 576x360 with 1 Axes>"
      ]
     },
     "metadata": {
      "needs_background": "light"
     },
     "output_type": "display_data"
    }
   ],
   "source": [
    "pd.DataFrame(history.history).plot(figsize = (8, 5))\n",
    "plt.ylim(0, 1)"
   ]
  },
  {
   "cell_type": "code",
   "execution_count": 112,
   "metadata": {},
   "outputs": [
    {
     "name": "stdout",
     "output_type": "stream",
     "text": [
      "0 128\n",
      "1 128\n",
      "2 129\n",
      "3 125\n",
      "4 140\n",
      "5 123\n",
      "6 129\n",
      "7 122\n",
      "8 109\n",
      "9 124\n"
     ]
    }
   ],
   "source": [
    "[print(i, sum(y_train == i)) for i in range(10)][0]"
   ]
  },
  {
   "cell_type": "code",
   "execution_count": 192,
   "metadata": {},
   "outputs": [],
   "source": [
    "y_train_3 = (y_train == 3)\n",
    "y_test_3 = (y_test == 3)"
   ]
  },
  {
   "cell_type": "code",
   "execution_count": 194,
   "metadata": {},
   "outputs": [],
   "source": [
    "modelA_clone = keras.models.clone_model(modelA)\n",
    "modelA_clone.set_weights(modelA.get_weights())\n",
    "\n",
    "modelB = keras.models.Sequential(modelA_clone.layers[: -1])\n",
    "\n",
    "modelB.add(keras.layers.Dense(1, activation = 'sigmoid'))"
   ]
  },
  {
   "cell_type": "code",
   "execution_count": 195,
   "metadata": {},
   "outputs": [],
   "source": [
    "for layer in modelB.layers[:-1]:\n",
    "    layer.trainable = False"
   ]
  },
  {
   "cell_type": "code",
   "execution_count": 196,
   "metadata": {},
   "outputs": [],
   "source": [
    "modelB.compile(loss = 'binary_crossentropy', optimizer = 'sgd', metrics = ['accuracy'])"
   ]
  },
  {
   "cell_type": "code",
   "execution_count": 198,
   "metadata": {},
   "outputs": [
    {
     "name": "stdout",
     "output_type": "stream",
     "text": [
      "Train on 879 samples, validate on 378 samples\n",
      "Epoch 1/5\n",
      "879/879 [==============================] - 0s 510us/sample - loss: 0.7126 - accuracy: 0.8134 - val_loss: 0.1851 - val_accuracy: 0.9206\n",
      "Epoch 2/5\n",
      "879/879 [==============================] - 0s 60us/sample - loss: 0.1697 - accuracy: 0.9397 - val_loss: 0.0956 - val_accuracy: 0.9630\n",
      "Epoch 3/5\n",
      "879/879 [==============================] - 0s 51us/sample - loss: 0.1181 - accuracy: 0.9613 - val_loss: 0.0827 - val_accuracy: 0.9709\n",
      "Epoch 4/5\n",
      "879/879 [==============================] - 0s 55us/sample - loss: 0.1010 - accuracy: 0.9716 - val_loss: 0.0772 - val_accuracy: 0.9709\n",
      "Epoch 5/5\n",
      "879/879 [==============================] - 0s 55us/sample - loss: 0.0882 - accuracy: 0.9761 - val_loss: 0.0663 - val_accuracy: 0.9815\n"
     ]
    }
   ],
   "source": [
    "history = modelB.fit(X_train, y_train_3, epochs = 5, validation_split = 0.3)"
   ]
  },
  {
   "cell_type": "code",
   "execution_count": 199,
   "metadata": {},
   "outputs": [],
   "source": [
    "for layer in modelB.layers[:-1]:\n",
    "    layer.trainable = True"
   ]
  },
  {
   "cell_type": "code",
   "execution_count": 200,
   "metadata": {},
   "outputs": [],
   "source": [
    "checkpoint_cb = keras.callbacks.ModelCheckpoint(filepath = 'callbacks/check_point2.h5', save_best_only=True)\n",
    "earlystopping_cb = keras.callbacks.EarlyStopping(patience = 10, restore_best_weights= True)"
   ]
  },
  {
   "cell_type": "code",
   "execution_count": 202,
   "metadata": {},
   "outputs": [
    {
     "name": "stdout",
     "output_type": "stream",
     "text": [
      "Train on 879 samples, validate on 378 samples\n",
      "Epoch 1/100\n",
      "879/879 [==============================] - 0s 72us/sample - loss: 0.0819 - accuracy: 0.9761 - val_loss: 0.0645 - val_accuracy: 0.9841\n",
      "Epoch 2/100\n",
      "879/879 [==============================] - 0s 483us/sample - loss: 0.0757 - accuracy: 0.9795 - val_loss: 0.0588 - val_accuracy: 0.9815\n",
      "Epoch 3/100\n",
      "879/879 [==============================] - 0s 140us/sample - loss: 0.0727 - accuracy: 0.9807 - val_loss: 0.0584 - val_accuracy: 0.9815\n",
      "Epoch 4/100\n",
      "879/879 [==============================] - 0s 96us/sample - loss: 0.0692 - accuracy: 0.9784 - val_loss: 0.0567 - val_accuracy: 0.9815\n",
      "Epoch 5/100\n",
      "879/879 [==============================] - 0s 74us/sample - loss: 0.0640 - accuracy: 0.9795 - val_loss: 0.0713 - val_accuracy: 0.9762\n",
      "Epoch 6/100\n",
      "879/879 [==============================] - 0s 54us/sample - loss: 0.0632 - accuracy: 0.9841 - val_loss: 0.0589 - val_accuracy: 0.9841\n",
      "Epoch 7/100\n",
      "879/879 [==============================] - 0s 56us/sample - loss: 0.0607 - accuracy: 0.9841 - val_loss: 0.0579 - val_accuracy: 0.9841\n",
      "Epoch 8/100\n",
      "879/879 [==============================] - 0s 168us/sample - loss: 0.0582 - accuracy: 0.9841 - val_loss: 0.0557 - val_accuracy: 0.9841\n",
      "Epoch 9/100\n",
      "879/879 [==============================] - 0s 115us/sample - loss: 0.0556 - accuracy: 0.9863 - val_loss: 0.0555 - val_accuracy: 0.9841\n",
      "Epoch 10/100\n",
      "879/879 [==============================] - 0s 112us/sample - loss: 0.0539 - accuracy: 0.9863 - val_loss: 0.0540 - val_accuracy: 0.9841\n",
      "Epoch 11/100\n",
      "879/879 [==============================] - 0s 130us/sample - loss: 0.0516 - accuracy: 0.9841 - val_loss: 0.0539 - val_accuracy: 0.9841\n",
      "Epoch 12/100\n",
      "879/879 [==============================] - 0s 56us/sample - loss: 0.0517 - accuracy: 0.9863 - val_loss: 0.0603 - val_accuracy: 0.9841\n",
      "Epoch 13/100\n",
      "879/879 [==============================] - 0s 57us/sample - loss: 0.0507 - accuracy: 0.9829 - val_loss: 0.0566 - val_accuracy: 0.9841\n",
      "Epoch 14/100\n",
      "879/879 [==============================] - 0s 54us/sample - loss: 0.0490 - accuracy: 0.9852 - val_loss: 0.0627 - val_accuracy: 0.9815\n",
      "Epoch 15/100\n",
      "879/879 [==============================] - 0s 165us/sample - loss: 0.0479 - accuracy: 0.9852 - val_loss: 0.0535 - val_accuracy: 0.9841\n",
      "Epoch 16/100\n",
      "879/879 [==============================] - 0s 77us/sample - loss: 0.0471 - accuracy: 0.9886 - val_loss: 0.0537 - val_accuracy: 0.9841\n",
      "Epoch 17/100\n",
      "879/879 [==============================] - 0s 62us/sample - loss: 0.0465 - accuracy: 0.9852 - val_loss: 0.0560 - val_accuracy: 0.9841\n",
      "Epoch 18/100\n",
      "879/879 [==============================] - ETA: 0s - loss: 0.0331 - accuracy: 0.96 - 0s 153us/sample - loss: 0.0446 - accuracy: 0.9863 - val_loss: 0.0535 - val_accuracy: 0.9841\n",
      "Epoch 19/100\n",
      "879/879 [==============================] - 0s 122us/sample - loss: 0.0446 - accuracy: 0.9886 - val_loss: 0.0532 - val_accuracy: 0.9841\n",
      "Epoch 20/100\n",
      "879/879 [==============================] - 0s 66us/sample - loss: 0.0435 - accuracy: 0.9886 - val_loss: 0.0558 - val_accuracy: 0.9841\n",
      "Epoch 21/100\n",
      "879/879 [==============================] - 0s 52us/sample - loss: 0.0438 - accuracy: 0.9886 - val_loss: 0.0562 - val_accuracy: 0.9841\n",
      "Epoch 22/100\n",
      "879/879 [==============================] - 0s 170us/sample - loss: 0.0425 - accuracy: 0.9886 - val_loss: 0.0519 - val_accuracy: 0.9815\n",
      "Epoch 23/100\n",
      "879/879 [==============================] - 0s 78us/sample - loss: 0.0426 - accuracy: 0.9886 - val_loss: 0.0520 - val_accuracy: 0.9815\n",
      "Epoch 24/100\n",
      "879/879 [==============================] - 0s 59us/sample - loss: 0.0405 - accuracy: 0.9886 - val_loss: 0.0545 - val_accuracy: 0.9841\n",
      "Epoch 25/100\n",
      "879/879 [==============================] - 0s 57us/sample - loss: 0.0406 - accuracy: 0.9886 - val_loss: 0.0531 - val_accuracy: 0.9841\n",
      "Epoch 26/100\n",
      "879/879 [==============================] - 0s 59us/sample - loss: 0.0407 - accuracy: 0.9886 - val_loss: 0.0525 - val_accuracy: 0.9841\n",
      "Epoch 27/100\n",
      "879/879 [==============================] - 0s 58us/sample - loss: 0.0401 - accuracy: 0.9898 - val_loss: 0.0532 - val_accuracy: 0.9841\n",
      "Epoch 28/100\n",
      "879/879 [==============================] - 0s 61us/sample - loss: 0.0395 - accuracy: 0.9886 - val_loss: 0.0536 - val_accuracy: 0.9841\n",
      "Epoch 29/100\n",
      "879/879 [==============================] - 0s 61us/sample - loss: 0.0394 - accuracy: 0.9898 - val_loss: 0.0545 - val_accuracy: 0.9841\n",
      "Epoch 30/100\n",
      "879/879 [==============================] - 0s 62us/sample - loss: 0.0385 - accuracy: 0.9886 - val_loss: 0.0535 - val_accuracy: 0.9841\n",
      "Epoch 31/100\n",
      "879/879 [==============================] - 0s 57us/sample - loss: 0.0381 - accuracy: 0.9886 - val_loss: 0.0567 - val_accuracy: 0.9841\n",
      "Epoch 32/100\n",
      "879/879 [==============================] - 0s 58us/sample - loss: 0.0380 - accuracy: 0.9898 - val_loss: 0.0533 - val_accuracy: 0.9841\n"
     ]
    }
   ],
   "source": [
    "history = modelB.fit(X_train, y_train_3, epochs = 100, validation_split=0.3, callbacks=[checkpoint_cb, earlystopping_cb])"
   ]
  },
  {
   "cell_type": "code",
   "execution_count": 203,
   "metadata": {},
   "outputs": [
    {
     "name": "stdout",
     "output_type": "stream",
     "text": [
      "540/540 [==============================] - 0s 37us/sample - loss: 0.0510 - accuracy: 0.9778\n"
     ]
    },
    {
     "data": {
      "text/plain": [
       "[0.05095935245906865, 0.9777778]"
      ]
     },
     "execution_count": 203,
     "metadata": {},
     "output_type": "execute_result"
    }
   ],
   "source": [
    "modelB.evaluate(X_test, y_test_3)"
   ]
  },
  {
   "cell_type": "code",
   "execution_count": null,
   "metadata": {},
   "outputs": [],
   "source": []
  }
 ],
 "metadata": {
  "kernelspec": {
   "display_name": "Python 3",
   "language": "python",
   "name": "python3"
  },
  "language_info": {
   "codemirror_mode": {
    "name": "ipython",
    "version": 3
   },
   "file_extension": ".py",
   "mimetype": "text/x-python",
   "name": "python",
   "nbconvert_exporter": "python",
   "pygments_lexer": "ipython3",
   "version": "3.7.3"
  }
 },
 "nbformat": 4,
 "nbformat_minor": 2
}
